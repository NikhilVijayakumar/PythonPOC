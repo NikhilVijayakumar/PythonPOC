{
 "cells": [
  {
   "cell_type": "code",
   "execution_count": 54,
   "id": "29288ad4",
   "metadata": {},
   "outputs": [],
   "source": [
    "import sqlite3\n",
    "import datetime as dt\n",
    "import pandas as pd\n"
   ]
  },
  {
   "cell_type": "code",
   "execution_count": 55,
   "id": "ea63294c",
   "metadata": {},
   "outputs": [],
   "source": [
    "dbname = 'db/ticks_backup2.db'\n",
    "db = sqlite3.connect(dbname)\n",
    "instrument_df = pd.read_csv(\"data/NSE_Instruments.csv\")"
   ]
  },
  {
   "cell_type": "code",
   "execution_count": 56,
   "id": "e140c702",
   "metadata": {},
   "outputs": [],
   "source": [
    "    def getTicker(instrument,startTime=None,endTime=None):\n",
    "        query = '''SELECT * FROM TOKEN_%s ''' % instrument\n",
    "\n",
    "        if (startTime is not None and endTime is not None) :\n",
    "            query += ''' WHERE `ts` >= '%s' ''' % startTime\n",
    "            query += ''' and `ts` <= '%s' ''' %  endTime\n",
    "\n",
    "        query += ''' ;'''\n",
    "        #print(query)\n",
    "        data = pd.read_sql( query, con=db)\n",
    "        data = data.set_index(['ts'])\n",
    "        data.index = pd.to_datetime(data.index)\n",
    "        ticks = data.loc[:, ['price']]\n",
    "        df = ticks['price'].resample('30S').ohlc().dropna()\n",
    "        return df"
   ]
  },
  {
   "cell_type": "code",
   "execution_count": 57,
   "id": "87858436",
   "metadata": {},
   "outputs": [],
   "source": [
    "    def saveTicker(instrument,fielname,startTime=None,endTime=None,index = False):\n",
    "        df = getTicker(instrument,startTime,endTime)\n",
    "        print(\"==========\"+fielname)\n",
    "        print(df)\n",
    "        df.to_csv(fielname, index=index)"
   ]
  },
  {
   "cell_type": "code",
   "execution_count": 58,
   "id": "d6c4893f",
   "metadata": {},
   "outputs": [],
   "source": [
    "    def instrumentLookup(symbol):        \n",
    "        try:\n",
    "            return instrument_df[instrument_df['tradingsymbol'] == symbol].instrument_token.values[0]\n",
    "        except:\n",
    "            return -1"
   ]
  },
  {
   "cell_type": "code",
   "execution_count": 59,
   "id": "8821e9d4",
   "metadata": {},
   "outputs": [],
   "source": [
    "tickerlist = [{'ticker':'TATAMOTORS','name':'data/tata_ticks_backup2.csv' },\n",
    "              {'ticker':'SBIN','name':'data/sbi_ticks_backup2.csv' },    \n",
    "              {'ticker':'VEDL','name':'data/vedl_ticks_backup2.csv' },    \n",
    "              {'ticker':'ZEEL','name':'data/zeel_ticks_backup2.csv' }]"
   ]
  },
  {
   "cell_type": "code",
   "execution_count": 60,
   "id": "05618a62",
   "metadata": {},
   "outputs": [
    {
     "name": "stdout",
     "output_type": "stream",
     "text": [
      "884737\n",
      "                       open    high    low   close\n",
      "ts                                                \n",
      "2021-05-11 09:22:00  310.30  310.60  310.3  310.60\n",
      "2021-05-11 09:22:30  310.50  311.00  310.5  311.00\n",
      "2021-05-11 09:23:00  311.20  311.45  311.0  311.25\n",
      "2021-05-11 09:23:30  311.30  311.50  311.1  311.45\n",
      "2021-05-11 09:24:00  311.40  311.45  310.9  311.15\n",
      "...                     ...     ...    ...     ...\n",
      "2021-05-11 14:00:00  318.65  318.80  318.6  318.75\n",
      "2021-05-11 14:00:30  318.75  318.80  318.5  318.80\n",
      "2021-05-11 14:01:00  318.70  319.00  318.7  318.75\n",
      "2021-05-11 14:01:30  318.85  318.85  318.6  318.60\n",
      "2021-05-11 14:02:00  318.65  318.65  318.6  318.60\n",
      "\n",
      "[561 rows x 4 columns]\n",
      "779521\n",
      "                       open    high     low   close\n",
      "ts                                                 \n",
      "2021-05-11 09:22:00  357.55  357.60  357.40  357.55\n",
      "2021-05-11 09:22:30  357.50  357.60  357.20  357.25\n",
      "2021-05-11 09:23:00  357.45  357.75  357.25  357.70\n",
      "2021-05-11 09:23:30  357.70  358.90  357.70  358.90\n",
      "2021-05-11 09:24:00  358.55  358.80  358.30  358.65\n",
      "...                     ...     ...     ...     ...\n",
      "2021-05-11 14:00:00  363.95  364.00  363.80  364.00\n",
      "2021-05-11 14:00:30  364.00  364.00  363.70  363.70\n",
      "2021-05-11 14:01:00  363.70  363.80  363.60  363.75\n",
      "2021-05-11 14:01:30  363.70  363.85  363.65  363.80\n",
      "2021-05-11 14:02:00  363.80  363.90  363.80  363.90\n",
      "\n",
      "[561 rows x 4 columns]\n",
      "784129\n",
      "                       open    high     low   close\n",
      "ts                                                 \n",
      "2021-05-11 09:22:00  289.35  289.45  289.30  289.40\n",
      "2021-05-11 09:22:30  289.35  289.90  288.75  289.90\n",
      "2021-05-11 09:23:00  289.90  289.90  288.85  289.30\n",
      "2021-05-11 09:23:30  289.30  290.00  289.05  290.00\n",
      "2021-05-11 09:24:00  290.05  290.45  289.80  290.35\n",
      "...                     ...     ...     ...     ...\n",
      "2021-05-11 14:00:00  290.75  290.75  290.65  290.65\n",
      "2021-05-11 14:00:30  290.65  290.80  290.65  290.80\n",
      "2021-05-11 14:01:00  290.75  290.75  290.50  290.65\n",
      "2021-05-11 14:01:30  290.65  290.90  290.60  290.75\n",
      "2021-05-11 14:02:00  290.75  290.75  290.70  290.70\n",
      "\n",
      "[561 rows x 4 columns]\n",
      "975873\n",
      "                       open    high     low   close\n",
      "ts                                                 \n",
      "2021-05-11 09:22:00  187.70  187.90  187.70  187.85\n",
      "2021-05-11 09:22:30  187.65  187.70  187.20  187.30\n",
      "2021-05-11 09:23:00  187.35  187.80  187.35  187.65\n",
      "2021-05-11 09:23:30  187.65  188.20  187.65  188.15\n",
      "2021-05-11 09:24:00  188.20  188.30  187.75  187.75\n",
      "...                     ...     ...     ...     ...\n",
      "2021-05-11 14:00:00  187.20  187.50  187.10  187.50\n",
      "2021-05-11 14:00:30  187.45  187.55  187.40  187.50\n",
      "2021-05-11 14:01:00  187.55  187.55  187.45  187.45\n",
      "2021-05-11 14:01:30  187.45  187.55  187.35  187.35\n",
      "2021-05-11 14:02:00  187.40  187.50  187.35  187.35\n",
      "\n",
      "[561 rows x 4 columns]\n"
     ]
    }
   ],
   "source": [
    " for ticker in tickerlist:\n",
    "        saveTicker(instrumentLookup(ticker['ticker']),ticker['name'])"
   ]
  },
  {
   "cell_type": "code",
   "execution_count": null,
   "id": "965f43b8",
   "metadata": {},
   "outputs": [],
   "source": []
  },
  {
   "cell_type": "code",
   "execution_count": null,
   "id": "27e6f58d",
   "metadata": {},
   "outputs": [],
   "source": []
  }
 ],
 "metadata": {
  "kernelspec": {
   "display_name": "Python 3",
   "language": "python",
   "name": "python3"
  },
  "language_info": {
   "codemirror_mode": {
    "name": "ipython",
    "version": 3
   },
   "file_extension": ".py",
   "mimetype": "text/x-python",
   "name": "python",
   "nbconvert_exporter": "python",
   "pygments_lexer": "ipython3",
   "version": "3.8.8"
  }
 },
 "nbformat": 4,
 "nbformat_minor": 5
}
