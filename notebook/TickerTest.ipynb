{
 "cells": [
  {
   "cell_type": "code",
   "execution_count": 9,
   "metadata": {},
   "outputs": [],
   "source": [
    "import sqlite3\n",
    "import datetime as dt\n",
    "import pandas as pd\n"
   ]
  },
  {
   "cell_type": "code",
   "execution_count": 11,
   "metadata": {},
   "outputs": [],
   "source": [
    "dbname = 'db/ticks_14_05_2021.db'\n",
    "db = sqlite3.connect(dbname)\n",
    "instrument_df = pd.read_csv(\"data/old/NSE_Instruments.csv\")"
   ]
  },
  {
   "cell_type": "code",
   "execution_count": 12,
   "metadata": {},
   "outputs": [],
   "source": [
    "    def getTicker(instrument,startTime=None,endTime=None):\n",
    "        query = '''SELECT * FROM TOKEN_%s ''' % instrument\n",
    "\n",
    "        if (startTime is not None and endTime is not None) :\n",
    "            query += ''' WHERE `ts` >= '%s' ''' % startTime\n",
    "            query += ''' and `ts` <= '%s' ''' %  endTime\n",
    "\n",
    "        query += ''' ;'''\n",
    "        #print(query)\n",
    "        data = pd.read_sql( query, con=db)\n",
    "        data = data.set_index(['ts'])\n",
    "        data.index = pd.to_datetime(data.index)\n",
    "        ticks = data.loc[:, ['price']]\n",
    "        df = ticks['price'].resample('30S').ohlc().dropna()\n",
    "        return df"
   ]
  },
  {
   "cell_type": "code",
   "execution_count": 13,
   "metadata": {},
   "outputs": [],
   "source": [
    "    def saveTicker(instrument,fielname,startTime=None,endTime=None,index = False):\n",
    "        df = getTicker(instrument,startTime,endTime)\n",
    "        print(\"==========\"+fielname)\n",
    "        print(df)\n",
    "        df.to_csv(fielname, index=index)"
   ]
  },
  {
   "cell_type": "code",
   "execution_count": 14,
   "metadata": {},
   "outputs": [],
   "source": [
    "    def instrumentLookup(symbol):        \n",
    "        try:\n",
    "            return instrument_df[instrument_df['tradingsymbol'] == symbol].instrument_token.values[0]\n",
    "        except:\n",
    "            return -1"
   ]
  },
  {
   "cell_type": "code",
   "execution_count": 15,
   "metadata": {},
   "outputs": [],
   "source": [
    "tickerlist = [{'ticker':'TATAMOTORS','name':'data/tata_ticks_backup_14_05_2021.csv' },\n",
    "              {'ticker':'SBIN','name':'data/sbi_ticks_backup_14_05_2021.csv' },    \n",
    "              {'ticker':'VEDL','name':'data/vedl_ticks_backup_14_05_2021.csv' },    \n",
    "              {'ticker':'ZEEL','name':'data/zeel_ticks_backup_14_05_2021.csv' }]"
   ]
  },
  {
   "cell_type": "code",
   "execution_count": 16,
   "metadata": {},
   "outputs": [
    {
     "name": "stdout",
     "output_type": "stream",
     "text": [
      "==========data/tata_ticks_backup_14_05_2021.csv\n",
      "                       open    high     low   close\n",
      "ts                                                 \n",
      "2021-05-14 10:09:30  325.25  325.35  325.25  325.35\n",
      "2021-05-14 10:10:00  325.35  325.40  325.15  325.25\n",
      "2021-05-14 10:10:30  325.10  325.10  324.50  324.75\n",
      "2021-05-14 10:11:00  324.80  325.00  324.70  324.85\n",
      "2021-05-14 10:11:30  324.85  325.25  324.85  325.00\n",
      "...                     ...     ...     ...     ...\n",
      "2021-05-14 15:14:30  312.40  312.50  312.25  312.25\n",
      "2021-05-14 15:15:00  312.25  312.75  312.25  312.75\n",
      "2021-05-14 15:15:30  312.70  312.75  312.30  312.40\n",
      "2021-05-14 15:16:00  312.40  312.40  312.00  312.05\n",
      "2021-05-14 15:16:30  312.05  312.15  312.00  312.10\n",
      "\n",
      "[615 rows x 4 columns]\n",
      "==========data/sbi_ticks_backup_14_05_2021.csv\n",
      "                       open    high     low   close\n",
      "ts                                                 \n",
      "2021-05-14 10:09:30  371.00  371.00  370.85  371.00\n",
      "2021-05-14 10:10:00  370.85  371.20  370.85  371.15\n",
      "2021-05-14 10:10:30  371.20  371.20  371.00  371.10\n",
      "2021-05-14 10:11:00  371.00  371.15  370.95  370.95\n",
      "2021-05-14 10:11:30  371.00  371.20  371.00  371.10\n",
      "...                     ...     ...     ...     ...\n",
      "2021-05-14 15:14:30  360.45  360.45  360.20  360.40\n",
      "2021-05-14 15:15:00  360.40  360.50  360.25  360.50\n",
      "2021-05-14 15:15:30  360.60  360.60  360.40  360.55\n",
      "2021-05-14 15:16:00  360.55  360.55  360.25  360.35\n",
      "2021-05-14 15:16:30  360.25  360.40  360.25  360.30\n",
      "\n",
      "[615 rows x 4 columns]\n",
      "==========data/vedl_ticks_backup_14_05_2021.csv\n",
      "                       open    high     low   close\n",
      "ts                                                 \n",
      "2021-05-14 10:09:30  284.70  284.70  284.70  284.70\n",
      "2021-05-14 10:10:00  284.60  285.00  284.60  285.00\n",
      "2021-05-14 10:10:30  284.75  284.95  284.50  284.70\n",
      "2021-05-14 10:11:00  284.80  285.20  284.75  284.75\n",
      "2021-05-14 10:11:30  284.80  285.10  284.65  285.00\n",
      "...                     ...     ...     ...     ...\n",
      "2021-05-14 15:14:30  271.80  271.90  271.65  271.70\n",
      "2021-05-14 15:15:00  271.75  272.15  271.70  271.90\n",
      "2021-05-14 15:15:30  272.15  272.65  272.15  272.65\n",
      "2021-05-14 15:16:00  272.65  272.65  272.35  272.45\n",
      "2021-05-14 15:16:30  272.35  272.40  272.30  272.30\n",
      "\n",
      "[615 rows x 4 columns]\n",
      "==========data/zeel_ticks_backup_14_05_2021.csv\n",
      "                       open    high     low   close\n",
      "ts                                                 \n",
      "2021-05-14 10:09:30  193.10  193.10  193.10  193.10\n",
      "2021-05-14 10:10:00  193.10  193.15  193.00  193.10\n",
      "2021-05-14 10:10:30  193.05  193.10  192.85  192.95\n",
      "2021-05-14 10:11:00  192.90  192.90  192.70  192.70\n",
      "2021-05-14 10:11:30  192.60  192.65  192.40  192.45\n",
      "...                     ...     ...     ...     ...\n",
      "2021-05-14 15:14:30  191.55  191.75  191.40  191.65\n",
      "2021-05-14 15:15:00  191.65  191.80  191.50  191.55\n",
      "2021-05-14 15:15:30  191.60  191.65  191.50  191.50\n",
      "2021-05-14 15:16:00  191.60  191.60  191.25  191.35\n",
      "2021-05-14 15:16:30  191.40  191.40  191.35  191.40\n",
      "\n",
      "[615 rows x 4 columns]\n"
     ]
    }
   ],
   "source": [
    " for ticker in tickerlist:\n",
    "        saveTicker(instrumentLookup(ticker['ticker']),ticker['name'])"
   ]
  },
  {
   "cell_type": "code",
   "execution_count": null,
   "metadata": {},
   "outputs": [],
   "source": []
  },
  {
   "cell_type": "code",
   "execution_count": null,
   "metadata": {},
   "outputs": [],
   "source": []
  }
 ],
 "metadata": {
  "kernelspec": {
   "display_name": "Python 3",
   "language": "python",
   "name": "python3"
  },
  "language_info": {
   "codemirror_mode": {
    "name": "ipython",
    "version": 3
   },
   "file_extension": ".py",
   "mimetype": "text/x-python",
   "name": "python",
   "nbconvert_exporter": "python",
   "pygments_lexer": "ipython3",
   "version": "3.8.5"
  }
 },
 "nbformat": 4,
 "nbformat_minor": 5
}
