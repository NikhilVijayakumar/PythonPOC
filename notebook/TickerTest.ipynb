{
 "cells": [
  {
   "cell_type": "code",
   "execution_count": 1,
   "metadata": {},
   "outputs": [],
   "source": [
    "import sqlite3\n",
    "import datetime as dt\n",
    "import pandas as pd\n"
   ]
  },
  {
   "cell_type": "code",
   "execution_count": 2,
   "metadata": {},
   "outputs": [],
   "source": [
    "dbname = 'db/ticks_backup3.db'\n",
    "db = sqlite3.connect(dbname)\n",
    "instrument_df = pd.read_csv(\"data/NSE_Instruments.csv\")"
   ]
  },
  {
   "cell_type": "code",
   "execution_count": 3,
   "metadata": {},
   "outputs": [],
   "source": [
    "    def getTicker(instrument,startTime=None,endTime=None):\n",
    "        query = '''SELECT * FROM TOKEN_%s ''' % instrument\n",
    "\n",
    "        if (startTime is not None and endTime is not None) :\n",
    "            query += ''' WHERE `ts` >= '%s' ''' % startTime\n",
    "            query += ''' and `ts` <= '%s' ''' %  endTime\n",
    "\n",
    "        query += ''' ;'''\n",
    "        #print(query)\n",
    "        data = pd.read_sql( query, con=db)\n",
    "        data = data.set_index(['ts'])\n",
    "        data.index = pd.to_datetime(data.index)\n",
    "        ticks = data.loc[:, ['price']]\n",
    "        df = ticks['price'].resample('30S').ohlc().dropna()\n",
    "        return df"
   ]
  },
  {
   "cell_type": "code",
   "execution_count": 4,
   "metadata": {},
   "outputs": [],
   "source": [
    "    def saveTicker(instrument,fielname,startTime=None,endTime=None,index = False):\n",
    "        df = getTicker(instrument,startTime,endTime)\n",
    "        print(\"==========\"+fielname)\n",
    "        print(df)\n",
    "        df.to_csv(fielname, index=index)"
   ]
  },
  {
   "cell_type": "code",
   "execution_count": 5,
   "metadata": {},
   "outputs": [],
   "source": [
    "    def instrumentLookup(symbol):        \n",
    "        try:\n",
    "            return instrument_df[instrument_df['tradingsymbol'] == symbol].instrument_token.values[0]\n",
    "        except:\n",
    "            return -1"
   ]
  },
  {
   "cell_type": "code",
   "execution_count": 6,
   "metadata": {},
   "outputs": [],
   "source": [
    "tickerlist = [{'ticker':'TATAMOTORS','name':'data/tata_ticks_backup3.csv' },\n",
    "              {'ticker':'SBIN','name':'data/sbi_ticks_backup3.csv' },    \n",
    "              {'ticker':'VEDL','name':'data/vedl_ticks_backup3.csv' },    \n",
    "              {'ticker':'ZEEL','name':'data/zeel_ticks_backup3.csv' }]"
   ]
  },
  {
   "cell_type": "code",
   "execution_count": 7,
   "metadata": {},
   "outputs": [
    {
     "name": "stdout",
     "output_type": "stream",
     "text": [
      "==========data/tata_ticks_backup3.csv\n",
      "                       open    high     low   close\n",
      "ts                                                 \n",
      "2021-05-12 09:25:00  320.65  320.70  320.65  320.70\n",
      "2021-05-12 09:25:30  320.80  321.00  320.25  320.60\n",
      "2021-05-12 09:26:00  320.50  320.70  320.30  320.55\n",
      "2021-05-12 09:26:30  320.55  320.60  320.25  320.25\n",
      "2021-05-12 09:27:00  320.25  321.40  320.25  321.25\n",
      "...                     ...     ...     ...     ...\n",
      "2021-05-12 15:29:30  326.25  326.30  325.70  325.85\n",
      "2021-05-12 15:30:00  325.55  325.55  325.55  325.55\n",
      "2021-05-12 15:30:30  325.55  325.55  325.55  325.55\n",
      "2021-05-12 15:31:00  326.00  326.00  326.00  326.00\n",
      "2021-05-12 15:33:30  326.00  326.00  326.00  326.00\n",
      "\n",
      "[734 rows x 4 columns]\n",
      "==========data/sbi_ticks_backup3.csv\n",
      "                       open    high     low   close\n",
      "ts                                                 \n",
      "2021-05-12 09:25:00  365.70  365.80  365.65  365.65\n",
      "2021-05-12 09:25:30  365.80  365.80  365.40  365.60\n",
      "2021-05-12 09:26:00  365.50  365.50  365.00  365.05\n",
      "2021-05-12 09:26:30  365.10  365.20  365.00  365.00\n",
      "2021-05-12 09:27:00  365.10  365.15  365.00  365.15\n",
      "...                     ...     ...     ...     ...\n",
      "2021-05-12 15:29:30  367.70  367.80  367.60  367.75\n",
      "2021-05-12 15:30:00  367.75  367.75  367.75  367.75\n",
      "2021-05-12 15:30:30  367.75  367.75  367.75  367.75\n",
      "2021-05-12 15:31:00  367.70  367.70  367.70  367.70\n",
      "2021-05-12 15:33:30  367.70  367.70  367.70  367.70\n",
      "\n",
      "[734 rows x 4 columns]\n",
      "==========data/vedl_ticks_backup3.csv\n",
      "                       open    high     low   close\n",
      "ts                                                 \n",
      "2021-05-12 09:25:00  291.50  291.95  291.50  291.85\n",
      "2021-05-12 09:25:30  291.75  291.95  291.35  291.35\n",
      "2021-05-12 09:26:00  291.50  291.55  290.70  290.80\n",
      "2021-05-12 09:26:30  290.90  290.90  290.10  290.20\n",
      "2021-05-12 09:27:00  290.10  290.25  289.85  289.90\n",
      "...                     ...     ...     ...     ...\n",
      "2021-05-12 15:29:30  283.60  284.25  283.50  284.00\n",
      "2021-05-12 15:30:00  283.60  283.60  283.60  283.60\n",
      "2021-05-12 15:30:30  283.60  283.60  283.60  283.60\n",
      "2021-05-12 15:31:00  282.10  282.10  282.10  282.10\n",
      "2021-05-12 15:33:30  282.10  282.10  282.10  282.10\n",
      "\n",
      "[734 rows x 4 columns]\n",
      "==========data/zeel_ticks_backup3.csv\n",
      "                       open    high     low   close\n",
      "ts                                                 \n",
      "2021-05-12 09:25:00  185.30  185.40  185.30  185.30\n",
      "2021-05-12 09:25:30  185.30  185.50  185.10  185.30\n",
      "2021-05-12 09:26:00  185.45  185.55  185.30  185.55\n",
      "2021-05-12 09:26:30  185.50  185.60  185.45  185.45\n",
      "2021-05-12 09:27:00  185.50  185.65  185.50  185.65\n",
      "...                     ...     ...     ...     ...\n",
      "2021-05-12 15:29:30  192.55  192.75  192.55  192.75\n",
      "2021-05-12 15:30:00  192.75  192.75  192.75  192.75\n",
      "2021-05-12 15:30:30  192.75  192.75  192.75  192.75\n",
      "2021-05-12 15:31:00  193.00  193.00  193.00  193.00\n",
      "2021-05-12 15:33:30  193.00  193.00  193.00  193.00\n",
      "\n",
      "[734 rows x 4 columns]\n"
     ]
    }
   ],
   "source": [
    " for ticker in tickerlist:\n",
    "        saveTicker(instrumentLookup(ticker['ticker']),ticker['name'])"
   ]
  },
  {
   "cell_type": "code",
   "execution_count": null,
   "metadata": {},
   "outputs": [],
   "source": []
  },
  {
   "cell_type": "code",
   "execution_count": null,
   "metadata": {},
   "outputs": [],
   "source": []
  }
 ],
 "metadata": {
  "kernelspec": {
   "display_name": "Python 3",
   "language": "python",
   "name": "python3"
  },
  "language_info": {
   "codemirror_mode": {
    "name": "ipython",
    "version": 3
   },
   "file_extension": ".py",
   "mimetype": "text/x-python",
   "name": "python",
   "nbconvert_exporter": "python",
   "pygments_lexer": "ipython3",
   "version": "3.8.5"
  }
 },
 "nbformat": 4,
 "nbformat_minor": 5
}
