{
 "cells": [
  {
   "cell_type": "code",
   "execution_count": 83,
   "id": "292749dd",
   "metadata": {},
   "outputs": [],
   "source": [
    "import pandas as pd\n",
    "import random\n",
    "import numpy as np\n",
    "import os\n",
    "import warnings\n",
    "import joblib\n",
    "from sklearn.model_selection import train_test_split\n",
    "from sklearn.linear_model import LogisticRegression\n",
    "from sklearn.linear_model import LinearRegression\n",
    "from sklearn import metrics\n",
    "from sklearn.preprocessing import StandardScaler\n",
    "from sklearn.metrics import classification_report\n",
    "from sklearn import preprocessing\n",
    "warnings.filterwarnings('ignore')\n",
    "from sklearn.neural_network import MLPClassifier"
   ]
  },
  {
   "cell_type": "code",
   "execution_count": 84,
   "id": "25f6758c",
   "metadata": {},
   "outputs": [],
   "source": [
    "def save(data,name,index=False):\n",
    "        data.to_csv(name, index=index)"
   ]
  },
  {
   "cell_type": "code",
   "execution_count": 12,
   "id": "7327cc43",
   "metadata": {},
   "outputs": [],
   "source": [
    "def save_model(model, joblib_file):\n",
    "    display(\"Saving model\")\n",
    "    if os.path.exists(joblib_file):\n",
    "        os.remove(joblib_file)\n",
    "    joblib.dump(model, joblib_file)"
   ]
  },
  {
   "cell_type": "code",
   "execution_count": 13,
   "id": "ec8f2773",
   "metadata": {},
   "outputs": [],
   "source": [
    "def load_model(joblib_file):\n",
    "    display(\"Loading model\")\n",
    "    return joblib.load(joblib_file)"
   ]
  },
  {
   "cell_type": "code",
   "execution_count": 14,
   "id": "67d7db45",
   "metadata": {},
   "outputs": [],
   "source": [
    "def create_logistic_regression_model(x_train, x_test, y_train, y_test):  \n",
    "    display(\"Training model Started\")\n",
    "    logistic_regression = LogisticRegression()\n",
    "    logistic_regression.fit(x_train,y_train)\n",
    "    display(\"Training model Completed\")\n",
    "    score = logistic_regression.score(x_test,y_test)\n",
    "    predictions = logistic_regression.predict(x_test)\n",
    "    display(\"Test score: {0:.2f} %\".format(100 * score))    \n",
    "    display('MAE:', metrics.mean_absolute_error(y_test, predictions))\n",
    "    display('MSE:', metrics.mean_squared_error(y_test, predictions))\n",
    "    display('RMSE:', np.sqrt(metrics.mean_squared_error(y_test, predictions)))\n",
    "    return logistic_regression"
   ]
  },
  {
   "cell_type": "code",
   "execution_count": 75,
   "id": "d6042635",
   "metadata": {},
   "outputs": [],
   "source": [
    "def split_train_data(data):\n",
    "    \n",
    "    column = ['current_open', 'current_high', 'current_low',\n",
    "       'current_close', 'current_volume', 'current_candle', 'current_head',\n",
    "       'current_reversal_value', 'current_spread', 'current_tail',\n",
    "       'current_trend', 'current_trend_value', 'last_three_candle',\n",
    "       'last_three_close', 'last_three_head', 'last_three_high',\n",
    "       'last_three_low', 'last_three_open', 'last_three_reversal_value',\n",
    "       'last_three_spread', 'last_three_tail', 'last_three_trend',\n",
    "       'last_three_trend_value', 'last_three_volume', 'last_two_candle',\n",
    "       'last_two_close', 'last_two_head', 'last_two_high', 'last_two_low',\n",
    "       'last_two_open', 'last_two_reversal_value', 'last_two_spread',\n",
    "       'last_two_tail', 'last_two_trend', 'last_two_trend_value',\n",
    "       'last_two_volume', 'previous_candle', 'previous_close',\n",
    "       'previous_head', 'previous_high', 'previous_low', 'previous_open',\n",
    "       'previous_reversal_value', 'previous_spread', 'previous_tail',\n",
    "       'previous_trend', 'previous_trend_value', 'previous_volume']    \n",
    "    \n",
    "    x = data[column]\n",
    "    y = data['next_candle']     \n",
    "\n",
    "    cols_to_norm = x.columns   \n",
    "    x[cols_to_norm] = StandardScaler().fit_transform(x[cols_to_norm])\n",
    "    return train_test_split(x, y, test_size=0.3)"
   ]
  },
  {
   "cell_type": "code",
   "execution_count": 76,
   "id": "04408fda",
   "metadata": {},
   "outputs": [],
   "source": [
    "file_name = \"E:\\\\Workspace\\\\Python\\\\PythonPOC\\\\notebook\\\\data\\\\last_60\\\\17_05_2021\\\\output_data\\\\WIPRO_17_05_2021_last_60.csv\"\n",
    "data = pd.read_csv(file_name)\n"
   ]
  },
  {
   "cell_type": "code",
   "execution_count": 79,
   "id": "aef4dcd5",
   "metadata": {},
   "outputs": [],
   "source": [
    "x_train, x_test, y_train, y_test = split_train_data(data)\n"
   ]
  },
  {
   "cell_type": "code",
   "execution_count": 78,
   "id": "e4f14cc8",
   "metadata": {},
   "outputs": [],
   "source": [
    "\n",
    "\n",
    "# data['current_trend'] = le.fit(data['current_trend'])\n",
    "# data['previous_candle'] = le.fit(data['previous_candle'])\n",
    "# data['previous_trend'] = le.fit(data['previous_trend'])\n",
    "# data['previous_trend'] = le.fit(data['previous_trend'])\n",
    "# data['last_two_candle'] = le.fit(data['last_two_candle'])\n",
    "# data['last_three_candle'] = le.fit(data['last_three_candle'])\n",
    "# data['last_two_trend'] = le.fit(data['last_two_trend'])\n",
    "# data['last_three_trend'] = le.fit(data['last_three_trend'])"
   ]
  },
  {
   "cell_type": "code",
   "execution_count": 82,
   "id": "8c837598",
   "metadata": {},
   "outputs": [
    {
     "data": {
      "text/plain": [
       "'Training model Started'"
      ]
     },
     "metadata": {},
     "output_type": "display_data"
    },
    {
     "data": {
      "text/plain": [
       "'Training model Completed'"
      ]
     },
     "metadata": {},
     "output_type": "display_data"
    },
    {
     "data": {
      "text/plain": [
       "'Test score: 47.74 %'"
      ]
     },
     "metadata": {},
     "output_type": "display_data"
    },
    {
     "data": {
      "text/plain": [
       "'MAE:'"
      ]
     },
     "metadata": {},
     "output_type": "display_data"
    },
    {
     "data": {
      "text/plain": [
       "0.5665808565410718"
      ]
     },
     "metadata": {},
     "output_type": "display_data"
    },
    {
     "data": {
      "text/plain": [
       "'MSE:'"
      ]
     },
     "metadata": {},
     "output_type": "display_data"
    },
    {
     "data": {
      "text/plain": [
       "0.6545752398783057"
      ]
     },
     "metadata": {},
     "output_type": "display_data"
    },
    {
     "data": {
      "text/plain": [
       "'RMSE:'"
      ]
     },
     "metadata": {},
     "output_type": "display_data"
    },
    {
     "data": {
      "text/plain": [
       "0.8090582425748505"
      ]
     },
     "metadata": {},
     "output_type": "display_data"
    }
   ],
   "source": [
    "logistic_regression = create_logistic_regression_model(x_train, x_test, y_train, y_test)\n",
    "\n"
   ]
  },
  {
   "cell_type": "code",
   "execution_count": 81,
   "id": "52a4be5f",
   "metadata": {},
   "outputs": [
    {
     "data": {
      "text/plain": [
       "'Saving model'"
      ]
     },
     "metadata": {},
     "output_type": "display_data"
    }
   ],
   "source": [
    "joblib_file = \"E:\\\\Workspace\\\\Python\\\\PythonPOC\\\\notebook\\\\data\\\\test_data\\\\model\\\\trend.nik\"\n",
    "save_model(logistic_regression,joblib_file)"
   ]
  },
  {
   "cell_type": "code",
   "execution_count": 86,
   "id": "cc612539",
   "metadata": {},
   "outputs": [],
   "source": [
    "\n",
    "clf = MLPClassifier(random_state=1, max_iter=300).fit(x_train, y_train)"
   ]
  },
  {
   "cell_type": "code",
   "execution_count": 87,
   "id": "499793dd",
   "metadata": {},
   "outputs": [
    {
     "data": {
      "text/plain": [
       "0.4647788439035806"
      ]
     },
     "execution_count": 87,
     "metadata": {},
     "output_type": "execute_result"
    }
   ],
   "source": [
    "clf.score(x_test, y_test)"
   ]
  },
  {
   "cell_type": "code",
   "execution_count": 88,
   "id": "93022668",
   "metadata": {},
   "outputs": [
    {
     "data": {
      "text/plain": [
       "'Saving model'"
      ]
     },
     "metadata": {},
     "output_type": "display_data"
    }
   ],
   "source": [
    "joblib_file = \"E:\\\\Workspace\\\\Python\\\\PythonPOC\\\\notebook\\\\data\\\\test_data\\\\model\\\\trend_nn.nik\"\n",
    "save_model(logistic_regression,joblib_file)"
   ]
  },
  {
   "cell_type": "code",
   "execution_count": null,
   "id": "4276e38c",
   "metadata": {},
   "outputs": [],
   "source": []
  }
 ],
 "metadata": {
  "kernelspec": {
   "display_name": "Python 3",
   "language": "python",
   "name": "python3"
  },
  "language_info": {
   "codemirror_mode": {
    "name": "ipython",
    "version": 3
   },
   "file_extension": ".py",
   "mimetype": "text/x-python",
   "name": "python",
   "nbconvert_exporter": "python",
   "pygments_lexer": "ipython3",
   "version": "3.8.10"
  }
 },
 "nbformat": 4,
 "nbformat_minor": 5
}
