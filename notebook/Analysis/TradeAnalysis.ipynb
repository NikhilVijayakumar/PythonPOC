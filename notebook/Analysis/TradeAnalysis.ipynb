{
 "cells": [
  {
   "cell_type": "code",
   "execution_count": 49,
   "id": "9ec7f8e3",
   "metadata": {},
   "outputs": [
    {
     "data": {
      "text/html": [
       "        <script type=\"text/javascript\">\n",
       "        window.PlotlyConfig = {MathJaxConfig: 'local'};\n",
       "        if (window.MathJax) {MathJax.Hub.Config({SVG: {font: \"STIX-Web\"}});}\n",
       "        if (typeof require !== 'undefined') {\n",
       "        require.undef(\"plotly\");\n",
       "        requirejs.config({\n",
       "            paths: {\n",
       "                'plotly': ['https://cdn.plot.ly/plotly-latest.min']\n",
       "            }\n",
       "        });\n",
       "        require(['plotly'], function(Plotly) {\n",
       "            window._Plotly = Plotly;\n",
       "        });\n",
       "        }\n",
       "        </script>\n",
       "        "
      ]
     },
     "metadata": {},
     "output_type": "display_data"
    }
   ],
   "source": [
    "import pandas as pd\n",
    "import os\n",
    "from datetime import datetime, timedelta\n",
    "import talib\n",
    "import pandas as pd\n",
    "import numpy as np\n",
    "import cufflinks as cf\n",
    "from plotly.offline import init_notebook_mode, iplot\n",
    "import plotly.express as px\n",
    "import plotly.graph_objs as go\n",
    "import warnings\n",
    "import enum\n",
    "warnings.filterwarnings('ignore')\n",
    "init_notebook_mode(connected=True) \n",
    "import sqlite3"
   ]
  },
  {
   "cell_type": "code",
   "execution_count": 50,
   "id": "b5ec42ec",
   "metadata": {},
   "outputs": [],
   "source": [
    "tradingList = {\n",
    "    \"HINDPETRO\": {\"price\": 262.25, \"leverage\": 10},\n",
    "    \"HINDZINC\": {\"price\": 317.10, \"leverage\": 10},\n",
    "    \"SBIN\": {\"price\": 364.65, \"leverage\": 9},\n",
    "    \"ICICIBANK\": {\"price\": 594.75, \"leverage\": 9},\n",
    "    \"WIPRO\": {\"price\": 507.60, \"leverage\": 9},\n",
    "    \"ITC\": {\"price\": 203.25, \"leverage\": 9},\n",
    "    \"BHARTIARTL\": {\"price\": 561.75, \"leverage\": 9},\n",
    "    \"IOC\": {\"price\": 102.80, \"leverage\": 9},\n",
    "    \"ONGC\": {\"price\": 115.10, \"leverage\": 9},\n",
    "    \"DABUR\": {\"price\": 529.20, \"leverage\": 9},\n",
    "    \"GAIL\": {\"price\": 161.05, \"leverage\": 9},\n",
    "    \"TATACONSUM\": {\"price\": 640.05, \"leverage\": 9},\n",
    "    \"AMBUJACEM\": {\"price\": 309.05, \"leverage\": 9},\n",
    "    \"DLF\": {\"price\": 265.30, \"leverage\": 8},\n",
    "    \"TATAPOWER\": {\"price\": 109.35, \"leverage\": 8},\n",
    "    \"TATAMOTORS\": {\"price\": 315.55, \"leverage\": 7}\n",
    "}\n",
    "\n",
    "tickerList = list(tradingList.keys())\n",
    "db_hammer = \"E:\\\\Workspace\\\\Python\\\\PythonPOC\\\\notebook\\\\data\\\\db\\\\hammer\\\\statistics.db\"\n",
    "data_directory = \"E:\\\\Workspace\\\\Python\\\\PythonPOC\\\\notebook\\\\data\\\\test_data\\\\hammer\\\\\"\n"
   ]
  },
  {
   "cell_type": "code",
   "execution_count": 51,
   "id": "a974c22b",
   "metadata": {},
   "outputs": [],
   "source": [
    "class Trend(enum.Enum):\n",
    "    strong_uptrend = 1\n",
    "    uptrend = 2\n",
    "    strong_downtrend = 3\n",
    "    downtrend = 4\n",
    "    uptrend_reversal = 5\n",
    "    downtrend_reversal = 6\n",
    "    strong_uptrend_reversal = 7\n",
    "    strong_downtrend_reversal = 8\n",
    "    sidetrend = 9"
   ]
  },
  {
   "cell_type": "code",
   "execution_count": 52,
   "id": "e45ffbf4",
   "metadata": {},
   "outputs": [],
   "source": [
    "class Candle(enum.Enum):\n",
    "    red = 1\n",
    "    green = 2\n",
    "    doji = 3"
   ]
  },
  {
   "cell_type": "code",
   "execution_count": 53,
   "id": "fba3be5e",
   "metadata": {},
   "outputs": [],
   "source": [
    "class CandleHelper:\n",
    "\n",
    "    def __init__(self, count=4):\n",
    "        self.count = count\n",
    "        self.index = 0\n",
    "\n",
    "    def is_doji_candle(self, candle):\n",
    "        return candle == Candle.doji\n",
    "\n",
    "    def is_green_candle(self, candle):\n",
    "        return candle == Candle.green\n",
    "\n",
    "    def is_red_candle(self, candle):\n",
    "        return candle == Candle.red\n",
    "\n",
    "    def get_last_candle(self, data):\n",
    "        if data['close'].values > data['open'].values:\n",
    "            return Candle.green\n",
    "        if data['close'].values < data['open'].values:\n",
    "            return Candle.red\n",
    "        return Candle.doji\n",
    "\n",
    "    def get_candle_details(self, data):\n",
    "        candle_data = data.tail(4)\n",
    "        current = self.get_last_candle(candle_data.tail(1))\n",
    "        previous = self.get_last_candle(candle_data.tail(2).head(1))\n",
    "        last_two = self.get_last_candle(candle_data.tail(3).head(1))\n",
    "        last_three = self.get_last_candle(candle_data.head(1))\n",
    "        return current, previous, last_two, last_three\n",
    "\n",
    "    def trend_strength(self, data, trend):\n",
    "        candle_data = data.tail(4)\n",
    "        current = candle_data.tail(1)\n",
    "        previous = candle_data.tail(2).head(1)\n",
    "        last_two = candle_data.tail(3).head(1)\n",
    "        last_three = candle_data.head(1)\n",
    "        reversal_value = 0\n",
    "        if trend == Trend.strong_uptrend:\n",
    "            trend_value = abs(round((last_three['close'].values - current['open'].values)[0], 2))\n",
    "        elif trend == Trend.uptrend:\n",
    "            trend_value = abs(round((last_two['close'].values - current['open'].values)[0], 2))\n",
    "        elif trend == Trend.strong_downtrend:\n",
    "            trend_value = abs(round((last_three['close'].values - current['open'].values)[0], 2))\n",
    "        elif trend == Trend.downtrend:\n",
    "            trend_value = abs(round((last_two['close'].values - current['open'].values)[0], 2))\n",
    "        elif trend == Trend.uptrend_reversal:\n",
    "            trend_value = abs(round((last_two['close'].values - previous['open'].values)[0], 2))\n",
    "            reversal_value = abs(round((current['close'].values - previous['open'].values)[0], 2))\n",
    "        elif trend == Trend.downtrend_reversal:\n",
    "            trend_value = abs(round((last_two['close'].values - previous['open'].values)[0], 2))\n",
    "            reversal_value = abs(round((current['close'].values - previous['open'].values)[0], 2))\n",
    "        elif trend == Trend.strong_uptrend_reversal:\n",
    "            trend_value = abs(round((last_three['close'].values - previous['open'].values)[0], 2))\n",
    "            reversal_value = abs(round((current['close'].values - previous['open'].values)[0], 2))\n",
    "        elif trend == Trend.strong_downtrend_reversal:\n",
    "            trend_value = abs(round((last_three['close'].values - previous['open'].values)[0], 2))\n",
    "            reversal_value = abs(round((current['close'].values - previous['open'].values)[0], 2))\n",
    "        else:\n",
    "            trend_value = 0\n",
    "            reversal_value = 0\n",
    "        return trend_value, reversal_value\n",
    "\n",
    "    def get_trends(self, data):\n",
    "        current, previous, last_two, last_three = self.get_candle_details(data)\n",
    "        trend = Trend.sidetrend\n",
    "        if (self.is_green_candle(current) or self.is_doji_candle(current)) and (\n",
    "                self.is_green_candle(previous) or self.is_doji_candle(previous)):\n",
    "            if self.is_green_candle(last_two) or self.is_doji_candle(last_two):\n",
    "                if self.is_green_candle(last_three) or self.is_doji_candle(last_three):\n",
    "                    trend = Trend.strong_uptrend\n",
    "                else:\n",
    "                    trend = Trend.uptrend\n",
    "        elif (self.is_red_candle(current) or self.is_doji_candle(current)) and (\n",
    "                self.is_red_candle(previous) or self.is_doji_candle(previous)):\n",
    "            if self.is_red_candle(last_two) or self.is_doji_candle(last_two):\n",
    "                if self.is_red_candle(last_three) or self.is_doji_candle(last_three):\n",
    "                    trend = Trend.strong_downtrend\n",
    "                else:\n",
    "                    trend = Trend.downtrend\n",
    "        elif self.is_red_candle(current) and (self.is_green_candle(previous) or self.is_doji_candle(previous)):\n",
    "            if self.is_green_candle(last_two) or self.is_doji_candle(last_two):\n",
    "                if self.is_green_candle(last_three) or self.is_doji_candle(last_three):\n",
    "                    trend = Trend.strong_uptrend_reversal\n",
    "                else:\n",
    "                    trend = Trend.uptrend_reversal\n",
    "        elif self.is_green_candle(current) and (self.is_red_candle(previous) or self.is_doji_candle(previous)):\n",
    "            if self.is_red_candle(last_two) or self.is_doji_candle(last_two):\n",
    "                if self.is_red_candle(last_three) or self.is_doji_candle(last_three):\n",
    "                    trend = Trend.strong_downtrend_reversal\n",
    "                else:\n",
    "                    trend = Trend.downtrend_reversal\n",
    "        else:\n",
    "            trend = Trend.sidetrend\n",
    "        trend_value, reversal_value = self.trend_strength(data, trend)\n",
    "        return trend, trend_value, reversal_value\n",
    "\n",
    "    def get_next_candle(self,data):\n",
    "        candle_data = data.tail(1)\n",
    "        self.index +=1\n",
    "        return self.get_last_candle(candle_data)"
   ]
  },
  {
   "cell_type": "code",
   "execution_count": 88,
   "id": "264c839d",
   "metadata": {},
   "outputs": [],
   "source": [
    "def candle_graph(data,ticker):\n",
    "    Candle = go.Candlestick(x=data.index,\n",
    "                       open=data.open,\n",
    "                       high=data.high,\n",
    "                       low=data.low,\n",
    "                       close=data.close\n",
    "                       )  \n",
    "    \n",
    "                   \n",
    "    iplot([Candle])"
   ]
  },
  {
   "cell_type": "code",
   "execution_count": 121,
   "id": "55f159fa",
   "metadata": {},
   "outputs": [],
   "source": [
    "def graph(data,ticker):    \n",
    "    pattern_data = pd.DataFrame(columns=['x','Marker','Symbol','Color'])   \n",
    "    start = pd.DataFrame(columns=['x','Marker','Symbol','Color'])\n",
    "    end = pd.DataFrame(columns=['x','Marker','Symbol','Color'])\n",
    "    helper = CandleHelper()    \n",
    "    next_long_pattern = False\n",
    "    trade_open = False\n",
    "    current_price = 0\n",
    "    for index, row in data.iterrows():\n",
    "        start_data = {} \n",
    "        end_data = {} \n",
    "        if trade_open:\n",
    "            candle_data = data.loc[index:index]\n",
    "            closing_price = candle_data['close'].values[0] \n",
    "            spread = round(abs(candle_data['open'].values[0]  - closing_price),2)\n",
    "            pattern = helper.get_next_candle(candle_data)\n",
    "            if (pattern == Candle.red and spread >= 0.15 ) or closing_price <= current_price - 1:\n",
    "                end_data[\"x\"] = index\n",
    "                end_data[\"Marker\"] = row[\"close\"]\n",
    "                end_data[\"Symbol\"] =\"star-triangle-down\"\n",
    "                end_data[\"Color\"] =\"red\" \n",
    "                end = end.append(end_data, ignore_index=True) \n",
    "                trade_open = False\n",
    "        if next_long_pattern:\n",
    "            if helper.index > 3:\n",
    "                helper.index = 0\n",
    "                next_long_pattern = False            \n",
    "            else:\n",
    "                pattern = helper.get_next_candle(data.loc[index:index])\n",
    "                if pattern == Candle.green:\n",
    "                    helper.index = 0\n",
    "                    next_long_pattern = False\n",
    "                    start_data[\"x\"] = index\n",
    "                    start_data[\"Marker\"] = row[\"close\"]\n",
    "                    start_data[\"Symbol\"] =\"star-triangle-up\"\n",
    "                    start_data[\"Color\"] =\"green\"\n",
    "                    start = start.append(start_data, ignore_index=True) \n",
    "                    current_price = row[\"close\"]\n",
    "                    trade_open = True\n",
    "        else:\n",
    "            ticker_data = {}        \n",
    "            val = row[\"Hammer\"]\n",
    "            if val == 100:                             \n",
    "                ticker_data[\"x\"] = index\n",
    "                ticker_data[\"Marker\"] = row[\"close\"]\n",
    "                ticker_data[\"Symbol\"] =\"circle\"\n",
    "                ticker_data[\"Color\"] =\"gold\"\n",
    "                pattern_data = pattern_data.append(ticker_data, ignore_index=True) \n",
    "\n",
    "                current_data = data.loc[index-3:index]\n",
    "                trend, trend_value, reversal_value = helper.get_trends(current_data)\n",
    "                if trend == Trend.downtrend_reversal or trend == Trend.strong_downtrend_reversal:\n",
    "                    start_data[\"x\"] = index\n",
    "                    start_data[\"Marker\"] = row[\"close\"]\n",
    "                    start_data[\"Symbol\"] =\"star-triangle-up\"\n",
    "                    start_data[\"Color\"] =\"green\"\n",
    "                    start = start.append(start_data, ignore_index=True) \n",
    "                    current_price = row[\"close\"]\n",
    "                    trade_open = True\n",
    "                else:\n",
    "                    helper.index = 0\n",
    "                    next_long_pattern = True\n",
    "            \n",
    "            \n",
    "    CandleStick = go.Candlestick(x=data.index,\n",
    "                       open=data.open,\n",
    "                       high=data.high,\n",
    "                       low=data.low,\n",
    "                       close=data.close\n",
    "                       )  \n",
    "    Pattern = go.Scatter(x=pattern_data.x,\n",
    "                       y=pattern_data.Marker,\n",
    "                       mode='markers',\n",
    "                       name ='markers',\n",
    "                       marker=go.Marker(size=20,\n",
    "                                        symbol=pattern_data[\"Symbol\"],\n",
    "                                        color=pattern_data[\"Color\"]))\n",
    "    \n",
    "    StartData = go.Scatter(x=start.x,\n",
    "               y=start.Marker,\n",
    "               mode='markers',\n",
    "               name ='markers',\n",
    "               marker=go.Marker(size=20,\n",
    "                                symbol=start[\"Symbol\"],\n",
    "                                color=start[\"Color\"]))\n",
    "    \n",
    "    \n",
    "    EndData = go.Scatter(x=end.x,\n",
    "                   y=end.Marker,\n",
    "                   mode='markers',\n",
    "                   name ='markers',\n",
    "                   marker=go.Marker(size=20,\n",
    "                                    symbol=end[\"Symbol\"],\n",
    "                                    color=end[\"Color\"]))\n",
    "                         \n",
    "    iplot([CandleStick, Pattern,StartData,EndData])"
   ]
  },
  {
   "cell_type": "code",
   "execution_count": 106,
   "id": "994a6211",
   "metadata": {},
   "outputs": [],
   "source": [
    "class StatisticsManager:\n",
    "\n",
    "    def __init__(self,name):    \n",
    "        self.name =name  \n",
    "        self.db = sqlite3.connect(self.name)\n",
    "        \n",
    "\n",
    "    def connectDB(self):\n",
    "        self.db = sqlite3.connect(self.name)\n",
    "        \n",
    "    def get_trade_all(self):\n",
    "        self.connectDB()\n",
    "        query = '''SELECT * FROM Statistics'''        \n",
    "        data = pd.read_sql(query, con=self.db)\n",
    "        self.close()\n",
    "        return data\n",
    "    \n",
    "    def get_trade_day(self, day):\n",
    "        self.connectDB()\n",
    "        query = '''SELECT close_time,current,close,number_of_shares,symbol,type,sum(case when  status = 'loss' then 1 else 0 end) as loss,\n",
    "                       sum(case when status = 'profit' then 1 else 0 end) as profit,\n",
    "                       sum(case when status = 'open' then 1 else 0 end) as open,\n",
    "                       round(sum(case when  status = 'loss' then 1.0 else 0.0 end)/count(*),2) as loss_ratio,\n",
    "                       round(sum(case when status = 'profit' then 1.0 else 0.0 end)/count(*),2)  as profit_ratio,\n",
    "                       round(sum(close*number_of_shares -current*number_of_shares ),2)  as returns\n",
    "                    FROM Statistics GROUP by symbol,close_time having close_time = '''\n",
    "        query += \"'\" + day + \"'\"\n",
    "        query += ''' ORDER by returns'''\n",
    "        data = pd.read_sql(query, con=self.db)\n",
    "        self.close()\n",
    "        return data\n",
    "\n",
    "    def get_trade_loss(self):\n",
    "        self.connectDB()\n",
    "        query = '''SELECT close_time, sum(case when  status = 'loss' then 1 else 0 end) as loss,\n",
    "                       sum(case when status = 'profit' then 1 else 0 end) as profit,\n",
    "                       sum(case when status = 'open' then 1 else 0 end) as open,\n",
    "                       round(sum(case when  status = 'loss' then 1.0 else 0.0 end)/count(*),2) as loss_ratio,\n",
    "                       round(sum(case when status = 'profit' then 1.0 else 0.0 end)/count(*),2)  as profit_ratio,\n",
    "                       round(sum(close*number_of_shares -current*number_of_shares ),2)  as returns\n",
    "                    FROM Statistics GROUP by close_time having returns < 0  ORDER by returns'''        \n",
    "        data = pd.read_sql(query, con=self.db)\n",
    "        self.close()\n",
    "        return data\n",
    "    \n",
    "\n",
    "    def get_trade_close_time(self):\n",
    "        self.connectDB()\n",
    "        query = '''SELECT close_time, sum(case when  status = 'loss' then 1 else 0 end) as loss,\n",
    "                       sum(case when status = 'profit' then 1 else 0 end) as profit,\n",
    "                       sum(case when status = 'open' then 1 else 0 end) as open,\n",
    "                       round(sum(case when  status = 'loss' then 1.0 else 0.0 end)/count(*),2) as loss_ratio,\n",
    "                       round(sum(case when status = 'profit' then 1.0 else 0.0 end)/count(*),2)  as profit_ratio,\n",
    "                       round(sum(close*number_of_shares -current*number_of_shares ),2)  as returns\n",
    "                    FROM Statistics GROUP by close_time ORDER by returns'''        \n",
    "        data = pd.read_sql(query, con=self.db)\n",
    "        self.close()\n",
    "        return data\n",
    "    \n",
    "    def get_trade_algorithm(self):\n",
    "        self.connectDB()\n",
    "        query = '''SELECT algorithm,sum(case when  status = 'loss' then 1 else 0 end) as loss,\n",
    "                       sum(case when status = 'profit' then 1 else 0 end) as profit,\n",
    "                       sum(case when status = 'open' then 1 else 0 end) as open,\n",
    "                       round(sum(case when  status = 'loss' then 1.0 else 0.0 end)/count(*),2) as loss_ratio,\n",
    "                       round(sum(case when status = 'profit' then 1.0 else 0.0 end)/count(*),2)  as profit_ratio,\n",
    "                       round(sum(close*number_of_shares -current*number_of_shares ),2)  as returns\n",
    "                    FROM Statistics GROUP by algorithm ORDER by profit_ratio desc'''        \n",
    "        data = pd.read_sql(query, con=self.db)\n",
    "        self.close()\n",
    "        return data\n",
    "    \n",
    "    def get_trade_symbol(self):\n",
    "        self.connectDB()\n",
    "        query = '''SELECT symbol,type,sum(case when  status = 'loss' then 1 else 0 end) as loss,\n",
    "                       sum(case when status = 'profit' then 1 else 0 end) as profit,\n",
    "                       sum(case when status = 'open' then 1 else 0 end) as open,\n",
    "                       round(sum(case when  status = 'loss' then 1.0 else 0.0 end)/count(*),2) as loss_ratio,\n",
    "                       round(sum(case when status = 'profit' then 1.0 else 0.0 end)/count(*),2)  as profit_ratio,\n",
    "                       round(sum(close*number_of_shares -current*number_of_shares ),2)  as returns\n",
    "                    FROM Statistics GROUP by symbol,type ORDER by profit_ratio desc'''        \n",
    "        data = pd.read_sql(query, con=self.db)\n",
    "        self.close()\n",
    "        return data\n",
    "\n",
    "\n",
    "    def close(self):\n",
    "        self.db.close()\n",
    "\n",
    "    def deleteDB(self,db):\n",
    "        if os.path.exists(db):\n",
    "            os.remove(db)\n",
    "        else:\n",
    "            print(\"The file does not exist\")"
   ]
  },
  {
   "cell_type": "code",
   "execution_count": 107,
   "id": "1f5d7d20",
   "metadata": {},
   "outputs": [],
   "source": [
    "def get_all_loss():\n",
    "    manager = StatisticsManager(db_hammer)\n",
    "    loss_data = manager.get_trade_loss()\n",
    "    trade_data = pd.DataFrame(columns = ['close_time', 'loss', 'profit','open','loss_ratio','profit_ratio','returns'])\n",
    "    date_list = loss_data[\"close_time\"].unique()\n",
    "    for day in date_list:\n",
    "        row_data = manager.get_trade_day(day)\n",
    "        trade_data = trade_data.append(row_data, ignore_index=True)\n",
    "    return date_list,trade_data\n",
    "    "
   ]
  },
  {
   "cell_type": "code",
   "execution_count": 108,
   "id": "7556dd22",
   "metadata": {},
   "outputs": [],
   "source": [
    "date_list,loss_data = get_all_loss()"
   ]
  },
  {
   "cell_type": "code",
   "execution_count": 109,
   "id": "f5e73821",
   "metadata": {},
   "outputs": [
    {
     "data": {
      "text/html": [
       "<div>\n",
       "<style scoped>\n",
       "    .dataframe tbody tr th:only-of-type {\n",
       "        vertical-align: middle;\n",
       "    }\n",
       "\n",
       "    .dataframe tbody tr th {\n",
       "        vertical-align: top;\n",
       "    }\n",
       "\n",
       "    .dataframe thead th {\n",
       "        text-align: right;\n",
       "    }\n",
       "</style>\n",
       "<table border=\"1\" class=\"dataframe\">\n",
       "  <thead>\n",
       "    <tr style=\"text-align: right;\">\n",
       "      <th></th>\n",
       "      <th>close_time</th>\n",
       "      <th>loss</th>\n",
       "      <th>profit</th>\n",
       "      <th>open</th>\n",
       "      <th>loss_ratio</th>\n",
       "      <th>profit_ratio</th>\n",
       "      <th>returns</th>\n",
       "      <th>current</th>\n",
       "      <th>close</th>\n",
       "      <th>number_of_shares</th>\n",
       "      <th>symbol</th>\n",
       "      <th>type</th>\n",
       "    </tr>\n",
       "  </thead>\n",
       "  <tbody>\n",
       "    <tr>\n",
       "      <th>0</th>\n",
       "      <td>2021-05-09-11:44:13</td>\n",
       "      <td>1</td>\n",
       "      <td>0</td>\n",
       "      <td>0</td>\n",
       "      <td>1.0</td>\n",
       "      <td>0.0</td>\n",
       "      <td>-1896.00</td>\n",
       "      <td>269.10</td>\n",
       "      <td>257.25</td>\n",
       "      <td>160.0</td>\n",
       "      <td>DLF</td>\n",
       "      <td>long</td>\n",
       "    </tr>\n",
       "    <tr>\n",
       "      <th>1</th>\n",
       "      <td>2021-05-09-11:44:13</td>\n",
       "      <td>1</td>\n",
       "      <td>0</td>\n",
       "      <td>0</td>\n",
       "      <td>1.0</td>\n",
       "      <td>0.0</td>\n",
       "      <td>-1128.00</td>\n",
       "      <td>446.75</td>\n",
       "      <td>434.75</td>\n",
       "      <td>94.0</td>\n",
       "      <td>WIPRO</td>\n",
       "      <td>long</td>\n",
       "    </tr>\n",
       "    <tr>\n",
       "      <th>2</th>\n",
       "      <td>2021-05-09-11:44:13</td>\n",
       "      <td>1</td>\n",
       "      <td>0</td>\n",
       "      <td>0</td>\n",
       "      <td>1.0</td>\n",
       "      <td>0.0</td>\n",
       "      <td>-1002.15</td>\n",
       "      <td>337.90</td>\n",
       "      <td>330.25</td>\n",
       "      <td>131.0</td>\n",
       "      <td>SBIN</td>\n",
       "      <td>long</td>\n",
       "    </tr>\n",
       "    <tr>\n",
       "      <th>3</th>\n",
       "      <td>2021-05-09-11:44:13</td>\n",
       "      <td>1</td>\n",
       "      <td>0</td>\n",
       "      <td>0</td>\n",
       "      <td>1.0</td>\n",
       "      <td>0.0</td>\n",
       "      <td>-811.20</td>\n",
       "      <td>101.00</td>\n",
       "      <td>99.05</td>\n",
       "      <td>416.0</td>\n",
       "      <td>ONGC</td>\n",
       "      <td>long</td>\n",
       "    </tr>\n",
       "    <tr>\n",
       "      <th>4</th>\n",
       "      <td>2021-05-09-11:44:13</td>\n",
       "      <td>1</td>\n",
       "      <td>0</td>\n",
       "      <td>0</td>\n",
       "      <td>1.0</td>\n",
       "      <td>0.0</td>\n",
       "      <td>-793.10</td>\n",
       "      <td>307.50</td>\n",
       "      <td>302.35</td>\n",
       "      <td>154.0</td>\n",
       "      <td>AMBUJACEM</td>\n",
       "      <td>long</td>\n",
       "    </tr>\n",
       "    <tr>\n",
       "      <th>...</th>\n",
       "      <td>...</td>\n",
       "      <td>...</td>\n",
       "      <td>...</td>\n",
       "      <td>...</td>\n",
       "      <td>...</td>\n",
       "      <td>...</td>\n",
       "      <td>...</td>\n",
       "      <td>...</td>\n",
       "      <td>...</td>\n",
       "      <td>...</td>\n",
       "      <td>...</td>\n",
       "      <td>...</td>\n",
       "    </tr>\n",
       "    <tr>\n",
       "      <th>263</th>\n",
       "      <td>2021-05-22-11:44:13</td>\n",
       "      <td>0</td>\n",
       "      <td>1</td>\n",
       "      <td>0</td>\n",
       "      <td>0.0</td>\n",
       "      <td>1.0</td>\n",
       "      <td>252.45</td>\n",
       "      <td>136.40</td>\n",
       "      <td>137.25</td>\n",
       "      <td>297.0</td>\n",
       "      <td>GAIL</td>\n",
       "      <td>long</td>\n",
       "    </tr>\n",
       "    <tr>\n",
       "      <th>264</th>\n",
       "      <td>2021-05-22-11:44:13</td>\n",
       "      <td>0</td>\n",
       "      <td>1</td>\n",
       "      <td>0</td>\n",
       "      <td>0.0</td>\n",
       "      <td>1.0</td>\n",
       "      <td>345.15</td>\n",
       "      <td>288.00</td>\n",
       "      <td>290.95</td>\n",
       "      <td>117.0</td>\n",
       "      <td>TATAMOTORS</td>\n",
       "      <td>long</td>\n",
       "    </tr>\n",
       "    <tr>\n",
       "      <th>265</th>\n",
       "      <td>2021-05-22-11:44:13</td>\n",
       "      <td>0</td>\n",
       "      <td>1</td>\n",
       "      <td>0</td>\n",
       "      <td>0.0</td>\n",
       "      <td>1.0</td>\n",
       "      <td>352.00</td>\n",
       "      <td>244.75</td>\n",
       "      <td>246.95</td>\n",
       "      <td>160.0</td>\n",
       "      <td>DLF</td>\n",
       "      <td>long</td>\n",
       "    </tr>\n",
       "    <tr>\n",
       "      <th>266</th>\n",
       "      <td>2021-05-22-11:44:13</td>\n",
       "      <td>0</td>\n",
       "      <td>1</td>\n",
       "      <td>0</td>\n",
       "      <td>0.0</td>\n",
       "      <td>1.0</td>\n",
       "      <td>508.50</td>\n",
       "      <td>541.80</td>\n",
       "      <td>547.45</td>\n",
       "      <td>90.0</td>\n",
       "      <td>DABUR</td>\n",
       "      <td>long</td>\n",
       "    </tr>\n",
       "    <tr>\n",
       "      <th>267</th>\n",
       "      <td>2021-05-22-11:44:13</td>\n",
       "      <td>0</td>\n",
       "      <td>1</td>\n",
       "      <td>0</td>\n",
       "      <td>0.0</td>\n",
       "      <td>1.0</td>\n",
       "      <td>825.30</td>\n",
       "      <td>344.10</td>\n",
       "      <td>350.40</td>\n",
       "      <td>131.0</td>\n",
       "      <td>SBIN</td>\n",
       "      <td>long</td>\n",
       "    </tr>\n",
       "  </tbody>\n",
       "</table>\n",
       "<p>268 rows × 12 columns</p>\n",
       "</div>"
      ],
      "text/plain": [
       "              close_time loss profit open  loss_ratio  profit_ratio  returns  \\\n",
       "0    2021-05-09-11:44:13    1      0    0         1.0           0.0 -1896.00   \n",
       "1    2021-05-09-11:44:13    1      0    0         1.0           0.0 -1128.00   \n",
       "2    2021-05-09-11:44:13    1      0    0         1.0           0.0 -1002.15   \n",
       "3    2021-05-09-11:44:13    1      0    0         1.0           0.0  -811.20   \n",
       "4    2021-05-09-11:44:13    1      0    0         1.0           0.0  -793.10   \n",
       "..                   ...  ...    ...  ...         ...           ...      ...   \n",
       "263  2021-05-22-11:44:13    0      1    0         0.0           1.0   252.45   \n",
       "264  2021-05-22-11:44:13    0      1    0         0.0           1.0   345.15   \n",
       "265  2021-05-22-11:44:13    0      1    0         0.0           1.0   352.00   \n",
       "266  2021-05-22-11:44:13    0      1    0         0.0           1.0   508.50   \n",
       "267  2021-05-22-11:44:13    0      1    0         0.0           1.0   825.30   \n",
       "\n",
       "     current   close  number_of_shares      symbol  type  \n",
       "0     269.10  257.25             160.0         DLF  long  \n",
       "1     446.75  434.75              94.0       WIPRO  long  \n",
       "2     337.90  330.25             131.0        SBIN  long  \n",
       "3     101.00   99.05             416.0        ONGC  long  \n",
       "4     307.50  302.35             154.0   AMBUJACEM  long  \n",
       "..       ...     ...               ...         ...   ...  \n",
       "263   136.40  137.25             297.0        GAIL  long  \n",
       "264   288.00  290.95             117.0  TATAMOTORS  long  \n",
       "265   244.75  246.95             160.0         DLF  long  \n",
       "266   541.80  547.45              90.0       DABUR  long  \n",
       "267   344.10  350.40             131.0        SBIN  long  \n",
       "\n",
       "[268 rows x 12 columns]"
      ]
     },
     "execution_count": 109,
     "metadata": {},
     "output_type": "execute_result"
    }
   ],
   "source": [
    "loss_data"
   ]
  },
  {
   "cell_type": "code",
   "execution_count": 110,
   "id": "bbfe8be0",
   "metadata": {},
   "outputs": [
    {
     "data": {
      "text/html": [
       "<div>\n",
       "<style scoped>\n",
       "    .dataframe tbody tr th:only-of-type {\n",
       "        vertical-align: middle;\n",
       "    }\n",
       "\n",
       "    .dataframe tbody tr th {\n",
       "        vertical-align: top;\n",
       "    }\n",
       "\n",
       "    .dataframe thead th {\n",
       "        text-align: right;\n",
       "    }\n",
       "</style>\n",
       "<table border=\"1\" class=\"dataframe\">\n",
       "  <thead>\n",
       "    <tr style=\"text-align: right;\">\n",
       "      <th></th>\n",
       "      <th>close_time</th>\n",
       "      <th>loss</th>\n",
       "      <th>profit</th>\n",
       "      <th>open</th>\n",
       "      <th>loss_ratio</th>\n",
       "      <th>profit_ratio</th>\n",
       "      <th>returns</th>\n",
       "      <th>current</th>\n",
       "      <th>close</th>\n",
       "      <th>number_of_shares</th>\n",
       "      <th>symbol</th>\n",
       "      <th>type</th>\n",
       "    </tr>\n",
       "  </thead>\n",
       "  <tbody>\n",
       "    <tr>\n",
       "      <th>263</th>\n",
       "      <td>2021-05-22-11:44:13</td>\n",
       "      <td>0</td>\n",
       "      <td>1</td>\n",
       "      <td>0</td>\n",
       "      <td>0.0</td>\n",
       "      <td>1.0</td>\n",
       "      <td>252.45</td>\n",
       "      <td>136.40</td>\n",
       "      <td>137.25</td>\n",
       "      <td>297.0</td>\n",
       "      <td>GAIL</td>\n",
       "      <td>long</td>\n",
       "    </tr>\n",
       "    <tr>\n",
       "      <th>264</th>\n",
       "      <td>2021-05-22-11:44:13</td>\n",
       "      <td>0</td>\n",
       "      <td>1</td>\n",
       "      <td>0</td>\n",
       "      <td>0.0</td>\n",
       "      <td>1.0</td>\n",
       "      <td>345.15</td>\n",
       "      <td>288.00</td>\n",
       "      <td>290.95</td>\n",
       "      <td>117.0</td>\n",
       "      <td>TATAMOTORS</td>\n",
       "      <td>long</td>\n",
       "    </tr>\n",
       "    <tr>\n",
       "      <th>265</th>\n",
       "      <td>2021-05-22-11:44:13</td>\n",
       "      <td>0</td>\n",
       "      <td>1</td>\n",
       "      <td>0</td>\n",
       "      <td>0.0</td>\n",
       "      <td>1.0</td>\n",
       "      <td>352.00</td>\n",
       "      <td>244.75</td>\n",
       "      <td>246.95</td>\n",
       "      <td>160.0</td>\n",
       "      <td>DLF</td>\n",
       "      <td>long</td>\n",
       "    </tr>\n",
       "  </tbody>\n",
       "</table>\n",
       "</div>"
      ],
      "text/plain": [
       "              close_time loss profit open  loss_ratio  profit_ratio  returns  \\\n",
       "263  2021-05-22-11:44:13    0      1    0         0.0           1.0   252.45   \n",
       "264  2021-05-22-11:44:13    0      1    0         0.0           1.0   345.15   \n",
       "265  2021-05-22-11:44:13    0      1    0         0.0           1.0   352.00   \n",
       "\n",
       "     current   close  number_of_shares      symbol  type  \n",
       "263   136.40  137.25             297.0        GAIL  long  \n",
       "264   288.00  290.95             117.0  TATAMOTORS  long  \n",
       "265   244.75  246.95             160.0         DLF  long  "
      ]
     },
     "execution_count": 110,
     "metadata": {},
     "output_type": "execute_result"
    }
   ],
   "source": [
    "loss_data.loc[263:265]"
   ]
  },
  {
   "cell_type": "code",
   "execution_count": 111,
   "id": "74bf59ea",
   "metadata": {},
   "outputs": [],
   "source": [
    "filename = data_directory+\"DLF.csv\"\n",
    "data = pd.read_csv(filename)"
   ]
  },
  {
   "cell_type": "code",
   "execution_count": 112,
   "id": "7371e9d5",
   "metadata": {},
   "outputs": [
    {
     "data": {
      "text/plain": [
       "Index(['Unnamed: 0', 'open', 'high', 'low', 'close', 'volume', 'traded',\n",
       "       'Hammer', 'ticker', 'date'],\n",
       "      dtype='object')"
      ]
     },
     "execution_count": 112,
     "metadata": {},
     "output_type": "execute_result"
    }
   ],
   "source": [
    "data.columns"
   ]
  },
  {
   "cell_type": "code",
   "execution_count": 113,
   "id": "9dea10f2",
   "metadata": {},
   "outputs": [],
   "source": [
    "data = data.drop('Unnamed: 0',axis=1)"
   ]
  },
  {
   "cell_type": "code",
   "execution_count": 114,
   "id": "029e7c2f",
   "metadata": {},
   "outputs": [],
   "source": [
    "hammer = data[data['Hammer']!=0].dropna()"
   ]
  },
  {
   "cell_type": "code",
   "execution_count": 115,
   "id": "73f6f7f5",
   "metadata": {},
   "outputs": [
    {
     "data": {
      "text/html": [
       "<div>\n",
       "<style scoped>\n",
       "    .dataframe tbody tr th:only-of-type {\n",
       "        vertical-align: middle;\n",
       "    }\n",
       "\n",
       "    .dataframe tbody tr th {\n",
       "        vertical-align: top;\n",
       "    }\n",
       "\n",
       "    .dataframe thead th {\n",
       "        text-align: right;\n",
       "    }\n",
       "</style>\n",
       "<table border=\"1\" class=\"dataframe\">\n",
       "  <thead>\n",
       "    <tr style=\"text-align: right;\">\n",
       "      <th></th>\n",
       "      <th>close_time</th>\n",
       "      <th>loss</th>\n",
       "      <th>profit</th>\n",
       "      <th>open</th>\n",
       "      <th>loss_ratio</th>\n",
       "      <th>profit_ratio</th>\n",
       "      <th>returns</th>\n",
       "      <th>current</th>\n",
       "      <th>close</th>\n",
       "      <th>number_of_shares</th>\n",
       "      <th>symbol</th>\n",
       "      <th>type</th>\n",
       "    </tr>\n",
       "  </thead>\n",
       "  <tbody>\n",
       "    <tr>\n",
       "      <th>263</th>\n",
       "      <td>2021-05-22-11:44:13</td>\n",
       "      <td>0</td>\n",
       "      <td>1</td>\n",
       "      <td>0</td>\n",
       "      <td>0.0</td>\n",
       "      <td>1.0</td>\n",
       "      <td>252.45</td>\n",
       "      <td>136.4</td>\n",
       "      <td>137.25</td>\n",
       "      <td>297.0</td>\n",
       "      <td>GAIL</td>\n",
       "      <td>long</td>\n",
       "    </tr>\n",
       "  </tbody>\n",
       "</table>\n",
       "</div>"
      ],
      "text/plain": [
       "              close_time loss profit open  loss_ratio  profit_ratio  returns  \\\n",
       "263  2021-05-22-11:44:13    0      1    0         0.0           1.0   252.45   \n",
       "\n",
       "     current   close  number_of_shares symbol  type  \n",
       "263    136.4  137.25             297.0   GAIL  long  "
      ]
     },
     "execution_count": 115,
     "metadata": {},
     "output_type": "execute_result"
    }
   ],
   "source": [
    "loss_data.loc[263:263]"
   ]
  },
  {
   "cell_type": "code",
   "execution_count": 116,
   "id": "8da5aabb",
   "metadata": {},
   "outputs": [
    {
     "data": {
      "text/plain": [
       "[      open    high     low   close   volume  traded  Hammer ticker  \\\n",
       " 80  292.30  292.45  292.00  292.30  33517.0   False     0.0    DLF   \n",
       " 81  292.20  292.90  292.10  292.90  18731.0   False     0.0    DLF   \n",
       " 82  292.75  293.20  292.75  293.00  12962.0   False     0.0    DLF   \n",
       " 83  293.10  293.40  292.95  292.95  11818.0   False     0.0    DLF   \n",
       " 84  292.95  293.00  292.75  293.00  10235.0    True   100.0    DLF   \n",
       " 85  292.90  293.00  292.25  292.35  11688.0   False     0.0    DLF   \n",
       " 86  292.35  292.55  292.10  292.20  12183.0   False     0.0    DLF   \n",
       " 87  292.20  292.30  291.70  292.15  50637.0   False     0.0    DLF   \n",
       " 88  292.30  292.55  292.05  292.35  10644.0   False     0.0    DLF   \n",
       " 89  292.45  292.70  292.35  292.65   6395.0   False     0.0    DLF   \n",
       " 90  292.65  293.25  292.60  293.05  19581.0   False     0.0    DLF   \n",
       " 91  293.05  293.60  293.00  293.30  28599.0   False     0.0    DLF   \n",
       " 92  293.30  293.45  293.05  293.25   4655.0   False     0.0    DLF   \n",
       " 93  293.25  293.75  293.25  293.40  15478.0   False     0.0    DLF   \n",
       " 94  293.40  293.50  293.25  293.45   7645.0   False     0.0    DLF   \n",
       " 95  293.45  293.80  293.25  293.70   9287.0   False     0.0    DLF   \n",
       " 96  293.70  294.00  293.50  293.75  10312.0   False     0.0    DLF   \n",
       " 97  293.70  293.75  293.00  293.15   7827.0   False     0.0    DLF   \n",
       " 98  292.65  293.35  292.65  293.10  27682.0   False     0.0    DLF   \n",
       " \n",
       "                    date  \n",
       " 80  2021-04-24-08:36:58  \n",
       " 81  2021-04-24-08:36:58  \n",
       " 82  2021-04-24-08:36:58  \n",
       " 83  2021-04-24-08:36:58  \n",
       " 84  2021-04-24-08:36:58  \n",
       " 85  2021-04-24-08:36:58  \n",
       " 86  2021-04-24-08:36:58  \n",
       " 87  2021-04-24-08:36:58  \n",
       " 88  2021-04-24-08:36:58  \n",
       " 89  2021-04-24-08:36:58  \n",
       " 90  2021-04-24-08:36:58  \n",
       " 91  2021-04-24-08:36:58  \n",
       " 92  2021-04-24-08:36:58  \n",
       " 93  2021-04-24-08:36:58  \n",
       " 94  2021-04-24-08:36:58  \n",
       " 95  2021-04-24-08:36:58  \n",
       " 96  2021-04-24-08:36:58  \n",
       " 97  2021-04-24-08:36:58  \n",
       " 98  2021-04-24-08:36:58  ,\n",
       "        open    high     low   close   volume  traded  Hammer ticker  \\\n",
       " 241  291.20  291.20  289.80  289.80  76488.0   False     0.0    DLF   \n",
       " 242  289.85  290.45  289.60  289.85  82055.0   False     0.0    DLF   \n",
       " 243  289.95  290.60  289.75  290.10  55530.0   False     0.0    DLF   \n",
       " 244  290.15  290.40  289.80  289.80  41428.0   False     0.0    DLF   \n",
       " 245  289.90  290.20  289.10  290.10  91752.0    True   100.0    DLF   \n",
       " 246  290.15  291.00  290.15  290.60  53493.0   False     NaN    DLF   \n",
       " 247  290.75  291.70  290.60  291.15  44987.0   False     NaN    DLF   \n",
       " 248  291.30  291.55  291.00  291.30  40844.0   False     NaN    DLF   \n",
       " 249  291.10  291.40  290.95  291.10  28489.0   False     NaN    DLF   \n",
       " 250  291.10  291.10  289.70  289.75  42406.0   False     NaN    DLF   \n",
       " 251  289.80  290.00  288.60  289.50  72853.0   False     NaN    DLF   \n",
       " 252  289.50  289.90  289.25  289.75  19105.0   False     NaN    DLF   \n",
       " 253  289.75  290.15  289.55  290.00  28790.0   False     NaN    DLF   \n",
       " 254  290.00  290.65  289.80  290.45  29748.0   False     NaN    DLF   \n",
       " 255  290.25  290.70  289.20  289.35  40332.0   False     NaN    DLF   \n",
       " 256  289.40  289.40  288.00  288.00  60493.0   False     NaN    DLF   \n",
       " 257  288.30  288.85  287.70  288.45  49516.0   False     NaN    DLF   \n",
       " 258  288.25  289.20  288.15  289.20  27502.0   False     NaN    DLF   \n",
       " 259  289.15  290.10  289.15  289.95  35535.0   False     NaN    DLF   \n",
       " \n",
       "                     date  \n",
       " 241  2021-04-24-08:36:58  \n",
       " 242  2021-04-24-08:36:58  \n",
       " 243  2021-04-24-08:36:58  \n",
       " 244  2021-04-24-08:36:58  \n",
       " 245  2021-04-24-08:36:58  \n",
       " 246  2021-04-24-08:36:58  \n",
       " 247  2021-04-24-08:36:58  \n",
       " 248  2021-04-24-08:36:58  \n",
       " 249  2021-04-24-08:36:58  \n",
       " 250  2021-04-24-08:36:58  \n",
       " 251  2021-04-24-08:36:58  \n",
       " 252  2021-04-24-08:36:58  \n",
       " 253  2021-04-24-08:36:58  \n",
       " 254  2021-04-24-08:36:58  \n",
       " 255  2021-04-24-08:36:58  \n",
       " 256  2021-04-24-08:36:58  \n",
       " 257  2021-04-24-08:36:58  \n",
       " 258  2021-04-24-08:36:58  \n",
       " 259  2021-04-24-08:36:58  ,\n",
       "        open    high     low   close   volume  traded  Hammer ticker  \\\n",
       " 386  283.05  283.20  281.25  281.25  62213.0   False     0.0    DLF   \n",
       " 387  281.25  281.45  280.00  280.10  87980.0   False     0.0    DLF   \n",
       " 388  280.00  280.20  279.35  279.80  57448.0   False     0.0    DLF   \n",
       " 389  279.70  279.85  278.60  278.80  59672.0   False     0.0    DLF   \n",
       " 390  278.70  278.95  278.10  278.90  60525.0    True   100.0    DLF   \n",
       " 391  278.80  280.10  278.80  279.95  95684.0   False     NaN    DLF   \n",
       " 392  279.85  281.60  279.60  281.10  60589.0   False     NaN    DLF   \n",
       " 393  281.10  281.50  280.80  281.25  36247.0   False     NaN    DLF   \n",
       " 394  281.25  281.40  280.65  280.65  50170.0   False     NaN    DLF   \n",
       " 395  280.55  281.55  280.45  281.10  46355.0   False     NaN    DLF   \n",
       " 396  281.25  281.25  279.05  279.10  48865.0   False     NaN    DLF   \n",
       " 397  279.10  279.35  278.35  279.35  50666.0   False     NaN    DLF   \n",
       " 398  279.30  280.90  279.25  280.75  29286.0   False     NaN    DLF   \n",
       " 399  280.85  281.25  279.80  279.85  26002.0   False     NaN    DLF   \n",
       " 400  279.75  281.90  279.75  281.40  62434.0   False     NaN    DLF   \n",
       " 401  281.45  281.90  281.05  281.60  33464.0   False     NaN    DLF   \n",
       " 402  281.60  282.25  281.60  281.85  47875.0   False     NaN    DLF   \n",
       " 403  282.00  282.40  281.95  282.25  32883.0   False     NaN    DLF   \n",
       " 404  282.35  282.50  281.80  281.90  30594.0   False     NaN    DLF   \n",
       " \n",
       "                     date  \n",
       " 386  2021-04-25-08:36:58  \n",
       " 387  2021-04-25-08:36:58  \n",
       " 388  2021-04-25-08:36:58  \n",
       " 389  2021-04-25-08:36:58  \n",
       " 390  2021-04-25-08:36:58  \n",
       " 391  2021-04-25-08:36:58  \n",
       " 392  2021-04-25-08:36:58  \n",
       " 393  2021-04-25-08:36:58  \n",
       " 394  2021-04-25-08:36:58  \n",
       " 395  2021-04-25-08:36:58  \n",
       " 396  2021-04-25-08:36:58  \n",
       " 397  2021-04-25-08:36:58  \n",
       " 398  2021-04-25-08:36:58  \n",
       " 399  2021-04-25-08:36:58  \n",
       " 400  2021-04-25-08:36:58  \n",
       " 401  2021-04-25-08:36:58  \n",
       " 402  2021-04-25-08:36:58  \n",
       " 403  2021-04-25-08:36:58  \n",
       " 404  2021-04-25-08:36:58  ,\n",
       "        open    high     low   close   volume  traded  Hammer ticker  \\\n",
       " 757  289.55  289.55  289.00  289.55  18314.0   False     0.0    DLF   \n",
       " 758  289.50  289.50  288.65  288.65  48562.0   False     0.0    DLF   \n",
       " 759  288.75  289.40  288.75  289.30  46358.0   False     0.0    DLF   \n",
       " 760  289.25  289.40  287.60  287.60  42597.0   False     0.0    DLF   \n",
       " 761  287.80  287.80  286.25  287.30  44995.0    True   100.0    DLF   \n",
       " 762  287.30  288.10  287.10  288.10  25334.0   False     NaN    DLF   \n",
       " 763  287.95  288.35  287.55  288.00  25970.0   False     NaN    DLF   \n",
       " 764  288.10  288.20  287.55  288.00  14896.0   False     NaN    DLF   \n",
       " 765  288.05  289.50  287.90  289.35  48909.0   False     NaN    DLF   \n",
       " 766  289.50  290.75  289.45  290.15  61738.0   False     NaN    DLF   \n",
       " 767  290.10  290.55  289.75  290.15  47079.0   False     NaN    DLF   \n",
       " 768  290.15  291.25  290.15  290.90  97480.0   False     NaN    DLF   \n",
       " 769  290.65  290.90  290.25  290.30  30834.0   False     NaN    DLF   \n",
       " 770  290.30  290.30  288.20  288.40  58063.0   False     NaN    DLF   \n",
       " 771  288.50  288.50  287.00  287.70  80991.0   False     NaN    DLF   \n",
       " 772  287.90  288.60  287.75  288.00  60541.0   False     NaN    DLF   \n",
       " 773  288.00  289.00  288.00  288.60  25236.0   False     NaN    DLF   \n",
       " 774  288.60  289.70  288.05  289.20  45919.0   False     NaN    DLF   \n",
       " 775  289.40  290.55  289.20  290.30  42948.0   False     NaN    DLF   \n",
       " \n",
       "                     date  \n",
       " 757  2021-04-26-08:36:58  \n",
       " 758  2021-04-26-08:36:58  \n",
       " 759  2021-04-26-08:36:58  \n",
       " 760  2021-04-26-08:36:58  \n",
       " 761  2021-04-26-08:36:58  \n",
       " 762  2021-04-26-08:36:58  \n",
       " 763  2021-04-26-08:36:58  \n",
       " 764  2021-04-26-08:36:58  \n",
       " 765  2021-04-26-08:36:58  \n",
       " 766  2021-04-26-08:36:58  \n",
       " 767  2021-04-26-08:36:58  \n",
       " 768  2021-04-26-08:36:58  \n",
       " 769  2021-04-26-08:36:58  \n",
       " 770  2021-04-26-08:36:58  \n",
       " 771  2021-04-26-08:36:58  \n",
       " 772  2021-04-26-08:36:58  \n",
       " 773  2021-04-26-08:36:58  \n",
       " 774  2021-04-26-08:36:58  \n",
       " 775  2021-04-26-08:36:58  ,\n",
       "         open    high     low   close    volume  traded  Hammer ticker  \\\n",
       " 1167  299.80  299.90  299.70  299.85   40500.0   False     0.0    DLF   \n",
       " 1168  299.75  299.75  299.15  299.35   66329.0   False     0.0    DLF   \n",
       " 1169  299.40  299.85  299.15  299.50   53926.0   False     0.0    DLF   \n",
       " 1170  299.60  299.70  299.40  299.65   23548.0   False     0.0    DLF   \n",
       " 1171  299.50  299.65  299.30  299.60   24307.0    True   100.0    DLF   \n",
       " 1172  299.40  300.40  299.35  300.30  120614.0   False     NaN    DLF   \n",
       " 1173  300.30  300.75  300.05  300.70   85591.0   False     NaN    DLF   \n",
       " 1174  300.50  300.70  299.40  299.70  174387.0   False     NaN    DLF   \n",
       " 1175  299.75  299.90  299.50  299.60   55307.0   False     NaN    DLF   \n",
       " 1176  299.60  299.70  299.00  299.30   57085.0   False     NaN    DLF   \n",
       " 1177  299.20  299.40  298.80  299.15   65806.0   False     NaN    DLF   \n",
       " 1178  299.10  299.15  298.80  299.00   20294.0   False     NaN    DLF   \n",
       " 1179  298.85  298.95  298.20  298.40   79801.0   False     NaN    DLF   \n",
       " 1180  298.30  298.70  297.80  297.95   72526.0   False     NaN    DLF   \n",
       " 1181  297.95  298.15  297.70  297.95   30682.0   False     NaN    DLF   \n",
       " 1182  298.00  298.00  297.55  297.70   31432.0   False     NaN    DLF   \n",
       " 1183  297.70  298.00  297.65  297.85   50151.0   False     NaN    DLF   \n",
       " 1184  297.70  298.70  297.65  298.65   49879.0   False     NaN    DLF   \n",
       " 1185  298.70  299.45  298.55  298.70   50401.0   False     NaN    DLF   \n",
       " \n",
       "                      date  \n",
       " 1167  2021-04-27-08:36:58  \n",
       " 1168  2021-04-27-08:36:58  \n",
       " 1169  2021-04-27-08:36:58  \n",
       " 1170  2021-04-27-08:36:58  \n",
       " 1171  2021-04-27-08:36:58  \n",
       " 1172  2021-04-27-08:36:58  \n",
       " 1173  2021-04-27-08:36:58  \n",
       " 1174  2021-04-27-08:36:58  \n",
       " 1175  2021-04-27-08:36:58  \n",
       " 1176  2021-04-27-08:36:58  \n",
       " 1177  2021-04-27-08:36:58  \n",
       " 1178  2021-04-27-08:36:58  \n",
       " 1179  2021-04-27-08:36:58  \n",
       " 1180  2021-04-27-08:36:58  \n",
       " 1181  2021-04-27-08:36:58  \n",
       " 1182  2021-04-27-08:36:58  \n",
       " 1183  2021-04-27-08:36:58  \n",
       " 1184  2021-04-27-08:36:58  \n",
       " 1185  2021-04-27-08:36:58  ,\n",
       "         open    high     low   close   volume  traded  Hammer ticker  \\\n",
       " 1515  294.95  295.10  294.50  294.70  46088.0   False     0.0    DLF   \n",
       " 1516  294.55  294.95  294.55  294.80   8175.0   False     0.0    DLF   \n",
       " 1517  294.90  295.30  294.55  295.25  37069.0   False     0.0    DLF   \n",
       " 1518  295.45  295.50  294.95  295.10   6569.0   False     0.0    DLF   \n",
       " 1519  295.10  295.10  294.65  294.90  10467.0    True   100.0    DLF   \n",
       " 1520  294.90  295.50  294.75  294.85  23634.0   False     NaN    DLF   \n",
       " 1521  294.85  295.10  294.45  294.60  20912.0   False     NaN    DLF   \n",
       " 1522  294.60  295.20  294.55  295.20  13240.0   False     NaN    DLF   \n",
       " 1523  295.20  295.35  294.85  295.15   9992.0   False     NaN    DLF   \n",
       " 1524  295.00  295.30  294.80  294.80  10120.0   False     NaN    DLF   \n",
       " 1525  294.80  295.05  294.60  294.85   8753.0   False     NaN    DLF   \n",
       " 1526  294.85  295.10  294.65  294.80   7692.0   False     NaN    DLF   \n",
       " 1527  294.65  294.85  294.60  294.85  13410.0   False     NaN    DLF   \n",
       " 1528  294.85  294.85  294.25  294.25  25990.0   False     NaN    DLF   \n",
       " 1529  294.25  294.40  293.90  294.05  30452.0   False     NaN    DLF   \n",
       " 1530  294.00  294.50  293.90  294.15  20712.0   False     NaN    DLF   \n",
       " 1531  294.10  294.50  293.95  294.00  18340.0   False     NaN    DLF   \n",
       " 1532  294.00  294.10  293.85  294.05   9058.0   False     NaN    DLF   \n",
       " 1533  293.90  294.20  293.85  294.10   5457.0   False     NaN    DLF   \n",
       " \n",
       "                      date  \n",
       " 1515  2021-04-28-08:36:58  \n",
       " 1516  2021-04-28-08:36:58  \n",
       " 1517  2021-04-28-08:36:58  \n",
       " 1518  2021-04-28-08:36:58  \n",
       " 1519  2021-04-28-08:36:58  \n",
       " 1520  2021-04-28-08:36:58  \n",
       " 1521  2021-04-28-08:36:58  \n",
       " 1522  2021-04-28-08:36:58  \n",
       " 1523  2021-04-28-08:36:58  \n",
       " 1524  2021-04-28-08:36:58  \n",
       " 1525  2021-04-28-08:36:58  \n",
       " 1526  2021-04-28-08:36:58  \n",
       " 1527  2021-04-28-08:36:58  \n",
       " 1528  2021-04-28-08:36:58  \n",
       " 1529  2021-04-28-08:36:58  \n",
       " 1530  2021-04-28-08:36:58  \n",
       " 1531  2021-04-28-08:36:58  \n",
       " 1532  2021-04-28-08:36:58  \n",
       " 1533  2021-04-28-08:36:58  ,\n",
       "         open    high     low   close   volume  traded  Hammer ticker  \\\n",
       " 2004  278.00  278.00  277.55  277.85   9087.0   False     0.0    DLF   \n",
       " 2005  277.85  277.85  277.20  277.40  17474.0   False     0.0    DLF   \n",
       " 2006  277.40  277.40  277.00  277.10  10289.0   False     0.0    DLF   \n",
       " 2007  277.05  277.20  276.90  277.00   7129.0   False     0.0    DLF   \n",
       " 2008  277.00  277.15  276.60  277.15  14573.0    True   100.0    DLF   \n",
       " 2009  277.15  277.15  276.70  277.05  10823.0   False     NaN    DLF   \n",
       " 2010  277.05  277.20  276.55  276.80  40763.0   False     NaN    DLF   \n",
       " 2011  276.80  277.20  276.60  277.05  15525.0   False     NaN    DLF   \n",
       " 2012  277.15  277.15  276.60  276.60  10525.0   False     NaN    DLF   \n",
       " 2013  276.65  276.75  276.00  276.55  87970.0   False     NaN    DLF   \n",
       " 2014  276.40  276.55  276.00  276.30  27041.0   False     NaN    DLF   \n",
       " 2015  276.10  276.60  276.00  276.30  14780.0   False     NaN    DLF   \n",
       " 2016  276.30  276.40  276.10  276.20  13201.0   False     NaN    DLF   \n",
       " 2017  276.25  276.35  276.10  276.10  24231.0   False     NaN    DLF   \n",
       " 2018  276.10  276.35  276.05  276.20  15737.0   False     NaN    DLF   \n",
       " 2019  276.20  276.35  276.10  276.20   8120.0   False     NaN    DLF   \n",
       " 2020  276.20  276.20  275.65  275.80  39200.0   False     NaN    DLF   \n",
       " 2021  275.90  276.30  275.40  276.00  86775.0   False     NaN    DLF   \n",
       " 2022  276.05  276.05  275.45  275.70  10463.0   False     NaN    DLF   \n",
       " \n",
       "                      date  \n",
       " 2004  2021-04-29-08:36:58  \n",
       " 2005  2021-04-29-08:36:58  \n",
       " 2006  2021-04-29-08:36:58  \n",
       " 2007  2021-04-29-08:36:58  \n",
       " 2008  2021-04-29-08:36:58  \n",
       " 2009  2021-04-29-08:36:58  \n",
       " 2010  2021-04-29-08:36:58  \n",
       " 2011  2021-04-29-08:36:58  \n",
       " 2012  2021-04-29-08:36:58  \n",
       " 2013  2021-04-29-08:36:58  \n",
       " 2014  2021-04-29-08:36:58  \n",
       " 2015  2021-04-29-08:36:58  \n",
       " 2016  2021-04-29-08:36:58  \n",
       " 2017  2021-04-29-08:36:58  \n",
       " 2018  2021-04-29-08:36:58  \n",
       " 2019  2021-04-29-08:36:58  \n",
       " 2020  2021-04-29-08:36:58  \n",
       " 2021  2021-04-29-08:36:58  \n",
       " 2022  2021-04-29-08:36:58  ,\n",
       "         open    high     low   close   volume  traded  Hammer ticker  \\\n",
       " 2288  281.45  281.45  280.10  280.40  24579.0   False     0.0    DLF   \n",
       " 2289  280.25  280.40  279.60  279.60  15360.0   False     0.0    DLF   \n",
       " 2290  279.70  280.25  279.60  280.25  17160.0   False     0.0    DLF   \n",
       " 2291  280.10  280.55  280.10  280.50  16460.0   False     0.0    DLF   \n",
       " 2292  280.40  280.40  279.50  280.10  28164.0    True   100.0    DLF   \n",
       " 2293  280.10  280.40  279.85  279.95  10773.0   False     NaN    DLF   \n",
       " 2294  279.95  280.40  279.80  280.30   7831.0   False     NaN    DLF   \n",
       " 2295  280.25  280.90  280.20  280.80  40689.0   False     NaN    DLF   \n",
       " 2296  280.80  281.30  280.75  281.00  23299.0   False     NaN    DLF   \n",
       " 2297  281.10  281.30  280.95  281.20  12610.0   False     NaN    DLF   \n",
       " 2298  281.20  281.40  280.90  281.30  24408.0   False     NaN    DLF   \n",
       " 2299  281.30  281.40  280.90  281.20  83201.0   False     NaN    DLF   \n",
       " 2300  281.25  281.40  280.95  280.95  14588.0   False     NaN    DLF   \n",
       " 2301  281.00  281.00  280.80  280.80  13419.0   False     NaN    DLF   \n",
       " 2302  280.85  281.25  280.65  281.05  12036.0   False     NaN    DLF   \n",
       " 2303  281.05  281.20  280.75  280.80   9113.0   False     NaN    DLF   \n",
       " 2304  280.70  281.10  280.65  281.00   9219.0   False     NaN    DLF   \n",
       " 2305  281.00  281.85  280.90  281.60  63954.0   False     NaN    DLF   \n",
       " 2306  281.60  281.70  281.35  281.50  13606.0   False     NaN    DLF   \n",
       " \n",
       "                      date  \n",
       " 2288  2021-04-30-08:36:58  \n",
       " 2289  2021-04-30-08:36:58  \n",
       " 2290  2021-04-30-08:36:58  \n",
       " 2291  2021-04-30-08:36:58  \n",
       " 2292  2021-04-30-08:36:58  \n",
       " 2293  2021-04-30-08:36:58  \n",
       " 2294  2021-04-30-08:36:58  \n",
       " 2295  2021-04-30-08:36:58  \n",
       " 2296  2021-04-30-08:36:58  \n",
       " 2297  2021-04-30-08:36:58  \n",
       " 2298  2021-04-30-08:36:58  \n",
       " 2299  2021-04-30-08:36:58  \n",
       " 2300  2021-04-30-08:36:58  \n",
       " 2301  2021-04-30-08:36:58  \n",
       " 2302  2021-04-30-08:36:58  \n",
       " 2303  2021-04-30-08:36:58  \n",
       " 2304  2021-04-30-08:36:58  \n",
       " 2305  2021-04-30-08:36:58  \n",
       " 2306  2021-04-30-08:36:58  ,\n",
       "         open    high     low   close   volume  traded  Hammer ticker  \\\n",
       " 2724  282.75  283.25  282.75  283.20  11246.0   False     0.0    DLF   \n",
       " 2725  283.20  283.20  282.70  282.70   4086.0   False     0.0    DLF   \n",
       " 2726  282.70  282.90  282.65  282.65   3874.0   False     0.0    DLF   \n",
       " 2727  282.85  282.85  282.65  282.70   5943.0   False     0.0    DLF   \n",
       " 2728  282.70  282.70  282.50  282.70   4569.0    True   100.0    DLF   \n",
       " 2729  282.70  282.70  282.50  282.50   4067.0   False     NaN    DLF   \n",
       " 2730  282.50  282.60  282.50  282.55   7714.0   False     NaN    DLF   \n",
       " 2731  282.55  282.80  282.50  282.80   7562.0   False     NaN    DLF   \n",
       " 2732  282.80  282.80  282.50  282.65   3882.0   False     NaN    DLF   \n",
       " 2733  282.55  282.65  282.30  282.35  11247.0   False     NaN    DLF   \n",
       " 2734  282.35  282.50  282.30  282.45   6557.0   False     NaN    DLF   \n",
       " 2735  282.30  282.40  282.30  282.35   3857.0   False     NaN    DLF   \n",
       " 2736  282.35  282.45  282.25  282.40   5737.0   False     NaN    DLF   \n",
       " 2737  282.40  282.50  282.25  282.50   9249.0   False     NaN    DLF   \n",
       " 2738  282.50  282.50  282.25  282.30   3099.0   False     NaN    DLF   \n",
       " 2739  282.30  282.40  282.25  282.40   5864.0   False     NaN    DLF   \n",
       " 2740  282.25  282.40  282.15  282.15   9699.0   False     NaN    DLF   \n",
       " 2741  282.15  282.35  282.10  282.35   6904.0   False     NaN    DLF   \n",
       " 2742  282.15  282.35  282.15  282.30   3672.0   False     NaN    DLF   \n",
       " \n",
       "                      date  \n",
       " 2724  2021-05-01-08:36:58  \n",
       " 2725  2021-05-01-08:36:58  \n",
       " 2726  2021-05-01-08:36:58  \n",
       " 2727  2021-05-01-08:36:58  \n",
       " 2728  2021-05-01-08:36:58  \n",
       " 2729  2021-05-01-08:36:58  \n",
       " 2730  2021-05-01-08:36:58  \n",
       " 2731  2021-05-01-08:36:58  \n",
       " 2732  2021-05-01-08:36:58  \n",
       " 2733  2021-05-01-08:36:58  \n",
       " 2734  2021-05-01-08:36:58  \n",
       " 2735  2021-05-01-08:36:58  \n",
       " 2736  2021-05-01-08:36:58  \n",
       " 2737  2021-05-01-08:36:58  \n",
       " 2738  2021-05-01-08:36:58  \n",
       " 2739  2021-05-01-08:36:58  \n",
       " 2740  2021-05-01-08:36:58  \n",
       " 2741  2021-05-01-08:36:58  \n",
       " 2742  2021-05-01-08:36:58  ,\n",
       "         open    high     low   close   volume  traded  Hammer ticker  \\\n",
       " 3010  281.20  281.45  280.05  280.05  72267.0   False     0.0    DLF   \n",
       " 3011  280.10  280.20  279.50  279.70  39328.0   False     0.0    DLF   \n",
       " 3012  279.60  280.15  279.50  280.00  47263.0   False     0.0    DLF   \n",
       " 3013  280.10  280.20  279.55  279.65   9962.0   False     0.0    DLF   \n",
       " 3014  279.65  279.70  279.60  279.65   9960.0    True   100.0    DLF   \n",
       " 3015  279.65  279.95  279.45  279.95  48927.0   False     NaN    DLF   \n",
       " 3016  280.00  280.90  279.95  280.65  43667.0   False     NaN    DLF   \n",
       " 3017  280.55  280.80  280.30  280.70  13722.0   False     NaN    DLF   \n",
       " 3018  280.70  280.95  280.35  280.65  21539.0   False     NaN    DLF   \n",
       " 3019  280.60  280.70  280.30  280.50  11537.0   False     NaN    DLF   \n",
       " 3020  280.50  280.50  280.05  280.45  10324.0   False     NaN    DLF   \n",
       " 3021  280.45  281.45  280.45  281.30  31269.0   False     NaN    DLF   \n",
       " 3022  281.25  281.80  281.20  281.40  32721.0   False     NaN    DLF   \n",
       " 3023  281.50  281.60  281.10  281.35  20717.0   False     NaN    DLF   \n",
       " 3024  281.35  281.35  281.00  281.05   8383.0   False     NaN    DLF   \n",
       " 3025  281.05  281.20  280.75  281.15  31015.0   False     NaN    DLF   \n",
       " 3026  281.10  281.80  281.10  281.70  29457.0   False     NaN    DLF   \n",
       " 3027  281.60  281.80  281.50  281.50   6831.0   False     NaN    DLF   \n",
       " 3028  281.50  281.75  281.25  281.50  26378.0   False     NaN    DLF   \n",
       " \n",
       "                      date  \n",
       " 3010  2021-05-02-08:36:58  \n",
       " 3011  2021-05-02-08:36:58  \n",
       " 3012  2021-05-02-08:36:58  \n",
       " 3013  2021-05-02-08:36:58  \n",
       " 3014  2021-05-02-08:36:58  \n",
       " 3015  2021-05-02-08:36:58  \n",
       " 3016  2021-05-02-08:36:58  \n",
       " 3017  2021-05-02-08:36:58  \n",
       " 3018  2021-05-02-08:36:58  \n",
       " 3019  2021-05-02-08:36:58  \n",
       " 3020  2021-05-02-08:36:58  \n",
       " 3021  2021-05-02-08:36:58  \n",
       " 3022  2021-05-02-08:36:58  \n",
       " 3023  2021-05-02-08:36:58  \n",
       " 3024  2021-05-02-08:36:58  \n",
       " 3025  2021-05-02-08:36:58  \n",
       " 3026  2021-05-02-08:36:58  \n",
       " 3027  2021-05-02-08:36:58  \n",
       " 3028  2021-05-02-08:36:58  ,\n",
       "         open    high     low   close   volume  traded  Hammer ticker  \\\n",
       " 3385  287.70  287.85  286.65  286.65  31088.0   False     0.0    DLF   \n",
       " 3386  286.95  286.95  286.20  286.50  34802.0   False     0.0    DLF   \n",
       " 3387  286.50  286.65  285.60  286.35  42730.0   False     0.0    DLF   \n",
       " 3388  286.45  286.80  286.10  286.30  14820.0   False     0.0    DLF   \n",
       " 3389  286.25  286.45  286.00  286.45  11916.0    True   100.0    DLF   \n",
       " 3390  286.45  286.70  286.00  286.10  16805.0   False     NaN    DLF   \n",
       " 3391  286.10  286.20  285.60  285.65  45301.0   False     NaN    DLF   \n",
       " 3392  285.85  285.95  285.20  285.50  71879.0   False     NaN    DLF   \n",
       " 3393  285.65  286.20  285.50  285.90  30433.0   False     NaN    DLF   \n",
       " 3394  286.05  286.20  285.40  285.65  22158.0   False     NaN    DLF   \n",
       " 3395  285.55  285.85  285.30  285.55  49017.0   False     NaN    DLF   \n",
       " 3396  285.45  285.60  285.00  285.20  32901.0   False     NaN    DLF   \n",
       " 3397  285.05  285.35  285.00  285.10  29823.0   False     NaN    DLF   \n",
       " 3398  285.10  285.15  284.75  285.00  55596.0   False     NaN    DLF   \n",
       " 3399  285.00  285.10  284.50  285.00  34867.0   False     NaN    DLF   \n",
       " 3400  284.85  285.30  284.80  285.25  27426.0   False     NaN    DLF   \n",
       " 3401  285.25  285.65  285.05  285.50  49487.0   False     NaN    DLF   \n",
       " 3402  285.20  285.45  285.15  285.40  14700.0   False     NaN    DLF   \n",
       " 3403  285.20  285.45  285.20  285.45   7197.0   False     NaN    DLF   \n",
       " \n",
       "                      date  \n",
       " 3385  2021-05-03-08:36:58  \n",
       " 3386  2021-05-03-08:36:58  \n",
       " 3387  2021-05-03-08:36:58  \n",
       " 3388  2021-05-03-08:36:58  \n",
       " 3389  2021-05-03-08:36:58  \n",
       " 3390  2021-05-03-08:36:58  \n",
       " 3391  2021-05-03-08:36:58  \n",
       " 3392  2021-05-03-08:36:58  \n",
       " 3393  2021-05-03-08:36:58  \n",
       " 3394  2021-05-03-08:36:58  \n",
       " 3395  2021-05-03-08:36:58  \n",
       " 3396  2021-05-03-08:36:58  \n",
       " 3397  2021-05-03-08:36:58  \n",
       " 3398  2021-05-03-08:36:58  \n",
       " 3399  2021-05-03-08:36:58  \n",
       " 3400  2021-05-03-08:36:58  \n",
       " 3401  2021-05-03-08:36:58  \n",
       " 3402  2021-05-03-08:36:58  \n",
       " 3403  2021-05-03-08:36:58  ,\n",
       "         open    high     low   close    volume  traded  Hammer ticker  \\\n",
       " 3793  281.85  281.85  281.55  281.80   37869.0   False     0.0    DLF   \n",
       " 3794  281.65  281.65  280.45  280.65   62036.0   False     0.0    DLF   \n",
       " 3795  280.50  281.00  279.85  280.70  114947.0   False     0.0    DLF   \n",
       " 3796  280.70  280.85  279.70  279.85   40174.0   False     0.0    DLF   \n",
       " 3797  279.95  279.95  278.35  279.50  124806.0    True   100.0    DLF   \n",
       " 3798  279.30  279.90  278.25  278.95   80116.0   False     NaN    DLF   \n",
       " 3799  278.80  280.30  278.55  279.75   50611.0   False     NaN    DLF   \n",
       " 3800  279.65  279.65  278.40  278.90  113445.0   False     NaN    DLF   \n",
       " 3801  278.80  279.35  278.65  279.25   38172.0   False     NaN    DLF   \n",
       " 3802  279.20  279.65  279.05  279.35   32401.0   False     NaN    DLF   \n",
       " 3803  279.30  279.55  279.15  279.55   33649.0   False     NaN    DLF   \n",
       " 3804  279.30  279.55  278.95  279.15   42532.0   False     NaN    DLF   \n",
       " 3805  279.00  279.50  278.40  278.40   89387.0   False     NaN    DLF   \n",
       " 3806  278.35  279.00  278.25  278.45   65785.0   False     NaN    DLF   \n",
       " 3807  278.45  278.55  278.10  278.35   42400.0   False     NaN    DLF   \n",
       " 3808  278.50  278.50  277.40  278.00   66685.0   False     NaN    DLF   \n",
       " 3809  278.30  278.90  278.00  278.75   22309.0   False     NaN    DLF   \n",
       " 3810  278.65  278.65  277.05  277.20   50540.0   False     NaN    DLF   \n",
       " 3811  277.10  277.20  276.30  276.95   70897.0   False     NaN    DLF   \n",
       " \n",
       "                      date  \n",
       " 3793  2021-05-04-08:36:58  \n",
       " 3794  2021-05-04-08:36:58  \n",
       " 3795  2021-05-04-08:36:58  \n",
       " 3796  2021-05-04-08:36:58  \n",
       " 3797  2021-05-04-08:36:58  \n",
       " 3798  2021-05-04-08:36:58  \n",
       " 3799  2021-05-04-08:36:58  \n",
       " 3800  2021-05-04-08:36:58  \n",
       " 3801  2021-05-04-08:36:58  \n",
       " 3802  2021-05-04-08:36:58  \n",
       " 3803  2021-05-04-08:36:58  \n",
       " 3804  2021-05-04-08:36:58  \n",
       " 3805  2021-05-04-08:36:58  \n",
       " 3806  2021-05-04-08:36:58  \n",
       " 3807  2021-05-04-08:36:58  \n",
       " 3808  2021-05-04-08:36:58  \n",
       " 3809  2021-05-04-08:36:58  \n",
       " 3810  2021-05-04-08:36:58  \n",
       " 3811  2021-05-04-08:36:58  ,\n",
       "         open    high     low   close   volume  traded  Hammer ticker  \\\n",
       " 4137  280.95  281.25  280.20  281.15  83648.0   False     0.0    DLF   \n",
       " 4138  281.25  281.60  280.80  281.00  60636.0   False     0.0    DLF   \n",
       " 4139  281.00  281.30  280.55  281.15  42432.0   False     0.0    DLF   \n",
       " 4140  281.15  281.60  280.75  280.75  73565.0   False     0.0    DLF   \n",
       " 4141  280.95  281.00  280.25  280.65  54039.0    True   100.0    DLF   \n",
       " 4142  280.80  280.90  280.20  280.40  33150.0   False     NaN    DLF   \n",
       " 4143  280.25  281.20  280.25  280.70  25727.0   False     NaN    DLF   \n",
       " 4144  280.75  281.10  280.70  280.95  15415.0   False     NaN    DLF   \n",
       " 4145  281.05  281.45  280.80  280.80  58958.0   False     NaN    DLF   \n",
       " 4146  280.90  281.00  280.50  280.90  14344.0   False     NaN    DLF   \n",
       " 4147  280.75  281.25  280.75  281.05  24900.0   False     NaN    DLF   \n",
       " 4148  281.05  281.50  280.95  281.45  25043.0   False     NaN    DLF   \n",
       " 4149  281.45  281.65  281.20  281.35  34861.0   False     NaN    DLF   \n",
       " 4150  281.20  281.45  280.70  280.90  29454.0   False     NaN    DLF   \n",
       " 4151  280.75  280.95  280.50  280.95  24635.0   False     NaN    DLF   \n",
       " 4152  280.85  281.30  280.80  281.10  13875.0   False     NaN    DLF   \n",
       " 4153  281.10  281.10  280.60  280.75  14652.0   False     NaN    DLF   \n",
       " 4154  280.80  281.00  280.25  280.55  27769.0   False     NaN    DLF   \n",
       " 4155  280.40  280.60  279.70  280.60  63889.0   False     NaN    DLF   \n",
       " \n",
       "                      date  \n",
       " 4137  2021-05-05-08:36:58  \n",
       " 4138  2021-05-05-08:36:58  \n",
       " 4139  2021-05-05-08:36:58  \n",
       " 4140  2021-05-05-08:36:58  \n",
       " 4141  2021-05-05-08:36:58  \n",
       " 4142  2021-05-05-08:36:58  \n",
       " 4143  2021-05-05-08:36:58  \n",
       " 4144  2021-05-05-08:36:58  \n",
       " 4145  2021-05-05-08:36:58  \n",
       " 4146  2021-05-05-08:36:58  \n",
       " 4147  2021-05-05-08:36:58  \n",
       " 4148  2021-05-05-08:36:58  \n",
       " 4149  2021-05-05-08:36:58  \n",
       " 4150  2021-05-05-08:36:58  \n",
       " 4151  2021-05-05-08:36:58  \n",
       " 4152  2021-05-05-08:36:58  \n",
       " 4153  2021-05-05-08:36:58  \n",
       " 4154  2021-05-05-08:36:58  \n",
       " 4155  2021-05-05-08:36:58  ,\n",
       "         open    high     low   close   volume  traded  Hammer ticker  \\\n",
       " 4797  282.10  282.20  282.10  282.10   2753.0   False     0.0    DLF   \n",
       " 4798  282.10  282.20  282.10  282.10   4613.0   False     0.0    DLF   \n",
       " 4799  282.10  282.75  282.10  282.65  24113.0   False     0.0    DLF   \n",
       " 4800  282.65  282.75  282.50  282.50  20999.0   False     0.0    DLF   \n",
       " 4801  282.55  282.55  282.15  282.50   7838.0    True   100.0    DLF   \n",
       " 4802  282.50  282.75  282.40  282.55  14842.0   False     NaN    DLF   \n",
       " 4803  282.55  282.80  282.45  282.70  17105.0   False     NaN    DLF   \n",
       " 4804  282.70  282.85  282.65  282.65   7876.0   False     NaN    DLF   \n",
       " 4805  282.75  283.00  282.65  282.80  30730.0   False     NaN    DLF   \n",
       " 4806  282.95  283.00  282.70  282.85  11665.0   False     NaN    DLF   \n",
       " 4807  282.80  283.25  282.80  282.80  21844.0   False     NaN    DLF   \n",
       " 4808  282.80  283.00  282.70  282.80  19677.0   False     NaN    DLF   \n",
       " 4809  282.80  282.95  282.70  282.70   4312.0   False     NaN    DLF   \n",
       " 4810  282.70  282.80  282.50  282.50  11029.0   False     NaN    DLF   \n",
       " 4811  282.60  282.75  282.15  282.60  31229.0   False     NaN    DLF   \n",
       " 4812  282.60  283.00  282.55  282.85  16808.0   False     NaN    DLF   \n",
       " 4813  282.85  283.00  282.55  282.75  14873.0   False     NaN    DLF   \n",
       " 4814  282.75  282.80  282.55  282.60   5339.0   False     NaN    DLF   \n",
       " 4815  282.60  283.50  282.60  283.15  52652.0   False     NaN    DLF   \n",
       " \n",
       "                      date  \n",
       " 4797  2021-05-06-08:36:58  \n",
       " 4798  2021-05-06-08:36:58  \n",
       " 4799  2021-05-06-08:36:58  \n",
       " 4800  2021-05-06-08:36:58  \n",
       " 4801  2021-05-06-08:36:58  \n",
       " 4802  2021-05-06-08:36:58  \n",
       " 4803  2021-05-06-08:36:58  \n",
       " 4804  2021-05-06-08:36:58  \n",
       " 4805  2021-05-06-08:36:58  \n",
       " 4806  2021-05-06-08:36:58  \n",
       " 4807  2021-05-06-08:36:58  \n",
       " 4808  2021-05-06-08:36:58  \n",
       " 4809  2021-05-06-08:36:58  \n",
       " 4810  2021-05-06-08:36:58  \n",
       " 4811  2021-05-06-08:36:58  \n",
       " 4812  2021-05-06-08:36:58  \n",
       " 4813  2021-05-06-08:36:58  \n",
       " 4814  2021-05-06-08:36:58  \n",
       " 4815  2021-05-06-08:36:58  ,\n",
       "         open    high     low   close   volume  traded  Hammer ticker  \\\n",
       " 4912  285.75  285.85  285.65  285.75  11882.0   False     0.0    DLF   \n",
       " 4913  285.65  286.30  285.50  286.25  30803.0   False     0.0    DLF   \n",
       " 4914  286.35  286.35  286.00  286.10  15713.0   False     0.0    DLF   \n",
       " 4915  286.10  286.25  286.00  286.00   8254.0   False     0.0    DLF   \n",
       " 4916  286.00  286.00  285.80  286.00   6506.0    True   100.0    DLF   \n",
       " 4917  285.85  286.05  285.80  286.05  10234.0   False     NaN    DLF   \n",
       " 4918  286.05  286.20  285.90  286.10   4211.0   False     NaN    DLF   \n",
       " 4919  286.10  286.10  286.00  286.10   2640.0   False     NaN    DLF   \n",
       " 4920  286.00  286.35  285.90  286.30  23811.0   False     NaN    DLF   \n",
       " 4921  286.20  286.40  286.15  286.15   2734.0   False     NaN    DLF   \n",
       " 4922  286.20  286.40  286.20  286.25   2555.0   False     NaN    DLF   \n",
       " 4923  286.25  286.25  285.95  286.20   6441.0   False     NaN    DLF   \n",
       " 4924  286.20  286.20  285.70  285.85   9753.0   False     NaN    DLF   \n",
       " 4925  285.85  286.00  285.70  286.00  12521.0   False     NaN    DLF   \n",
       " 4926  285.90  286.10  285.85  286.00   4267.0   False     NaN    DLF   \n",
       " 4927  286.00  286.50  285.90  286.45  19919.0   False     NaN    DLF   \n",
       " 4928  286.50  286.90  286.40  286.55  22930.0   False     NaN    DLF   \n",
       " 4929  286.55  286.85  286.55  286.65  13654.0   False     NaN    DLF   \n",
       " 4930  286.65  286.80  286.45  286.45   7387.0   False     NaN    DLF   \n",
       " \n",
       "                      date  \n",
       " 4912  2021-05-07-08:36:58  \n",
       " 4913  2021-05-07-08:36:58  \n",
       " 4914  2021-05-07-08:36:58  \n",
       " 4915  2021-05-07-08:36:58  \n",
       " 4916  2021-05-07-08:36:58  \n",
       " 4917  2021-05-07-08:36:58  \n",
       " 4918  2021-05-07-08:36:58  \n",
       " 4919  2021-05-07-08:36:58  \n",
       " 4920  2021-05-07-08:36:58  \n",
       " 4921  2021-05-07-08:36:58  \n",
       " 4922  2021-05-07-08:36:58  \n",
       " 4923  2021-05-07-08:36:58  \n",
       " 4924  2021-05-07-08:36:58  \n",
       " 4925  2021-05-07-08:36:58  \n",
       " 4926  2021-05-07-08:36:58  \n",
       " 4927  2021-05-07-08:36:58  \n",
       " 4928  2021-05-07-08:36:58  \n",
       " 4929  2021-05-07-08:36:58  \n",
       " 4930  2021-05-07-08:36:58  ,\n",
       "         open    high     low   close   volume  traded  Hammer ticker  \\\n",
       " 5292  283.50  283.75  283.45  283.55  77170.0   False     0.0    DLF   \n",
       " 5293  283.50  283.95  283.40  283.90  46582.0   False     0.0    DLF   \n",
       " 5294  283.90  284.00  283.50  283.65  41880.0   False     0.0    DLF   \n",
       " 5295  283.60  283.85  283.50  283.60  17775.0   False     0.0    DLF   \n",
       " 5296  283.60  283.65  283.25  283.55  14400.0    True   100.0    DLF   \n",
       " 5297  283.55  283.55  282.75  282.85  12042.0   False     NaN    DLF   \n",
       " 5298  282.85  283.00  282.35  282.40  27538.0   False     NaN    DLF   \n",
       " 5299  282.35  282.85  282.05  282.60  15036.0   False     NaN    DLF   \n",
       " 5300  282.60  283.20  282.60  283.10  12768.0   False     NaN    DLF   \n",
       " 5301  283.10  283.30  282.85  283.30  44025.0   False     NaN    DLF   \n",
       " 5302  283.30  283.30  283.00  283.10   9102.0   False     NaN    DLF   \n",
       " 5303  282.85  282.95  282.60  282.80   9830.0   False     NaN    DLF   \n",
       " 5304  282.80  283.20  282.70  283.20  18017.0   False     NaN    DLF   \n",
       " 5305  283.20  283.30  282.90  283.10  22564.0   False     NaN    DLF   \n",
       " 5306  283.15  283.15  282.95  283.05  11046.0   False     NaN    DLF   \n",
       " 5307  283.05  283.05  282.70  282.75  10903.0   False     NaN    DLF   \n",
       " 5308  282.75  282.85  282.30  282.45  31750.0   False     NaN    DLF   \n",
       " 5309  282.40  282.65  282.20  282.60  13309.0   False     NaN    DLF   \n",
       " 5310  282.60  282.70  281.95  282.15  19019.0   False     NaN    DLF   \n",
       " \n",
       "                      date  \n",
       " 5292  2021-05-08-08:36:58  \n",
       " 5293  2021-05-08-08:36:58  \n",
       " 5294  2021-05-08-08:36:58  \n",
       " 5295  2021-05-08-08:36:58  \n",
       " 5296  2021-05-08-08:36:58  \n",
       " 5297  2021-05-08-08:36:58  \n",
       " 5298  2021-05-08-08:36:58  \n",
       " 5299  2021-05-08-08:36:58  \n",
       " 5300  2021-05-08-08:36:58  \n",
       " 5301  2021-05-08-08:36:58  \n",
       " 5302  2021-05-08-08:36:58  \n",
       " 5303  2021-05-08-08:36:58  \n",
       " 5304  2021-05-08-08:36:58  \n",
       " 5305  2021-05-08-08:36:58  \n",
       " 5306  2021-05-08-08:36:58  \n",
       " 5307  2021-05-08-08:36:58  \n",
       " 5308  2021-05-08-08:36:58  \n",
       " 5309  2021-05-08-08:36:58  \n",
       " 5310  2021-05-08-08:36:58  ,\n",
       "         open    high     low   close    volume  traded  Hammer ticker  \\\n",
       " 5641  252.30  254.05  251.60  254.05  217754.0   False     0.0    DLF   \n",
       " 5642  254.00  255.25  254.00  255.00  138186.0   False     0.0    DLF   \n",
       " 5643  254.95  256.80  254.70  256.75   85054.0   False     0.0    DLF   \n",
       " 5644  256.80  257.40  255.35  255.35  108788.0   False     0.0    DLF   \n",
       " 5645  255.05  255.10  253.75  254.85   78533.0    True   100.0    DLF   \n",
       " 5646  254.60  255.95  254.20  255.45   71198.0   False     NaN    DLF   \n",
       " 5647  255.50  258.50  255.50  257.25  137999.0   False     NaN    DLF   \n",
       " 5648  257.35  258.80  257.10  258.65   64515.0   False     NaN    DLF   \n",
       " 5649  258.60  258.70  257.55  257.80   67142.0   False     NaN    DLF   \n",
       " 5650  257.85  258.70  257.00  258.70   73899.0   False     NaN    DLF   \n",
       " 5651  258.70  259.85  258.70  259.75   70968.0   False     NaN    DLF   \n",
       " 5652  259.75  260.00  259.00  259.20   66357.0   False     NaN    DLF   \n",
       " 5653  259.15  260.00  259.15  259.45   36036.0   False     NaN    DLF   \n",
       " 5654  259.35  259.65  259.05  259.55   44095.0   False     NaN    DLF   \n",
       " 5655  259.40  260.80  258.90  259.80  100550.0   False     NaN    DLF   \n",
       " 5656  259.65  259.80  257.55  257.80   95503.0   False     NaN    DLF   \n",
       " 5657  257.60  258.40  257.10  258.25   98961.0   False     NaN    DLF   \n",
       " 5658  258.45  260.45  258.30  259.65   90479.0   False     NaN    DLF   \n",
       " 5659  259.80  260.45  257.75  258.25  110673.0   False     NaN    DLF   \n",
       " \n",
       "                      date  \n",
       " 5641  2021-05-09-08:36:58  \n",
       " 5642  2021-05-09-08:36:58  \n",
       " 5643  2021-05-09-08:36:58  \n",
       " 5644  2021-05-09-08:36:58  \n",
       " 5645  2021-05-09-08:36:58  \n",
       " 5646  2021-05-09-08:36:58  \n",
       " 5647  2021-05-09-08:36:58  \n",
       " 5648  2021-05-09-08:36:58  \n",
       " 5649  2021-05-09-08:36:58  \n",
       " 5650  2021-05-09-08:36:58  \n",
       " 5651  2021-05-09-08:36:58  \n",
       " 5652  2021-05-09-08:36:58  \n",
       " 5653  2021-05-09-08:36:58  \n",
       " 5654  2021-05-09-08:36:58  \n",
       " 5655  2021-05-09-08:36:58  \n",
       " 5656  2021-05-09-08:36:58  \n",
       " 5657  2021-05-09-08:36:58  \n",
       " 5658  2021-05-09-08:36:58  \n",
       " 5659  2021-05-09-08:36:58  ,\n",
       "         open    high     low   close    volume  traded  Hammer ticker  \\\n",
       " 6054  255.95  256.65  255.80  256.30   52833.0   False     0.0    DLF   \n",
       " 6055  256.10  256.35  255.80  256.05   40628.0   False     0.0    DLF   \n",
       " 6056  255.85  256.00  255.75  255.85   12933.0   False     0.0    DLF   \n",
       " 6057  255.70  256.00  255.50  255.50   20750.0   False     0.0    DLF   \n",
       " 6058  255.50  255.55  255.05  255.30   17840.0    True   100.0    DLF   \n",
       " 6059  255.10  255.50  254.85  255.00   23475.0   False     0.0    DLF   \n",
       " 6060  254.95  255.20  254.60  254.60   20478.0   False     0.0    DLF   \n",
       " 6061  254.60  254.75  254.20  254.20   35129.0   False     0.0    DLF   \n",
       " 6062  254.15  254.40  254.10  254.25   19130.0   False     0.0    DLF   \n",
       " 6063  254.25  254.25  253.60  253.75   46006.0   False     0.0    DLF   \n",
       " 6064  253.70  254.25  253.45  254.20   35163.0   False     0.0    DLF   \n",
       " 6065  254.00  254.45  254.00  254.20   29323.0   False     0.0    DLF   \n",
       " 6066  254.20  254.25  254.00  254.05   20306.0   False     0.0    DLF   \n",
       " 6067  254.00  254.05  253.15  253.15   41309.0   False     0.0    DLF   \n",
       " 6068  253.00  253.90  253.00  253.55  127830.0   False     0.0    DLF   \n",
       " 6069  253.55  255.40  253.55  254.90   54191.0   False     0.0    DLF   \n",
       " 6070  254.90  255.30  254.80  255.00   52034.0   False     0.0    DLF   \n",
       " 6071  255.00  255.00  254.40  254.40   19833.0   False     0.0    DLF   \n",
       " 6072  254.50  254.80  254.20  254.55   22355.0   False     0.0    DLF   \n",
       " \n",
       "                      date  \n",
       " 6054  2021-05-10-08:36:58  \n",
       " 6055  2021-05-10-08:36:58  \n",
       " 6056  2021-05-10-08:36:58  \n",
       " 6057  2021-05-10-08:36:58  \n",
       " 6058  2021-05-10-08:36:58  \n",
       " 6059  2021-05-10-08:36:58  \n",
       " 6060  2021-05-10-08:36:58  \n",
       " 6061  2021-05-10-08:36:58  \n",
       " 6062  2021-05-10-08:36:58  \n",
       " 6063  2021-05-10-08:36:58  \n",
       " 6064  2021-05-10-08:36:58  \n",
       " 6065  2021-05-10-08:36:58  \n",
       " 6066  2021-05-10-08:36:58  \n",
       " 6067  2021-05-10-08:36:58  \n",
       " 6068  2021-05-10-08:36:58  \n",
       " 6069  2021-05-10-08:36:58  \n",
       " 6070  2021-05-10-08:36:58  \n",
       " 6071  2021-05-10-08:36:58  \n",
       " 6072  2021-05-10-08:36:58  ,\n",
       "         open    high     low   close   volume  traded  Hammer ticker  \\\n",
       " 6075  254.70  254.85  253.60  253.60  37520.0   False     0.0    DLF   \n",
       " 6076  253.55  253.70  253.20  253.40  21085.0   False     0.0    DLF   \n",
       " 6077  253.20  253.75  253.10  253.40  15371.0   False     0.0    DLF   \n",
       " 6078  253.30  253.45  253.10  253.25  22624.0   False     0.0    DLF   \n",
       " 6079  253.10  253.15  252.70  253.00  46862.0    True   100.0    DLF   \n",
       " 6080  252.95  253.25  252.80  253.25  26953.0   False     NaN    DLF   \n",
       " 6081  253.05  253.70  253.05  253.70  12458.0   False     NaN    DLF   \n",
       " 6082  253.45  253.60  253.25  253.60  10894.0   False     NaN    DLF   \n",
       " 6083  253.45  253.60  253.40  253.60  15932.0   False     NaN    DLF   \n",
       " 6084  253.40  253.60  253.30  253.30  14094.0   False     NaN    DLF   \n",
       " 6085  253.25  253.60  253.25  253.60   9206.0   False     NaN    DLF   \n",
       " 6086  253.45  253.55  253.30  253.45   6740.0   False     NaN    DLF   \n",
       " 6087  253.40  253.45  252.45  252.50  29988.0   False     NaN    DLF   \n",
       " 6088  252.45  252.85  252.40  252.60  21308.0   False     NaN    DLF   \n",
       " 6089  252.55  252.85  252.50  252.85  17010.0   False     NaN    DLF   \n",
       " 6090  252.60  253.20  252.55  252.80  26648.0   False     NaN    DLF   \n",
       " 6091  252.70  252.90  252.65  252.70   8820.0   False     NaN    DLF   \n",
       " 6092  252.75  253.25  252.55  252.95  20923.0   False     NaN    DLF   \n",
       " 6093  252.75  252.75  252.40  252.60  23715.0   False     NaN    DLF   \n",
       " \n",
       "                      date  \n",
       " 6075  2021-05-10-08:36:58  \n",
       " 6076  2021-05-10-08:36:58  \n",
       " 6077  2021-05-10-08:36:58  \n",
       " 6078  2021-05-10-08:36:58  \n",
       " 6079  2021-05-10-08:36:58  \n",
       " 6080  2021-05-10-08:36:58  \n",
       " 6081  2021-05-10-08:36:58  \n",
       " 6082  2021-05-10-08:36:58  \n",
       " 6083  2021-05-10-08:36:58  \n",
       " 6084  2021-05-10-08:36:58  \n",
       " 6085  2021-05-10-08:36:58  \n",
       " 6086  2021-05-10-08:36:58  \n",
       " 6087  2021-05-10-08:36:58  \n",
       " 6088  2021-05-10-08:36:58  \n",
       " 6089  2021-05-10-08:36:58  \n",
       " 6090  2021-05-10-08:36:58  \n",
       " 6091  2021-05-10-08:36:58  \n",
       " 6092  2021-05-10-08:36:58  \n",
       " 6093  2021-05-10-08:36:58  ,\n",
       "         open    high     low   close    volume  traded  Hammer ticker  \\\n",
       " 6385  254.00  254.15  253.05  253.20   49306.0   False     0.0    DLF   \n",
       " 6386  253.20  254.20  253.00  254.20   49827.0   False     0.0    DLF   \n",
       " 6387  254.05  254.60  253.45  254.60   42592.0   False     0.0    DLF   \n",
       " 6388  254.50  255.05  254.50  254.60   39908.0   False     0.0    DLF   \n",
       " 6389  254.70  254.70  254.10  254.45   18851.0    True   100.0    DLF   \n",
       " 6390  254.45  254.55  253.80  254.00   18799.0   False     0.0    DLF   \n",
       " 6391  254.15  254.20  253.50  253.85   22649.0    True   100.0    DLF   \n",
       " 6392  253.85  253.85  253.40  253.60   17473.0   False     0.0    DLF   \n",
       " 6393  253.65  254.00  253.20  253.85   42212.0   False     0.0    DLF   \n",
       " 6394  253.75  253.90  252.65  252.80   48677.0   False     NaN    DLF   \n",
       " 6395  252.55  252.60  251.50  251.65   80298.0   False     NaN    DLF   \n",
       " 6396  251.80  252.35  251.25  252.20   60521.0   False     NaN    DLF   \n",
       " 6397  252.10  252.15  251.60  251.70   51722.0   False     NaN    DLF   \n",
       " 6398  251.75  252.10  251.45  251.65   26765.0   False     NaN    DLF   \n",
       " 6399  251.10  251.35  250.50  250.95   63004.0   False     NaN    DLF   \n",
       " 6400  250.95  250.95  248.70  249.00  260705.0   False     NaN    DLF   \n",
       " 6401  249.15  250.85  248.65  250.80   72618.0   False     NaN    DLF   \n",
       " 6402  250.95  252.00  250.75  251.65   45295.0   False     NaN    DLF   \n",
       " 6403  251.60  251.60  251.10  251.25   27219.0   False     NaN    DLF   \n",
       " \n",
       "                      date  \n",
       " 6385  2021-05-11-08:36:58  \n",
       " 6386  2021-05-11-08:36:58  \n",
       " 6387  2021-05-11-08:36:58  \n",
       " 6388  2021-05-11-08:36:58  \n",
       " 6389  2021-05-11-08:36:58  \n",
       " 6390  2021-05-11-08:36:58  \n",
       " 6391  2021-05-11-08:36:58  \n",
       " 6392  2021-05-11-08:36:58  \n",
       " 6393  2021-05-11-08:36:58  \n",
       " 6394  2021-05-11-08:36:58  \n",
       " 6395  2021-05-11-08:36:58  \n",
       " 6396  2021-05-11-08:36:58  \n",
       " 6397  2021-05-11-08:36:58  \n",
       " 6398  2021-05-11-08:36:58  \n",
       " 6399  2021-05-11-08:36:58  \n",
       " 6400  2021-05-11-08:36:58  \n",
       " 6401  2021-05-11-08:36:58  \n",
       " 6402  2021-05-11-08:36:58  \n",
       " 6403  2021-05-11-08:36:58  ,\n",
       "         open    high     low   close    volume  traded  Hammer ticker  \\\n",
       " 6387  254.05  254.60  253.45  254.60   42592.0   False     0.0    DLF   \n",
       " 6388  254.50  255.05  254.50  254.60   39908.0   False     0.0    DLF   \n",
       " 6389  254.70  254.70  254.10  254.45   18851.0    True   100.0    DLF   \n",
       " 6390  254.45  254.55  253.80  254.00   18799.0   False     0.0    DLF   \n",
       " 6391  254.15  254.20  253.50  253.85   22649.0    True   100.0    DLF   \n",
       " 6392  253.85  253.85  253.40  253.60   17473.0   False     0.0    DLF   \n",
       " 6393  253.65  254.00  253.20  253.85   42212.0   False     0.0    DLF   \n",
       " 6394  253.75  253.90  252.65  252.80   48677.0   False     NaN    DLF   \n",
       " 6395  252.55  252.60  251.50  251.65   80298.0   False     NaN    DLF   \n",
       " 6396  251.80  252.35  251.25  252.20   60521.0   False     NaN    DLF   \n",
       " 6397  252.10  252.15  251.60  251.70   51722.0   False     NaN    DLF   \n",
       " 6398  251.75  252.10  251.45  251.65   26765.0   False     NaN    DLF   \n",
       " 6399  251.10  251.35  250.50  250.95   63004.0   False     NaN    DLF   \n",
       " 6400  250.95  250.95  248.70  249.00  260705.0   False     NaN    DLF   \n",
       " 6401  249.15  250.85  248.65  250.80   72618.0   False     NaN    DLF   \n",
       " 6402  250.95  252.00  250.75  251.65   45295.0   False     NaN    DLF   \n",
       " 6403  251.60  251.60  251.10  251.25   27219.0   False     NaN    DLF   \n",
       " 6404  251.20  251.90  251.20  251.70   33353.0   False     NaN    DLF   \n",
       " 6405  251.65  252.15  250.90  251.05   40868.0   False     NaN    DLF   \n",
       " \n",
       "                      date  \n",
       " 6387  2021-05-11-08:36:58  \n",
       " 6388  2021-05-11-08:36:58  \n",
       " 6389  2021-05-11-08:36:58  \n",
       " 6390  2021-05-11-08:36:58  \n",
       " 6391  2021-05-11-08:36:58  \n",
       " 6392  2021-05-11-08:36:58  \n",
       " 6393  2021-05-11-08:36:58  \n",
       " 6394  2021-05-11-08:36:58  \n",
       " 6395  2021-05-11-08:36:58  \n",
       " 6396  2021-05-11-08:36:58  \n",
       " 6397  2021-05-11-08:36:58  \n",
       " 6398  2021-05-11-08:36:58  \n",
       " 6399  2021-05-11-08:36:58  \n",
       " 6400  2021-05-11-08:36:58  \n",
       " 6401  2021-05-11-08:36:58  \n",
       " 6402  2021-05-11-08:36:58  \n",
       " 6403  2021-05-11-08:36:58  \n",
       " 6404  2021-05-11-08:36:58  \n",
       " 6405  2021-05-11-08:36:58  ,\n",
       "         open    high     low   close   volume  traded  Hammer ticker  \\\n",
       " 6913  253.10  253.30  253.00  253.15   8015.0   False     0.0    DLF   \n",
       " 6914  253.15  253.20  252.80  252.80  23611.0   False     0.0    DLF   \n",
       " 6915  252.85  253.15  252.80  253.00  13386.0   False     0.0    DLF   \n",
       " 6916  252.90  253.00  252.75  252.90  14204.0   False     0.0    DLF   \n",
       " 6917  252.90  252.90  252.65  252.80  17364.0    True   100.0    DLF   \n",
       " 6918  252.65  252.80  252.55  252.70  38410.0   False     NaN    DLF   \n",
       " 6919  252.70  252.70  252.35  252.50  23831.0   False     NaN    DLF   \n",
       " 6920  252.55  252.80  252.35  252.75  17990.0   False     NaN    DLF   \n",
       " 6921  252.75  253.25  252.65  253.00  20604.0   False     NaN    DLF   \n",
       " 6922  253.10  253.20  252.80  253.20   7415.0   False     NaN    DLF   \n",
       " 6923  253.20  253.20  252.85  253.00   6229.0   False     NaN    DLF   \n",
       " 6924  253.00  253.10  253.00  253.10   9811.0   False     NaN    DLF   \n",
       " 6925  253.10  253.10  252.65  252.75  15008.0   False     NaN    DLF   \n",
       " 6926  252.75  252.90  252.65  252.75   2480.0   False     NaN    DLF   \n",
       " 6927  252.75  252.90  252.70  252.75   3246.0   False     NaN    DLF   \n",
       " 6928  252.75  253.00  252.75  253.00   2796.0   False     NaN    DLF   \n",
       " 6929  253.00  253.25  252.85  253.15  12865.0   False     NaN    DLF   \n",
       " 6930  253.15  253.15  252.90  253.00   9457.0   False     NaN    DLF   \n",
       " 6931  252.95  253.00  252.70  252.80  16190.0   False     NaN    DLF   \n",
       " \n",
       "                      date  \n",
       " 6913  2021-05-12-08:36:58  \n",
       " 6914  2021-05-12-08:36:58  \n",
       " 6915  2021-05-12-08:36:58  \n",
       " 6916  2021-05-12-08:36:58  \n",
       " 6917  2021-05-12-08:36:58  \n",
       " 6918  2021-05-12-08:36:58  \n",
       " 6919  2021-05-12-08:36:58  \n",
       " 6920  2021-05-12-08:36:58  \n",
       " 6921  2021-05-12-08:36:58  \n",
       " 6922  2021-05-12-08:36:58  \n",
       " 6923  2021-05-12-08:36:58  \n",
       " 6924  2021-05-12-08:36:58  \n",
       " 6925  2021-05-12-08:36:58  \n",
       " 6926  2021-05-12-08:36:58  \n",
       " 6927  2021-05-12-08:36:58  \n",
       " 6928  2021-05-12-08:36:58  \n",
       " 6929  2021-05-12-08:36:58  \n",
       " 6930  2021-05-12-08:36:58  \n",
       " 6931  2021-05-12-08:36:58  ,\n",
       "         open    high     low   close    volume  traded  Hammer ticker  \\\n",
       " 7140  241.50  241.95  241.00  241.65  135479.0   False     0.0    DLF   \n",
       " 7141  241.65  241.80  240.30  240.40   92198.0   False     0.0    DLF   \n",
       " 7142  240.55  241.10  240.15  240.25  165772.0   False     0.0    DLF   \n",
       " 7143  240.15  240.30  239.35  239.50  134560.0   False     0.0    DLF   \n",
       " 7144  239.55  239.60  239.05  239.45  133668.0    True   100.0    DLF   \n",
       " 7145  239.30  240.15  239.30  240.00   79488.0   False     NaN    DLF   \n",
       " 7146  240.00  240.00  238.95  238.95  138677.0   False     NaN    DLF   \n",
       " 7147  239.00  239.45  238.50  239.40   65132.0   False     NaN    DLF   \n",
       " 7148  239.40  239.45  238.55  238.85   55890.0   False     NaN    DLF   \n",
       " 7149  238.65  238.90  237.75  237.85  113795.0   False     NaN    DLF   \n",
       " 7150  237.90  238.15  237.35  237.90  125292.0   False     NaN    DLF   \n",
       " 7151  237.75  238.05  237.10  237.80   77551.0   False     NaN    DLF   \n",
       " 7152  237.20  237.75  236.95  237.25  155836.0   False     NaN    DLF   \n",
       " 7153  237.25  237.40  236.60  236.75  105773.0   False     NaN    DLF   \n",
       " 7154  236.80  237.00  236.55  236.55   59483.0   False     NaN    DLF   \n",
       " 7155  236.65  236.80  236.10  236.10   82691.0   False     NaN    DLF   \n",
       " 7156  235.85  237.10  235.75  237.10  184159.0   False     NaN    DLF   \n",
       " 7157  237.10  237.30  235.85  236.15   88220.0   False     NaN    DLF   \n",
       " 7158  236.15  236.80  236.00  236.40   66999.0   False     NaN    DLF   \n",
       " \n",
       "                      date  \n",
       " 7140  2021-05-13-08:36:58  \n",
       " 7141  2021-05-13-08:36:58  \n",
       " 7142  2021-05-13-08:36:58  \n",
       " 7143  2021-05-13-08:36:58  \n",
       " 7144  2021-05-13-08:36:58  \n",
       " 7145  2021-05-13-08:36:58  \n",
       " 7146  2021-05-13-08:36:58  \n",
       " 7147  2021-05-13-08:36:58  \n",
       " 7148  2021-05-13-08:36:58  \n",
       " 7149  2021-05-13-08:36:58  \n",
       " 7150  2021-05-13-08:36:58  \n",
       " 7151  2021-05-13-08:36:58  \n",
       " 7152  2021-05-13-08:36:58  \n",
       " 7153  2021-05-13-08:36:58  \n",
       " 7154  2021-05-13-08:36:58  \n",
       " 7155  2021-05-13-08:36:58  \n",
       " 7156  2021-05-13-08:36:58  \n",
       " 7157  2021-05-13-08:36:58  \n",
       " 7158  2021-05-13-08:36:58  ,\n",
       "         open    high     low   close    volume  traded  Hammer ticker  \\\n",
       " 7568  238.50  238.65  238.45  238.50   12742.0   False     0.0    DLF   \n",
       " 7569  238.50  238.60  238.40  238.50   12452.0   False     0.0    DLF   \n",
       " 7570  238.50  238.70  238.40  238.60   18225.0   False     0.0    DLF   \n",
       " 7571  238.60  238.60  238.35  238.45   22202.0   False     0.0    DLF   \n",
       " 7572  238.45  238.45  238.05  238.35   31550.0    True   100.0    DLF   \n",
       " 7573  238.35  238.70  238.20  238.60   22487.0   False     NaN    DLF   \n",
       " 7574  238.60  238.60  238.30  238.55   17524.0   False     NaN    DLF   \n",
       " 7575  238.65  238.90  238.55  238.90   35203.0   False     NaN    DLF   \n",
       " 7576  238.85  239.10  238.75  238.95  103199.0   False     NaN    DLF   \n",
       " 7577  238.95  239.20  238.80  239.10   52127.0   False     NaN    DLF   \n",
       " 7578  239.00  239.20  238.75  238.80   29916.0   False     NaN    DLF   \n",
       " 7579  238.85  238.90  238.55  238.60   19719.0   False     NaN    DLF   \n",
       " 7580  238.55  238.75  238.40  238.40   33244.0   False     NaN    DLF   \n",
       " 7581  238.45  238.75  238.40  238.70   15170.0   False     NaN    DLF   \n",
       " 7582  238.70  239.00  238.60  238.90   20954.0   False     NaN    DLF   \n",
       " 7583  238.85  239.45  238.85  239.35   46104.0   False     NaN    DLF   \n",
       " 7584  239.20  239.50  239.10  239.40   51063.0   False     NaN    DLF   \n",
       " 7585  239.40  239.60  239.40  239.55   32532.0   False     NaN    DLF   \n",
       " 7586  239.55  239.55  239.20  239.20   13800.0   False     NaN    DLF   \n",
       " \n",
       "                      date  \n",
       " 7568  2021-05-14-08:36:58  \n",
       " 7569  2021-05-14-08:36:58  \n",
       " 7570  2021-05-14-08:36:58  \n",
       " 7571  2021-05-14-08:36:58  \n",
       " 7572  2021-05-14-08:36:58  \n",
       " 7573  2021-05-14-08:36:58  \n",
       " 7574  2021-05-14-08:36:58  \n",
       " 7575  2021-05-14-08:36:58  \n",
       " 7576  2021-05-14-08:36:58  \n",
       " 7577  2021-05-14-08:36:58  \n",
       " 7578  2021-05-14-08:36:58  \n",
       " 7579  2021-05-14-08:36:58  \n",
       " 7580  2021-05-14-08:36:58  \n",
       " 7581  2021-05-14-08:36:58  \n",
       " 7582  2021-05-14-08:36:58  \n",
       " 7583  2021-05-14-08:36:58  \n",
       " 7584  2021-05-14-08:36:58  \n",
       " 7585  2021-05-14-08:36:58  \n",
       " 7586  2021-05-14-08:36:58  ,\n",
       "         open    high     low   close   volume  traded  Hammer ticker  \\\n",
       " 7896  234.70  235.10  234.40  235.05   9845.0   False     0.0    DLF   \n",
       " 7897  235.15  235.35  234.75  235.00  12833.0   False     0.0    DLF   \n",
       " 7898  234.90  235.00  234.55  234.85   7608.0   False     0.0    DLF   \n",
       " 7899  234.70  234.95  234.55  234.75   9961.0   False     0.0    DLF   \n",
       " 7900  234.75  234.80  234.15  234.65  30965.0    True   100.0    DLF   \n",
       " 7901  234.45  235.55  234.45  235.50  53562.0   False     NaN    DLF   \n",
       " 7902  235.60  235.85  235.30  235.45  26037.0   False     NaN    DLF   \n",
       " 7903  235.45  235.80  235.30  235.80  12685.0   False     NaN    DLF   \n",
       " 7904  235.70  235.90  235.35  235.50  13532.0   False     NaN    DLF   \n",
       " 7905  235.45  235.70  235.30  235.55  10057.0   False     NaN    DLF   \n",
       " 7906  235.55  235.60  235.10  235.40  11999.0   False     NaN    DLF   \n",
       " 7907  235.55  235.55  235.05  235.20  15011.0   False     NaN    DLF   \n",
       " 7908  235.20  235.35  234.95  235.25  21037.0   False     NaN    DLF   \n",
       " 7909  235.30  235.50  235.05  235.45   5489.0   False     NaN    DLF   \n",
       " 7910  235.60  235.70  235.20  235.30   8827.0   False     NaN    DLF   \n",
       " 7911  235.30  235.30  235.15  235.20   3573.0   False     NaN    DLF   \n",
       " 7912  235.25  235.45  235.10  235.25  14458.0   False     NaN    DLF   \n",
       " 7913  235.35  235.70  235.15  235.55  10047.0   False     NaN    DLF   \n",
       " 7914  235.55  235.70  235.30  235.65  14780.0   False     NaN    DLF   \n",
       " \n",
       "                      date  \n",
       " 7896  2021-05-15-08:36:58  \n",
       " 7897  2021-05-15-08:36:58  \n",
       " 7898  2021-05-15-08:36:58  \n",
       " 7899  2021-05-15-08:36:58  \n",
       " 7900  2021-05-15-08:36:58  \n",
       " 7901  2021-05-15-08:36:58  \n",
       " 7902  2021-05-15-08:36:58  \n",
       " 7903  2021-05-15-08:36:58  \n",
       " 7904  2021-05-15-08:36:58  \n",
       " 7905  2021-05-15-08:36:58  \n",
       " 7906  2021-05-15-08:36:58  \n",
       " 7907  2021-05-15-08:36:58  \n",
       " 7908  2021-05-15-08:36:58  \n",
       " 7909  2021-05-15-08:36:58  \n",
       " 7910  2021-05-15-08:36:58  \n",
       " 7911  2021-05-15-08:36:58  \n",
       " 7912  2021-05-15-08:36:58  \n",
       " 7913  2021-05-15-08:36:58  \n",
       " 7914  2021-05-15-08:36:58  ,\n",
       "         open    high     low   close   volume  traded  Hammer ticker  \\\n",
       " 8347  247.10  247.45  247.05  247.40  19118.0   False     0.0    DLF   \n",
       " 8348  247.40  247.50  247.20  247.20  16927.0   False     0.0    DLF   \n",
       " 8349  247.20  247.30  247.05  247.15   5401.0   False     0.0    DLF   \n",
       " 8350  247.15  247.15  247.00  247.00   2823.0   False     0.0    DLF   \n",
       " 8351  247.00  247.10  246.85  247.10   7014.0    True   100.0    DLF   \n",
       " 8352  247.10  247.10  246.75  247.00   3469.0   False     NaN    DLF   \n",
       " 8353  247.00  247.00  246.80  246.85   3625.0   False     NaN    DLF   \n",
       " 8354  246.85  247.45  246.85  247.45  12432.0   False     NaN    DLF   \n",
       " 8355  247.45  247.60  247.30  247.50  16860.0   False     NaN    DLF   \n",
       " 8356  247.50  247.55  247.30  247.30   6579.0   False     NaN    DLF   \n",
       " 8357  247.30  247.50  247.20  247.30   4302.0   False     NaN    DLF   \n",
       " 8358  247.25  247.50  247.25  247.45   6783.0   False     NaN    DLF   \n",
       " 8359  247.45  247.70  247.45  247.65   6462.0   False     NaN    DLF   \n",
       " 8360  247.65  247.85  247.50  247.60  12484.0   False     NaN    DLF   \n",
       " 8361  247.60  247.75  247.50  247.65   4127.0   False     NaN    DLF   \n",
       " 8362  247.70  247.70  247.50  247.65   5633.0   False     NaN    DLF   \n",
       " 8363  247.65  247.65  247.50  247.60  12080.0   False     NaN    DLF   \n",
       " 8364  247.60  247.75  247.60  247.65   4159.0   False     NaN    DLF   \n",
       " 8365  247.70  247.75  247.60  247.60   3429.0   False     NaN    DLF   \n",
       " \n",
       "                      date  \n",
       " 8347  2021-05-16-08:36:58  \n",
       " 8348  2021-05-16-08:36:58  \n",
       " 8349  2021-05-16-08:36:58  \n",
       " 8350  2021-05-16-08:36:58  \n",
       " 8351  2021-05-16-08:36:58  \n",
       " 8352  2021-05-16-08:36:58  \n",
       " 8353  2021-05-16-08:36:58  \n",
       " 8354  2021-05-16-08:36:58  \n",
       " 8355  2021-05-16-08:36:58  \n",
       " 8356  2021-05-16-08:36:58  \n",
       " 8357  2021-05-16-08:36:58  \n",
       " 8358  2021-05-16-08:36:58  \n",
       " 8359  2021-05-16-08:36:58  \n",
       " 8360  2021-05-16-08:36:58  \n",
       " 8361  2021-05-16-08:36:58  \n",
       " 8362  2021-05-16-08:36:58  \n",
       " 8363  2021-05-16-08:36:58  \n",
       " 8364  2021-05-16-08:36:58  \n",
       " 8365  2021-05-16-08:36:58  ,\n",
       "         open    high     low   close   volume  traded  Hammer ticker  \\\n",
       " 8709  245.10  245.25  245.10  245.20   3728.0   False     0.0    DLF   \n",
       " 8710  245.20  245.20  245.00  245.05   6158.0   False     0.0    DLF   \n",
       " 8711  245.05  245.60  245.05  245.50  11633.0   False     0.0    DLF   \n",
       " 8712  245.50  245.50  245.25  245.25   3757.0   False     0.0    DLF   \n",
       " 8713  245.30  245.30  245.20  245.30   2988.0    True   100.0    DLF   \n",
       " 8714  245.25  245.40  245.15  245.20  10717.0   False     NaN    DLF   \n",
       " 8715  245.20  245.20  245.10  245.15   2769.0   False     NaN    DLF   \n",
       " 8716  245.20  245.45  245.15  245.45   5597.0   False     NaN    DLF   \n",
       " 8717  245.45  245.45  245.25  245.40   4125.0   False     NaN    DLF   \n",
       " 8718  245.20  245.20  244.80  244.90  25204.0   False     NaN    DLF   \n",
       " 8719  244.90  245.20  244.90  245.20  23096.0   False     NaN    DLF   \n",
       " 8720  245.20  245.45  245.20  245.30   6697.0   False     NaN    DLF   \n",
       " 8721  245.30  245.30  245.05  245.20   2644.0   False     NaN    DLF   \n",
       " 8722  245.20  245.25  245.10  245.10   2165.0   False     NaN    DLF   \n",
       " 8723  245.10  245.25  244.95  245.00  25464.0   False     NaN    DLF   \n",
       " 8724  244.95  245.25  244.95  245.00  12419.0   False     NaN    DLF   \n",
       " 8725  245.00  245.25  245.00  245.10   2228.0   False     NaN    DLF   \n",
       " 8726  245.10  245.30  245.05  245.05   4792.0   False     NaN    DLF   \n",
       " 8727  245.05  245.20  245.00  245.15   5243.0   False     NaN    DLF   \n",
       " \n",
       "                      date  \n",
       " 8709  2021-05-17-08:36:58  \n",
       " 8710  2021-05-17-08:36:58  \n",
       " 8711  2021-05-17-08:36:58  \n",
       " 8712  2021-05-17-08:36:58  \n",
       " 8713  2021-05-17-08:36:58  \n",
       " 8714  2021-05-17-08:36:58  \n",
       " 8715  2021-05-17-08:36:58  \n",
       " 8716  2021-05-17-08:36:58  \n",
       " 8717  2021-05-17-08:36:58  \n",
       " 8718  2021-05-17-08:36:58  \n",
       " 8719  2021-05-17-08:36:58  \n",
       " 8720  2021-05-17-08:36:58  \n",
       " 8721  2021-05-17-08:36:58  \n",
       " 8722  2021-05-17-08:36:58  \n",
       " 8723  2021-05-17-08:36:58  \n",
       " 8724  2021-05-17-08:36:58  \n",
       " 8725  2021-05-17-08:36:58  \n",
       " 8726  2021-05-17-08:36:58  \n",
       " 8727  2021-05-17-08:36:58  ,\n",
       "         open    high     low   close    volume  traded  Hammer ticker  \\\n",
       " 9040  252.30  252.45  252.05  252.05   20847.0   False     0.0    DLF   \n",
       " 9041  252.05  252.20  252.05  252.05   11244.0   False     0.0    DLF   \n",
       " 9042  252.05  252.30  252.00  252.15   21905.0   False     0.0    DLF   \n",
       " 9043  252.10  252.30  252.10  252.10   13455.0   False     0.0    DLF   \n",
       " 9044  252.10  252.10  251.80  252.00   63710.0    True   100.0    DLF   \n",
       " 9045  251.85  251.90  251.60  251.65   38935.0   False     NaN    DLF   \n",
       " 9046  251.65  251.80  251.00  251.20  103036.0   False     NaN    DLF   \n",
       " 9047  251.00  251.30  251.00  251.20   24545.0   False     NaN    DLF   \n",
       " 9048  251.20  251.70  251.20  251.50   29631.0   False     NaN    DLF   \n",
       " 9049  251.55  251.70  251.30  251.50   33833.0   False     NaN    DLF   \n",
       " 9050  251.45  251.50  251.20  251.25   16170.0   False     NaN    DLF   \n",
       " 9051  251.30  251.45  251.20  251.30   14908.0   False     NaN    DLF   \n",
       " 9052  251.30  251.50  251.25  251.45   11217.0   False     NaN    DLF   \n",
       " 9053  251.40  251.95  251.40  251.85   16485.0   False     NaN    DLF   \n",
       " 9054  251.90  252.10  251.55  251.85   25889.0   False     NaN    DLF   \n",
       " 9055  251.95  252.00  251.50  251.50    7407.0   False     NaN    DLF   \n",
       " 9056  251.65  251.65  251.50  251.60    4913.0   False     NaN    DLF   \n",
       " 9057  251.55  251.65  251.50  251.50    4891.0   False     NaN    DLF   \n",
       " 9058  251.55  251.70  251.35  251.45   17491.0   False     NaN    DLF   \n",
       " \n",
       "                      date  \n",
       " 9040  2021-05-18-08:36:58  \n",
       " 9041  2021-05-18-08:36:58  \n",
       " 9042  2021-05-18-08:36:58  \n",
       " 9043  2021-05-18-08:36:58  \n",
       " 9044  2021-05-18-08:36:58  \n",
       " 9045  2021-05-18-08:36:58  \n",
       " 9046  2021-05-18-08:36:58  \n",
       " 9047  2021-05-18-08:36:58  \n",
       " 9048  2021-05-18-08:36:58  \n",
       " 9049  2021-05-18-08:36:58  \n",
       " 9050  2021-05-18-08:36:58  \n",
       " 9051  2021-05-18-08:36:58  \n",
       " 9052  2021-05-18-08:36:58  \n",
       " 9053  2021-05-18-08:36:58  \n",
       " 9054  2021-05-18-08:36:58  \n",
       " 9055  2021-05-18-08:36:58  \n",
       " 9056  2021-05-18-08:36:58  \n",
       " 9057  2021-05-18-08:36:58  \n",
       " 9058  2021-05-18-08:36:58  ,\n",
       "         open    high     low   close   volume  traded  Hammer ticker  \\\n",
       " 9489  254.00  254.10  253.90  253.90  12482.0   False     0.0    DLF   \n",
       " 9490  253.90  253.95  253.60  253.75  22429.0   False     0.0    DLF   \n",
       " 9491  253.75  254.20  253.60  254.20   4837.0   False     0.0    DLF   \n",
       " 9492  254.10  254.20  254.10  254.15   5161.0   False     0.0    DLF   \n",
       " 9493  254.15  254.20  254.05  254.20  10137.0    True   100.0    DLF   \n",
       " 9494  254.10  254.35  254.10  254.30   3998.0   False     NaN    DLF   \n",
       " 9495  254.30  254.35  254.20  254.30   2942.0   False     NaN    DLF   \n",
       " 9496  254.30  254.40  254.05  254.10  13492.0   False     NaN    DLF   \n",
       " 9497  254.10  254.25  254.00  254.25   1923.0   False     NaN    DLF   \n",
       " 9498  254.25  254.50  254.20  254.45  11873.0   False     NaN    DLF   \n",
       " 9499  254.40  254.60  254.40  254.60   9231.0   False     NaN    DLF   \n",
       " 9500  254.60  254.75  254.50  254.60   7865.0   False     NaN    DLF   \n",
       " 9501  254.60  254.80  254.60  254.75   3553.0   False     NaN    DLF   \n",
       " 9502  254.75  254.90  254.75  254.90   4242.0   False     NaN    DLF   \n",
       " 9503  254.85  255.00  254.75  254.90   8104.0   False     NaN    DLF   \n",
       " 9504  254.90  254.90  254.80  254.85   3522.0   False     NaN    DLF   \n",
       " 9505  254.85  254.85  254.30  254.45  13995.0   False     NaN    DLF   \n",
       " 9506  254.45  254.55  254.10  254.55  16948.0   False     NaN    DLF   \n",
       " 9507  254.55  255.10  254.55  255.10  18595.0   False     NaN    DLF   \n",
       " \n",
       "                      date  \n",
       " 9489  2021-05-19-08:36:58  \n",
       " 9490  2021-05-19-08:36:58  \n",
       " 9491  2021-05-19-08:36:58  \n",
       " 9492  2021-05-19-08:36:58  \n",
       " 9493  2021-05-19-08:36:58  \n",
       " 9494  2021-05-19-08:36:58  \n",
       " 9495  2021-05-19-08:36:58  \n",
       " 9496  2021-05-19-08:36:58  \n",
       " 9497  2021-05-19-08:36:58  \n",
       " 9498  2021-05-19-08:36:58  \n",
       " 9499  2021-05-19-08:36:58  \n",
       " 9500  2021-05-19-08:36:58  \n",
       " 9501  2021-05-19-08:36:58  \n",
       " 9502  2021-05-19-08:36:58  \n",
       " 9503  2021-05-19-08:36:58  \n",
       " 9504  2021-05-19-08:36:58  \n",
       " 9505  2021-05-19-08:36:58  \n",
       " 9506  2021-05-19-08:36:58  \n",
       " 9507  2021-05-19-08:36:58  ,\n",
       "         open    high     low   close   volume  traded  Hammer ticker  \\\n",
       " 9787  251.30  251.50  250.70  251.50  25304.0   False     0.0    DLF   \n",
       " 9788  251.50  251.60  251.10  251.10  16576.0   False     0.0    DLF   \n",
       " 9789  251.20  251.20  250.75  250.80  19272.0   False     0.0    DLF   \n",
       " 9790  250.75  250.85  250.45  250.65  13052.0   False     0.0    DLF   \n",
       " 9791  250.65  250.65  250.30  250.50  20534.0    True   100.0    DLF   \n",
       " 9792  250.40  250.80  250.20  250.40  16311.0   False     NaN    DLF   \n",
       " 9793  250.30  250.50  250.15  250.45  18495.0   False     NaN    DLF   \n",
       " 9794  250.45  250.50  250.00  250.30  90449.0   False     NaN    DLF   \n",
       " 9795  250.40  250.50  249.70  249.90  44471.0   False     NaN    DLF   \n",
       " 9796  249.90  250.05  249.35  249.50  29185.0   False     NaN    DLF   \n",
       " 9797  249.60  249.80  249.50  249.60  17081.0   False     NaN    DLF   \n",
       " 9798  249.60  249.90  249.05  249.45  46437.0   False     NaN    DLF   \n",
       " 9799  249.40  250.05  249.00  250.05  36097.0   False     NaN    DLF   \n",
       " 9800  250.10  250.85  250.00  250.85  44123.0   False     NaN    DLF   \n",
       " 9801  250.85  251.00  250.70  250.85  28229.0   False     NaN    DLF   \n",
       " 9802  250.80  250.95  250.50  250.90  16026.0   False     NaN    DLF   \n",
       " 9803  251.00  251.25  250.80  251.15  32284.0   False     NaN    DLF   \n",
       " 9804  251.00  251.00  249.45  249.50  34527.0   False     NaN    DLF   \n",
       " 9805  249.40  249.80  249.40  249.65  22463.0   False     NaN    DLF   \n",
       " \n",
       "                      date  \n",
       " 9787  2021-05-20-08:36:58  \n",
       " 9788  2021-05-20-08:36:58  \n",
       " 9789  2021-05-20-08:36:58  \n",
       " 9790  2021-05-20-08:36:58  \n",
       " 9791  2021-05-20-08:36:58  \n",
       " 9792  2021-05-20-08:36:58  \n",
       " 9793  2021-05-20-08:36:58  \n",
       " 9794  2021-05-20-08:36:58  \n",
       " 9795  2021-05-20-08:36:58  \n",
       " 9796  2021-05-20-08:36:58  \n",
       " 9797  2021-05-20-08:36:58  \n",
       " 9798  2021-05-20-08:36:58  \n",
       " 9799  2021-05-20-08:36:58  \n",
       " 9800  2021-05-20-08:36:58  \n",
       " 9801  2021-05-20-08:36:58  \n",
       " 9802  2021-05-20-08:36:58  \n",
       " 9803  2021-05-20-08:36:58  \n",
       " 9804  2021-05-20-08:36:58  \n",
       " 9805  2021-05-20-08:36:58  ,\n",
       "          open    high     low   close   volume  traded  Hammer ticker  \\\n",
       " 10142  251.10  251.60  250.80  251.00  57930.0   False     0.0    DLF   \n",
       " 10143  251.25  251.55  251.05  251.30  28060.0   False     0.0    DLF   \n",
       " 10144  251.35  251.50  250.80  251.15  20745.0   False     0.0    DLF   \n",
       " 10145  251.15  251.20  250.45  250.60  48889.0   False     0.0    DLF   \n",
       " 10146  250.65  250.70  249.75  250.50  90064.0    True   100.0    DLF   \n",
       " 10147  250.65  251.90  250.45  251.75  51221.0   False     NaN    DLF   \n",
       " 10148  251.75  251.85  251.35  251.35  30509.0   False     NaN    DLF   \n",
       " 10149  251.50  251.75  251.45  251.50  18242.0   False     NaN    DLF   \n",
       " 10150  251.70  252.00  251.55  251.55  41894.0   False     NaN    DLF   \n",
       " 10151  251.70  252.00  251.55  251.70  32159.0   False     NaN    DLF   \n",
       " 10152  251.80  252.00  251.50  252.00  75894.0   False     NaN    DLF   \n",
       " 10153  251.90  252.90  251.90  252.90  59731.0   False     NaN    DLF   \n",
       " 10154  252.70  252.90  252.55  252.70  40521.0   False     NaN    DLF   \n",
       " 10155  252.80  253.00  252.70  252.90  32331.0   False     NaN    DLF   \n",
       " 10156  253.00  253.00  252.70  252.70  24481.0   False     NaN    DLF   \n",
       " 10157  252.80  252.85  252.25  252.45  17063.0   False     NaN    DLF   \n",
       " 10158  252.45  252.55  252.00  252.00  23150.0   False     NaN    DLF   \n",
       " 10159  252.00  252.20  251.90  252.00  10682.0   False     NaN    DLF   \n",
       " 10160  252.00  252.20  251.75  251.90  19622.0   False     NaN    DLF   \n",
       " \n",
       "                       date  \n",
       " 10142  2021-05-21-08:36:58  \n",
       " 10143  2021-05-21-08:36:58  \n",
       " 10144  2021-05-21-08:36:58  \n",
       " 10145  2021-05-21-08:36:58  \n",
       " 10146  2021-05-21-08:36:58  \n",
       " 10147  2021-05-21-08:36:58  \n",
       " 10148  2021-05-21-08:36:58  \n",
       " 10149  2021-05-21-08:36:58  \n",
       " 10150  2021-05-21-08:36:58  \n",
       " 10151  2021-05-21-08:36:58  \n",
       " 10152  2021-05-21-08:36:58  \n",
       " 10153  2021-05-21-08:36:58  \n",
       " 10154  2021-05-21-08:36:58  \n",
       " 10155  2021-05-21-08:36:58  \n",
       " 10156  2021-05-21-08:36:58  \n",
       " 10157  2021-05-21-08:36:58  \n",
       " 10158  2021-05-21-08:36:58  \n",
       " 10159  2021-05-21-08:36:58  \n",
       " 10160  2021-05-21-08:36:58  ,\n",
       "          open    high     low   close   volume  traded  Hammer ticker  \\\n",
       " 10520  246.40  246.60  246.15  246.15  12751.0   False     0.0    DLF   \n",
       " 10521  246.25  246.50  246.15  246.30  23709.0   False     0.0    DLF   \n",
       " 10522  246.45  246.95  246.30  246.95  18087.0   False     0.0    DLF   \n",
       " 10523  246.95  246.95  246.25  246.35  48479.0   False     0.0    DLF   \n",
       " 10524  246.35  246.50  245.60  246.50  33256.0    True   100.0    DLF   \n",
       " 10525  246.50  246.50  246.25  246.45   8407.0   False     NaN    DLF   \n",
       " 10526  246.45  246.50  246.20  246.45  11244.0   False     NaN    DLF   \n",
       " 10527  246.45  246.95  246.40  246.85  31461.0   False     NaN    DLF   \n",
       " 10528  247.00  247.20  246.80  246.95  35913.0   False     NaN    DLF   \n",
       " 10529  246.95  247.00  246.40  246.40  24527.0   False     NaN    DLF   \n",
       " 10530  246.40  246.45  246.10  246.15  18871.0   False     NaN    DLF   \n",
       " 10531  246.15  246.15  245.65  245.65  11077.0   False     NaN    DLF   \n",
       " 10532  245.75  245.85  245.55  245.85  22167.0   False     NaN    DLF   \n",
       " 10533  245.70  246.20  245.65  246.20  13424.0   False     NaN    DLF   \n",
       " 10534  246.20  246.30  245.70  245.85   9237.0   False     NaN    DLF   \n",
       " 10535  245.95  246.05  245.70  245.95   6941.0   False     NaN    DLF   \n",
       " 10536  246.05  246.35  245.65  245.65  23186.0   False     NaN    DLF   \n",
       " 10537  245.80  245.80  245.10  245.15  42976.0   False     NaN    DLF   \n",
       " 10538  245.15  245.60  245.15  245.35  33642.0   False     NaN    DLF   \n",
       " \n",
       "                       date  \n",
       " 10520  2021-05-22-08:36:58  \n",
       " 10521  2021-05-22-08:36:58  \n",
       " 10522  2021-05-22-08:36:58  \n",
       " 10523  2021-05-22-08:36:58  \n",
       " 10524  2021-05-22-08:36:58  \n",
       " 10525  2021-05-22-08:36:58  \n",
       " 10526  2021-05-22-08:36:58  \n",
       " 10527  2021-05-22-08:36:58  \n",
       " 10528  2021-05-22-08:36:58  \n",
       " 10529  2021-05-22-08:36:58  \n",
       " 10530  2021-05-22-08:36:58  \n",
       " 10531  2021-05-22-08:36:58  \n",
       " 10532  2021-05-22-08:36:58  \n",
       " 10533  2021-05-22-08:36:58  \n",
       " 10534  2021-05-22-08:36:58  \n",
       " 10535  2021-05-22-08:36:58  \n",
       " 10536  2021-05-22-08:36:58  \n",
       " 10537  2021-05-22-08:36:58  \n",
       " 10538  2021-05-22-08:36:58  ,\n",
       "          open    high     low   close   volume  traded  Hammer ticker  \\\n",
       " 10885  254.20  254.20  253.25  253.30  40237.0   False     0.0    DLF   \n",
       " 10886  253.50  254.00  253.25  253.45  84519.0   False     0.0    DLF   \n",
       " 10887  253.60  253.60  253.00  253.20  16632.0   False     0.0    DLF   \n",
       " 10888  252.80  253.05  252.55  252.70  38808.0   False     0.0    DLF   \n",
       " 10889  253.00  253.00  252.20  252.65  27724.0    True   100.0    DLF   \n",
       " 10890  252.45  252.65  251.70  252.35  47841.0   False     NaN    DLF   \n",
       " 10891  252.30  252.55  252.15  252.40  19351.0   False     NaN    DLF   \n",
       " 10892  252.40  252.40  251.95  252.10  15227.0   False     NaN    DLF   \n",
       " 10893  251.95  252.35  251.90  251.95  22080.0   False     NaN    DLF   \n",
       " 10894  251.95  252.45  251.90  252.25  28321.0   False     NaN    DLF   \n",
       " 10895  252.25  252.40  252.00  252.15  22564.0   False     NaN    DLF   \n",
       " 10896  252.15  252.30  252.00  252.00  10693.0   False     NaN    DLF   \n",
       " 10897  252.00  252.15  251.80  252.15  13487.0   False     NaN    DLF   \n",
       " 10898  252.00  252.10  251.70  251.90  12222.0   False     NaN    DLF   \n",
       " 10899  251.90  252.00  251.65  251.80   8374.0   False     NaN    DLF   \n",
       " 10900  251.85  251.85  251.25  251.40  21489.0   False     NaN    DLF   \n",
       " 10901  251.30  251.55  251.10  251.55  20185.0   False     NaN    DLF   \n",
       " 10902  251.60  251.60  251.10  251.10   6492.0   False     NaN    DLF   \n",
       " 10903  251.15  251.25  250.80  251.05  54152.0   False     NaN    DLF   \n",
       " \n",
       "                       date  \n",
       " 10885  2021-05-23-08:36:58  \n",
       " 10886  2021-05-23-08:36:58  \n",
       " 10887  2021-05-23-08:36:58  \n",
       " 10888  2021-05-23-08:36:58  \n",
       " 10889  2021-05-23-08:36:58  \n",
       " 10890  2021-05-23-08:36:58  \n",
       " 10891  2021-05-23-08:36:58  \n",
       " 10892  2021-05-23-08:36:58  \n",
       " 10893  2021-05-23-08:36:58  \n",
       " 10894  2021-05-23-08:36:58  \n",
       " 10895  2021-05-23-08:36:58  \n",
       " 10896  2021-05-23-08:36:58  \n",
       " 10897  2021-05-23-08:36:58  \n",
       " 10898  2021-05-23-08:36:58  \n",
       " 10899  2021-05-23-08:36:58  \n",
       " 10900  2021-05-23-08:36:58  \n",
       " 10901  2021-05-23-08:36:58  \n",
       " 10902  2021-05-23-08:36:58  \n",
       " 10903  2021-05-23-08:36:58  ,\n",
       "          open    high     low   close   volume  traded  Hammer ticker  \\\n",
       " 11275  252.65  252.95  252.50  252.55  61847.0   False     0.0    DLF   \n",
       " 11276  252.55  252.75  252.20  252.35  22612.0   False     0.0    DLF   \n",
       " 11277  252.25  252.30  252.00  252.00  28648.0   False     0.0    DLF   \n",
       " 11278  252.00  252.05  251.55  251.60  14613.0   False     0.0    DLF   \n",
       " 11279  251.60  251.65  251.20  251.50  32398.0    True   100.0    DLF   \n",
       " 11280  251.50  251.80  250.70  250.70  43658.0   False     0.0    DLF   \n",
       " 11281  250.60  250.65  249.80  250.55  53140.0    True   100.0    DLF   \n",
       " 11282  250.55  250.60  250.05  250.05  14780.0   False     0.0    DLF   \n",
       " 11283  250.05  250.50  249.90  250.20  25098.0   False     0.0    DLF   \n",
       " 11284  250.30  250.45  250.00  250.15  16399.0   False     NaN    DLF   \n",
       " 11285  250.30  250.45  250.00  250.25  13939.0   False     NaN    DLF   \n",
       " 11286  250.30  250.35  250.15  250.25   6517.0   False     NaN    DLF   \n",
       " 11287  250.20  250.30  250.00  250.20  19342.0   False     NaN    DLF   \n",
       " 11288  250.20  251.25  250.15  251.20  84669.0   False     NaN    DLF   \n",
       " 11289  251.15  251.30  250.75  251.30  22088.0   False     NaN    DLF   \n",
       " 11290  251.30  251.30  250.95  250.95   6925.0   False     NaN    DLF   \n",
       " 11291  250.85  250.95  250.50  250.65   7542.0   False     NaN    DLF   \n",
       " 11292  250.65  250.80  250.55  250.55   5882.0   False     NaN    DLF   \n",
       " 11293  250.55  250.60  250.35  250.60   8598.0   False     NaN    DLF   \n",
       " \n",
       "                       date  \n",
       " 11275  2021-05-24-08:36:58  \n",
       " 11276  2021-05-24-08:36:58  \n",
       " 11277  2021-05-24-08:36:58  \n",
       " 11278  2021-05-24-08:36:58  \n",
       " 11279  2021-05-24-08:36:58  \n",
       " 11280  2021-05-24-08:36:58  \n",
       " 11281  2021-05-24-08:36:58  \n",
       " 11282  2021-05-24-08:36:58  \n",
       " 11283  2021-05-24-08:36:58  \n",
       " 11284  2021-05-24-08:36:58  \n",
       " 11285  2021-05-24-08:36:58  \n",
       " 11286  2021-05-24-08:36:58  \n",
       " 11287  2021-05-24-08:36:58  \n",
       " 11288  2021-05-24-08:36:58  \n",
       " 11289  2021-05-24-08:36:58  \n",
       " 11290  2021-05-24-08:36:58  \n",
       " 11291  2021-05-24-08:36:58  \n",
       " 11292  2021-05-24-08:36:58  \n",
       " 11293  2021-05-24-08:36:58  ,\n",
       "          open    high     low   close   volume  traded  Hammer ticker  \\\n",
       " 11277  252.25  252.30  252.00  252.00  28648.0   False     0.0    DLF   \n",
       " 11278  252.00  252.05  251.55  251.60  14613.0   False     0.0    DLF   \n",
       " 11279  251.60  251.65  251.20  251.50  32398.0    True   100.0    DLF   \n",
       " 11280  251.50  251.80  250.70  250.70  43658.0   False     0.0    DLF   \n",
       " 11281  250.60  250.65  249.80  250.55  53140.0    True   100.0    DLF   \n",
       " 11282  250.55  250.60  250.05  250.05  14780.0   False     0.0    DLF   \n",
       " 11283  250.05  250.50  249.90  250.20  25098.0   False     0.0    DLF   \n",
       " 11284  250.30  250.45  250.00  250.15  16399.0   False     NaN    DLF   \n",
       " 11285  250.30  250.45  250.00  250.25  13939.0   False     NaN    DLF   \n",
       " 11286  250.30  250.35  250.15  250.25   6517.0   False     NaN    DLF   \n",
       " 11287  250.20  250.30  250.00  250.20  19342.0   False     NaN    DLF   \n",
       " 11288  250.20  251.25  250.15  251.20  84669.0   False     NaN    DLF   \n",
       " 11289  251.15  251.30  250.75  251.30  22088.0   False     NaN    DLF   \n",
       " 11290  251.30  251.30  250.95  250.95   6925.0   False     NaN    DLF   \n",
       " 11291  250.85  250.95  250.50  250.65   7542.0   False     NaN    DLF   \n",
       " 11292  250.65  250.80  250.55  250.55   5882.0   False     NaN    DLF   \n",
       " 11293  250.55  250.60  250.35  250.60   8598.0   False     NaN    DLF   \n",
       " 11294  250.50  250.85  250.50  250.70   7976.0   False     NaN    DLF   \n",
       " 11295  250.75  251.20  250.65  251.05  24516.0   False     NaN    DLF   \n",
       " \n",
       "                       date  \n",
       " 11277  2021-05-24-08:36:58  \n",
       " 11278  2021-05-24-08:36:58  \n",
       " 11279  2021-05-24-08:36:58  \n",
       " 11280  2021-05-24-08:36:58  \n",
       " 11281  2021-05-24-08:36:58  \n",
       " 11282  2021-05-24-08:36:58  \n",
       " 11283  2021-05-24-08:36:58  \n",
       " 11284  2021-05-24-08:36:58  \n",
       " 11285  2021-05-24-08:36:58  \n",
       " 11286  2021-05-24-08:36:58  \n",
       " 11287  2021-05-24-08:36:58  \n",
       " 11288  2021-05-24-08:36:58  \n",
       " 11289  2021-05-24-08:36:58  \n",
       " 11290  2021-05-24-08:36:58  \n",
       " 11291  2021-05-24-08:36:58  \n",
       " 11292  2021-05-24-08:36:58  \n",
       " 11293  2021-05-24-08:36:58  \n",
       " 11294  2021-05-24-08:36:58  \n",
       " 11295  2021-05-24-08:36:58  ,\n",
       "          open    high     low   close   volume  traded  Hammer ticker  \\\n",
       " 11664  247.30  247.35  246.80  246.80  27884.0   False     0.0    DLF   \n",
       " 11665  246.85  247.25  246.60  247.25  24143.0   False     0.0    DLF   \n",
       " 11666  247.25  247.25  247.00  247.10   5090.0   False     0.0    DLF   \n",
       " 11667  247.00  247.20  247.00  247.10   7903.0   False     0.0    DLF   \n",
       " 11668  247.10  247.10  247.00  247.05   5264.0    True   100.0    DLF   \n",
       " 11669  247.05  247.30  247.05  247.30  10616.0   False     NaN    DLF   \n",
       " 11670  247.20  247.20  246.65  246.80  20073.0   False     NaN    DLF   \n",
       " 11671  246.90  247.25  246.80  247.25   8946.0   False     NaN    DLF   \n",
       " 11672  247.30  247.30  247.05  247.10  11890.0   False     NaN    DLF   \n",
       " 11673  247.10  247.20  246.90  247.00  10243.0   False     NaN    DLF   \n",
       " 11674  247.00  247.10  246.80  247.00   6395.0   False     NaN    DLF   \n",
       " 11675  247.00  247.00  246.60  246.60   9507.0   False     NaN    DLF   \n",
       " 11676  246.70  246.85  246.60  246.85   1486.0   False     NaN    DLF   \n",
       " 11677  246.85  247.20  246.85  247.10   4972.0   False     NaN    DLF   \n",
       " 11678  247.10  247.15  246.75  246.75   4572.0   False     NaN    DLF   \n",
       " 11679  246.75  246.90  246.65  246.75   8513.0   False     NaN    DLF   \n",
       " 11680  246.75  246.75  246.60  246.60   3943.0   False     NaN    DLF   \n",
       " 11681  246.60  246.70  246.35  246.60  20234.0   False     NaN    DLF   \n",
       " 11682  246.60  246.60  246.15  246.15   9141.0   False     NaN    DLF   \n",
       " \n",
       "                       date  \n",
       " 11664  2021-05-25-08:36:58  \n",
       " 11665  2021-05-25-08:36:58  \n",
       " 11666  2021-05-25-08:36:58  \n",
       " 11667  2021-05-25-08:36:58  \n",
       " 11668  2021-05-25-08:36:58  \n",
       " 11669  2021-05-25-08:36:58  \n",
       " 11670  2021-05-25-08:36:58  \n",
       " 11671  2021-05-25-08:36:58  \n",
       " 11672  2021-05-25-08:36:58  \n",
       " 11673  2021-05-25-08:36:58  \n",
       " 11674  2021-05-25-08:36:58  \n",
       " 11675  2021-05-25-08:36:58  \n",
       " 11676  2021-05-25-08:36:58  \n",
       " 11677  2021-05-25-08:36:58  \n",
       " 11678  2021-05-25-08:36:58  \n",
       " 11679  2021-05-25-08:36:58  \n",
       " 11680  2021-05-25-08:36:58  \n",
       " 11681  2021-05-25-08:36:58  \n",
       " 11682  2021-05-25-08:36:58  ,\n",
       "          open    high     low   close   volume  traded  Hammer ticker  \\\n",
       " 12012  253.10  253.85  252.85  253.60  92892.0   False     0.0    DLF   \n",
       " 12013  253.65  253.80  252.65  252.70  45409.0   False     0.0    DLF   \n",
       " 12014  252.70  252.95  252.50  252.65  19103.0   False     0.0    DLF   \n",
       " 12015  252.75  252.75  252.10  252.10  17664.0   False     0.0    DLF   \n",
       " 12016  252.25  252.25  251.50  252.10  41141.0    True   100.0    DLF   \n",
       " 12017  252.05  252.15  251.70  251.70  29356.0   False     NaN    DLF   \n",
       " 12018  251.75  252.25  251.60  252.25  11965.0   False     NaN    DLF   \n",
       " 12019  252.15  252.40  252.05  252.20  20198.0   False     NaN    DLF   \n",
       " 12020  252.20  252.20  251.80  251.95  15862.0   False     NaN    DLF   \n",
       " 12021  251.95  252.30  251.90  252.30  25944.0   False     NaN    DLF   \n",
       " 12022  252.35  252.75  252.30  252.70  19707.0   False     NaN    DLF   \n",
       " 12023  252.75  252.90  252.35  252.45  25142.0   False     NaN    DLF   \n",
       " 12024  252.45  252.65  252.15  252.35   9141.0   False     NaN    DLF   \n",
       " 12025  252.35  252.35  251.85  251.90  10581.0   False     NaN    DLF   \n",
       " 12026  251.80  252.20  251.80  252.20  16438.0   False     NaN    DLF   \n",
       " 12027  252.10  252.80  252.10  252.70  13982.0   False     NaN    DLF   \n",
       " 12028  252.80  253.30  252.70  253.20  44276.0   False     NaN    DLF   \n",
       " 12029  252.95  253.15  252.85  253.15  17113.0   False     NaN    DLF   \n",
       " 12030  253.15  253.75  253.05  253.20  44024.0   False     NaN    DLF   \n",
       " \n",
       "                       date  \n",
       " 12012  2021-05-26-08:36:58  \n",
       " 12013  2021-05-26-08:36:58  \n",
       " 12014  2021-05-26-08:36:58  \n",
       " 12015  2021-05-26-08:36:58  \n",
       " 12016  2021-05-26-08:36:58  \n",
       " 12017  2021-05-26-08:36:58  \n",
       " 12018  2021-05-26-08:36:58  \n",
       " 12019  2021-05-26-08:36:58  \n",
       " 12020  2021-05-26-08:36:58  \n",
       " 12021  2021-05-26-08:36:58  \n",
       " 12022  2021-05-26-08:36:58  \n",
       " 12023  2021-05-26-08:36:58  \n",
       " 12024  2021-05-26-08:36:58  \n",
       " 12025  2021-05-26-08:36:58  \n",
       " 12026  2021-05-26-08:36:58  \n",
       " 12027  2021-05-26-08:36:58  \n",
       " 12028  2021-05-26-08:36:58  \n",
       " 12029  2021-05-26-08:36:58  \n",
       " 12030  2021-05-26-08:36:58  ,\n",
       "          open    high     low   close    volume  traded  Hammer ticker  \\\n",
       " 12386  261.05  261.10  260.00  260.15   42028.0   False     0.0    DLF   \n",
       " 12387  260.00  261.00  260.00  261.00   27179.0   False     0.0    DLF   \n",
       " 12388  261.05  261.80  260.95  261.60   33232.0   False     0.0    DLF   \n",
       " 12389  261.60  262.00  261.40  261.40   93815.0   False     0.0    DLF   \n",
       " 12390  261.55  261.55  260.45  261.25   46138.0    True   100.0    DLF   \n",
       " 12391  261.25  261.75  260.40  261.50   45887.0   False     NaN    DLF   \n",
       " 12392  261.50  261.75  261.45  261.50   32809.0   False     NaN    DLF   \n",
       " 12393  261.60  262.10  261.40  262.10   90397.0   False     NaN    DLF   \n",
       " 12394  262.15  263.30  262.10  263.15  133739.0   False     NaN    DLF   \n",
       " 12395  263.05  263.15  261.80  262.20   79138.0   False     NaN    DLF   \n",
       " 12396  262.20  263.05  262.05  263.05   32771.0   False     NaN    DLF   \n",
       " 12397  263.05  263.10  262.35  262.60   37543.0   False     NaN    DLF   \n",
       " 12398  262.60  262.65  262.40  262.40   35085.0   False     NaN    DLF   \n",
       " 12399  262.40  263.20  262.30  263.20   64515.0   False     NaN    DLF   \n",
       " 12400  263.10  263.10  261.95  261.95   53592.0   False     NaN    DLF   \n",
       " 12401  261.85  262.85  261.80  262.60   48422.0   False     NaN    DLF   \n",
       " 12402  262.60  262.75  262.10  262.25    9817.0   False     NaN    DLF   \n",
       " 12403  262.00  262.65  261.80  262.65   43006.0   False     NaN    DLF   \n",
       " 12404  262.60  262.80  262.40  262.55   33378.0   False     NaN    DLF   \n",
       " \n",
       "                       date  \n",
       " 12386  2021-05-27-08:36:58  \n",
       " 12387  2021-05-27-08:36:58  \n",
       " 12388  2021-05-27-08:36:58  \n",
       " 12389  2021-05-27-08:36:58  \n",
       " 12390  2021-05-27-08:36:58  \n",
       " 12391  2021-05-27-08:36:58  \n",
       " 12392  2021-05-27-08:36:58  \n",
       " 12393  2021-05-27-08:36:58  \n",
       " 12394  2021-05-27-08:36:58  \n",
       " 12395  2021-05-27-08:36:58  \n",
       " 12396  2021-05-27-08:36:58  \n",
       " 12397  2021-05-27-08:36:58  \n",
       " 12398  2021-05-27-08:36:58  \n",
       " 12399  2021-05-27-08:36:58  \n",
       " 12400  2021-05-27-08:36:58  \n",
       " 12401  2021-05-27-08:36:58  \n",
       " 12402  2021-05-27-08:36:58  \n",
       " 12403  2021-05-27-08:36:58  \n",
       " 12404  2021-05-27-08:36:58  ,\n",
       "          open    high     low   close   volume  traded  Hammer ticker  \\\n",
       " 12762  264.65  264.75  264.05  264.20  29266.0   False     0.0    DLF   \n",
       " 12763  264.10  264.80  263.85  264.80  27428.0   False     0.0    DLF   \n",
       " 12764  264.85  265.75  264.80  265.55  86099.0   False     0.0    DLF   \n",
       " 12765  265.45  265.75  265.00  265.20  33514.0   False     0.0    DLF   \n",
       " 12766  265.05  265.25  264.80  265.20  20030.0    True   100.0    DLF   \n",
       " 12767  265.40  265.40  264.70  264.90  15129.0   False     0.0    DLF   \n",
       " 12768  265.10  265.10  264.80  265.00   7308.0   False     0.0    DLF   \n",
       " 12769  265.00  265.00  264.55  264.70   9773.0   False     0.0    DLF   \n",
       " 12770  264.55  265.10  264.55  265.05  15517.0   False     0.0    DLF   \n",
       " 12771  265.10  265.10  264.60  264.70   9575.0   False     0.0    DLF   \n",
       " 12772  264.70  264.70  264.25  264.40  11714.0   False     0.0    DLF   \n",
       " 12773  264.25  264.45  264.20  264.20  10753.0   False     0.0    DLF   \n",
       " 12774  264.30  264.50  264.10  264.40  11120.0   False     0.0    DLF   \n",
       " 12775  264.45  265.20  264.20  265.15  21292.0   False     0.0    DLF   \n",
       " 12776  265.20  266.05  265.15  266.00  42207.0   False     0.0    DLF   \n",
       " 12777  266.00  266.60  265.95  266.60  88825.0   False     0.0    DLF   \n",
       " 12778  266.50  266.80  265.80  266.00  63339.0   False     0.0    DLF   \n",
       " 12779  266.05  266.05  264.70  264.80  80346.0   False     0.0    DLF   \n",
       " 12780  264.80  264.95  264.40  264.95  46530.0    True   100.0    DLF   \n",
       " \n",
       "                       date  \n",
       " 12762  2021-05-28-08:36:58  \n",
       " 12763  2021-05-28-08:36:58  \n",
       " 12764  2021-05-28-08:36:58  \n",
       " 12765  2021-05-28-08:36:58  \n",
       " 12766  2021-05-28-08:36:58  \n",
       " 12767  2021-05-28-08:36:58  \n",
       " 12768  2021-05-28-08:36:58  \n",
       " 12769  2021-05-28-08:36:58  \n",
       " 12770  2021-05-28-08:36:58  \n",
       " 12771  2021-05-28-08:36:58  \n",
       " 12772  2021-05-28-08:36:58  \n",
       " 12773  2021-05-28-08:36:58  \n",
       " 12774  2021-05-28-08:36:58  \n",
       " 12775  2021-05-28-08:36:58  \n",
       " 12776  2021-05-28-08:36:58  \n",
       " 12777  2021-05-28-08:36:58  \n",
       " 12778  2021-05-28-08:36:58  \n",
       " 12779  2021-05-28-08:36:58  \n",
       " 12780  2021-05-28-08:36:58  ,\n",
       "          open    high     low   close   volume  traded  Hammer ticker  \\\n",
       " 12776  265.20  266.05  265.15  266.00  42207.0   False     0.0    DLF   \n",
       " 12777  266.00  266.60  265.95  266.60  88825.0   False     0.0    DLF   \n",
       " 12778  266.50  266.80  265.80  266.00  63339.0   False     0.0    DLF   \n",
       " 12779  266.05  266.05  264.70  264.80  80346.0   False     0.0    DLF   \n",
       " 12780  264.80  264.95  264.40  264.95  46530.0    True   100.0    DLF   \n",
       " 12781  264.85  265.80  264.80  264.85  59777.0   False     NaN    DLF   \n",
       " 12782  265.00  265.10  264.75  264.85  16906.0   False     NaN    DLF   \n",
       " 12783  264.85  265.00  264.70  265.00   9370.0   False     NaN    DLF   \n",
       " 12784  265.00  265.20  264.85  265.20  12299.0   False     NaN    DLF   \n",
       " 12785  265.20  265.45  265.05  265.45  13180.0   False     NaN    DLF   \n",
       " 12786  265.35  265.60  265.35  265.55   7759.0   False     NaN    DLF   \n",
       " 12787  265.45  265.85  265.40  265.70  17835.0   False     NaN    DLF   \n",
       " 12788  265.70  265.85  265.45  265.60  14712.0   False     NaN    DLF   \n",
       " 12789  265.45  266.25  265.45  266.10  33170.0   False     NaN    DLF   \n",
       " 12790  265.90  266.50  265.90  266.50  48432.0   False     NaN    DLF   \n",
       " 12791  266.35  266.70  266.05  266.20  64764.0   False     NaN    DLF   \n",
       " 12792  266.10  266.35  266.00  266.05  20077.0   False     NaN    DLF   \n",
       " 12793  266.05  267.00  266.05  266.90  46468.0   False     NaN    DLF   \n",
       " 12794  266.95  267.00  266.35  266.40  33244.0   False     NaN    DLF   \n",
       " \n",
       "                       date  \n",
       " 12776  2021-05-28-08:36:58  \n",
       " 12777  2021-05-28-08:36:58  \n",
       " 12778  2021-05-28-08:36:58  \n",
       " 12779  2021-05-28-08:36:58  \n",
       " 12780  2021-05-28-08:36:58  \n",
       " 12781  2021-05-28-08:36:58  \n",
       " 12782  2021-05-28-08:36:58  \n",
       " 12783  2021-05-28-08:36:58  \n",
       " 12784  2021-05-28-08:36:58  \n",
       " 12785  2021-05-28-08:36:58  \n",
       " 12786  2021-05-28-08:36:58  \n",
       " 12787  2021-05-28-08:36:58  \n",
       " 12788  2021-05-28-08:36:58  \n",
       " 12789  2021-05-28-08:36:58  \n",
       " 12790  2021-05-28-08:36:58  \n",
       " 12791  2021-05-28-08:36:58  \n",
       " 12792  2021-05-28-08:36:58  \n",
       " 12793  2021-05-28-08:36:58  \n",
       " 12794  2021-05-28-08:36:58  ,\n",
       "          open    high     low   close   volume  traded  Hammer ticker  \\\n",
       " 13138  267.95  268.40  267.70  268.40  24948.0   False     0.0    DLF   \n",
       " 13139  268.15  268.40  267.75  267.80  18456.0   False     0.0    DLF   \n",
       " 13140  267.80  267.85  267.50  267.60  11113.0   False     0.0    DLF   \n",
       " 13141  267.70  267.80  267.00  267.00  38411.0   False     0.0    DLF   \n",
       " 13142  266.95  267.00  266.30  267.00  44998.0    True   100.0    DLF   \n",
       " 13143  267.00  267.20  266.55  266.55  22199.0   False     NaN    DLF   \n",
       " 13144  266.55  266.60  266.05  266.45  37950.0   False     NaN    DLF   \n",
       " 13145  266.40  267.10  265.90  266.50  72515.0   False     NaN    DLF   \n",
       " 13146  266.55  266.70  266.20  266.25  14127.0   False     NaN    DLF   \n",
       " 13147  266.20  266.45  265.95  266.20  26413.0   False     NaN    DLF   \n",
       " 13148  266.35  267.55  266.15  267.25  63356.0   False     NaN    DLF   \n",
       " 13149  267.30  267.45  266.85  267.25  33134.0   False     NaN    DLF   \n",
       " 13150  267.30  267.80  266.95  267.80  40771.0   False     NaN    DLF   \n",
       " 13151  267.80  268.60  267.80  268.30  41167.0   False     NaN    DLF   \n",
       " 13152  268.50  268.85  268.35  268.85  32370.0   False     NaN    DLF   \n",
       " 13153  268.70  269.00  268.50  269.00  43702.0   False     NaN    DLF   \n",
       " 13154  268.95  269.50  268.80  269.25  53516.0   False     NaN    DLF   \n",
       " 13155  269.35  269.60  268.70  268.90  47286.0   False     NaN    DLF   \n",
       " 13156  269.05  269.20  268.65  268.90  20049.0   False     NaN    DLF   \n",
       " \n",
       "                       date  \n",
       " 13138  2021-05-29-08:36:58  \n",
       " 13139  2021-05-29-08:36:58  \n",
       " 13140  2021-05-29-08:36:58  \n",
       " 13141  2021-05-29-08:36:58  \n",
       " 13142  2021-05-29-08:36:58  \n",
       " 13143  2021-05-29-08:36:58  \n",
       " 13144  2021-05-29-08:36:58  \n",
       " 13145  2021-05-29-08:36:58  \n",
       " 13146  2021-05-29-08:36:58  \n",
       " 13147  2021-05-29-08:36:58  \n",
       " 13148  2021-05-29-08:36:58  \n",
       " 13149  2021-05-29-08:36:58  \n",
       " 13150  2021-05-29-08:36:58  \n",
       " 13151  2021-05-29-08:36:58  \n",
       " 13152  2021-05-29-08:36:58  \n",
       " 13153  2021-05-29-08:36:58  \n",
       " 13154  2021-05-29-08:36:58  \n",
       " 13155  2021-05-29-08:36:58  \n",
       " 13156  2021-05-29-08:36:58  ,\n",
       "          open    high     low   close   volume  traded  Hammer ticker  \\\n",
       " 13527  262.60  262.75  262.20  262.35  27984.0   False     0.0    DLF   \n",
       " 13528  262.20  262.45  262.15  262.35  17687.0   False     0.0    DLF   \n",
       " 13529  262.35  262.40  261.70  261.70  19378.0   False     0.0    DLF   \n",
       " 13530  261.70  261.70  261.00  261.00  24207.0   False     0.0    DLF   \n",
       " 13531  261.05  261.25  260.55  261.25  59115.0    True   100.0    DLF   \n",
       " 13532  261.45  261.80  261.35  261.65  41124.0   False     NaN    DLF   \n",
       " 13533  261.65  262.05  261.60  261.90  20046.0   False     NaN    DLF   \n",
       " 13534  262.00  262.20  261.75  262.05  33220.0   False     NaN    DLF   \n",
       " 13535  262.05  262.25  261.80  261.80  23622.0   False     NaN    DLF   \n",
       " 13536  261.80  262.30  261.75  262.15  14822.0   False     NaN    DLF   \n",
       " 13537  262.20  262.25  261.75  262.05  12561.0   False     NaN    DLF   \n",
       " 13538  262.05  262.40  262.00  262.30  11232.0   False     NaN    DLF   \n",
       " 13539  262.50  262.50  261.90  262.05  14355.0   False     NaN    DLF   \n",
       " 13540  261.95  262.15  261.90  262.00  15317.0   False     NaN    DLF   \n",
       " 13541  261.85  261.90  261.70  261.70  17371.0   False     NaN    DLF   \n",
       " 13542  261.70  261.85  261.50  261.85   7950.0   False     NaN    DLF   \n",
       " 13543  261.95  262.20  261.70  261.80   7511.0   False     NaN    DLF   \n",
       " 13544  261.75  262.00  261.60  262.00   7201.0   False     NaN    DLF   \n",
       " 13545  261.80  262.05  260.95  261.00  36053.0   False     NaN    DLF   \n",
       " \n",
       "                       date  \n",
       " 13527  2021-05-30-08:36:58  \n",
       " 13528  2021-05-30-08:36:58  \n",
       " 13529  2021-05-30-08:36:58  \n",
       " 13530  2021-05-30-08:36:58  \n",
       " 13531  2021-05-30-08:36:58  \n",
       " 13532  2021-05-30-08:36:58  \n",
       " 13533  2021-05-30-08:36:58  \n",
       " 13534  2021-05-30-08:36:58  \n",
       " 13535  2021-05-30-08:36:58  \n",
       " 13536  2021-05-30-08:36:58  \n",
       " 13537  2021-05-30-08:36:58  \n",
       " 13538  2021-05-30-08:36:58  \n",
       " 13539  2021-05-30-08:36:58  \n",
       " 13540  2021-05-30-08:36:58  \n",
       " 13541  2021-05-30-08:36:58  \n",
       " 13542  2021-05-30-08:36:58  \n",
       " 13543  2021-05-30-08:36:58  \n",
       " 13544  2021-05-30-08:36:58  \n",
       " 13545  2021-05-30-08:36:58  ,\n",
       "          open    high     low   close   volume  traded  Hammer ticker  \\\n",
       " 13921  255.30  255.90  255.20  255.85  18395.0   False     0.0    DLF   \n",
       " 13922  255.85  255.90  255.50  255.70   7339.0   False     0.0    DLF   \n",
       " 13923  255.70  255.85  255.55  255.55   5099.0   False     0.0    DLF   \n",
       " 13924  255.55  255.90  255.55  255.65   9659.0   False     0.0    DLF   \n",
       " 13925  255.60  255.60  255.20  255.50   8575.0    True   100.0    DLF   \n",
       " 13926  255.35  255.70  255.35  255.55   5189.0   False     NaN    DLF   \n",
       " 13927  255.50  255.50  255.30  255.30  11374.0   False     NaN    DLF   \n",
       " 13928  255.30  256.20  255.25  256.20  24599.0   False     NaN    DLF   \n",
       " 13929  256.20  256.70  256.10  256.65  64244.0   False     NaN    DLF   \n",
       " 13930  256.55  256.95  256.40  256.55  60131.0   False     NaN    DLF   \n",
       " 13931  256.45  257.10  256.45  256.95  41685.0   False     NaN    DLF   \n",
       " 13932  256.90  257.35  256.75  257.10  39060.0   False     NaN    DLF   \n",
       " 13933  257.10  257.65  257.00  257.45  60076.0   False     NaN    DLF   \n",
       " 13934  257.30  257.50  256.90  257.00  36449.0   False     NaN    DLF   \n",
       " 13935  257.00  257.50  256.90  257.50  19233.0   False     NaN    DLF   \n",
       " 13936  257.45  257.50  257.10  257.15  24259.0   False     NaN    DLF   \n",
       " 13937  257.25  257.90  257.00  257.80  51076.0   False     NaN    DLF   \n",
       " 13938  257.80  257.85  257.30  257.40  26152.0   False     NaN    DLF   \n",
       " 13939  257.30  258.15  257.30  257.85  60015.0   False     NaN    DLF   \n",
       " \n",
       "                       date  \n",
       " 13921  2021-05-31-08:36:58  \n",
       " 13922  2021-05-31-08:36:58  \n",
       " 13923  2021-05-31-08:36:58  \n",
       " 13924  2021-05-31-08:36:58  \n",
       " 13925  2021-05-31-08:36:58  \n",
       " 13926  2021-05-31-08:36:58  \n",
       " 13927  2021-05-31-08:36:58  \n",
       " 13928  2021-05-31-08:36:58  \n",
       " 13929  2021-05-31-08:36:58  \n",
       " 13930  2021-05-31-08:36:58  \n",
       " 13931  2021-05-31-08:36:58  \n",
       " 13932  2021-05-31-08:36:58  \n",
       " 13933  2021-05-31-08:36:58  \n",
       " 13934  2021-05-31-08:36:58  \n",
       " 13935  2021-05-31-08:36:58  \n",
       " 13936  2021-05-31-08:36:58  \n",
       " 13937  2021-05-31-08:36:58  \n",
       " 13938  2021-05-31-08:36:58  \n",
       " 13939  2021-05-31-08:36:58  ]"
      ]
     },
     "execution_count": 116,
     "metadata": {},
     "output_type": "execute_result"
    }
   ],
   "source": [
    "loss_data.loc[263:265]\n",
    "data_list =[]\n",
    "for index, row in hammer.iterrows():\n",
    "    data_list.append(data.loc[index-4:index+14])\n",
    "data_list       "
   ]
  },
  {
   "cell_type": "code",
   "execution_count": 127,
   "id": "ab4529a5",
   "metadata": {},
   "outputs": [
    {
     "data": {
      "application/vnd.plotly.v1+json": {
       "config": {
        "linkText": "Export to plot.ly",
        "plotlyServerURL": "https://plot.ly",
        "showLink": false
       },
       "data": [
        {
         "close": [
          282.1,
          282.1,
          282.65,
          282.5,
          282.5,
          282.55,
          282.7,
          282.65,
          282.8,
          282.85,
          282.8,
          282.8,
          282.7,
          282.5,
          282.6,
          282.85,
          282.75,
          282.6,
          283.15
         ],
         "high": [
          282.2,
          282.2,
          282.75,
          282.75,
          282.55,
          282.75,
          282.8,
          282.85,
          283,
          283,
          283.25,
          283,
          282.95,
          282.8,
          282.75,
          283,
          283,
          282.8,
          283.5
         ],
         "low": [
          282.1,
          282.1,
          282.1,
          282.5,
          282.15,
          282.4,
          282.45,
          282.65,
          282.65,
          282.7,
          282.8,
          282.7,
          282.7,
          282.5,
          282.15,
          282.55,
          282.55,
          282.55,
          282.6
         ],
         "open": [
          282.1,
          282.1,
          282.1,
          282.65,
          282.55,
          282.5,
          282.55,
          282.7,
          282.75,
          282.95,
          282.8,
          282.8,
          282.8,
          282.7,
          282.6,
          282.6,
          282.85,
          282.75,
          282.6
         ],
         "type": "candlestick",
         "x": [
          4797,
          4798,
          4799,
          4800,
          4801,
          4802,
          4803,
          4804,
          4805,
          4806,
          4807,
          4808,
          4809,
          4810,
          4811,
          4812,
          4813,
          4814,
          4815
         ]
        },
        {
         "marker": {
          "color": [
           "gold"
          ],
          "size": 20,
          "symbol": [
           "circle"
          ]
         },
         "mode": "markers",
         "name": "markers",
         "type": "scatter",
         "x": [
          4801
         ],
         "y": [
          282.5
         ]
        },
        {
         "marker": {
          "color": [
           "green"
          ],
          "size": 20,
          "symbol": [
           "star-triangle-up"
          ]
         },
         "mode": "markers",
         "name": "markers",
         "type": "scatter",
         "x": [
          4802
         ],
         "y": [
          282.55
         ]
        },
        {
         "marker": {
          "color": [
           "red"
          ],
          "size": 20,
          "symbol": [
           "star-triangle-down"
          ]
         },
         "mode": "markers",
         "name": "markers",
         "type": "scatter",
         "x": [
          4810
         ],
         "y": [
          282.5
         ]
        }
       ],
       "layout": {
        "template": {
         "data": {
          "bar": [
           {
            "error_x": {
             "color": "#2a3f5f"
            },
            "error_y": {
             "color": "#2a3f5f"
            },
            "marker": {
             "line": {
              "color": "#E5ECF6",
              "width": 0.5
             }
            },
            "type": "bar"
           }
          ],
          "barpolar": [
           {
            "marker": {
             "line": {
              "color": "#E5ECF6",
              "width": 0.5
             }
            },
            "type": "barpolar"
           }
          ],
          "carpet": [
           {
            "aaxis": {
             "endlinecolor": "#2a3f5f",
             "gridcolor": "white",
             "linecolor": "white",
             "minorgridcolor": "white",
             "startlinecolor": "#2a3f5f"
            },
            "baxis": {
             "endlinecolor": "#2a3f5f",
             "gridcolor": "white",
             "linecolor": "white",
             "minorgridcolor": "white",
             "startlinecolor": "#2a3f5f"
            },
            "type": "carpet"
           }
          ],
          "choropleth": [
           {
            "colorbar": {
             "outlinewidth": 0,
             "ticks": ""
            },
            "type": "choropleth"
           }
          ],
          "contour": [
           {
            "colorbar": {
             "outlinewidth": 0,
             "ticks": ""
            },
            "colorscale": [
             [
              0,
              "#0d0887"
             ],
             [
              0.1111111111111111,
              "#46039f"
             ],
             [
              0.2222222222222222,
              "#7201a8"
             ],
             [
              0.3333333333333333,
              "#9c179e"
             ],
             [
              0.4444444444444444,
              "#bd3786"
             ],
             [
              0.5555555555555556,
              "#d8576b"
             ],
             [
              0.6666666666666666,
              "#ed7953"
             ],
             [
              0.7777777777777778,
              "#fb9f3a"
             ],
             [
              0.8888888888888888,
              "#fdca26"
             ],
             [
              1,
              "#f0f921"
             ]
            ],
            "type": "contour"
           }
          ],
          "contourcarpet": [
           {
            "colorbar": {
             "outlinewidth": 0,
             "ticks": ""
            },
            "type": "contourcarpet"
           }
          ],
          "heatmap": [
           {
            "colorbar": {
             "outlinewidth": 0,
             "ticks": ""
            },
            "colorscale": [
             [
              0,
              "#0d0887"
             ],
             [
              0.1111111111111111,
              "#46039f"
             ],
             [
              0.2222222222222222,
              "#7201a8"
             ],
             [
              0.3333333333333333,
              "#9c179e"
             ],
             [
              0.4444444444444444,
              "#bd3786"
             ],
             [
              0.5555555555555556,
              "#d8576b"
             ],
             [
              0.6666666666666666,
              "#ed7953"
             ],
             [
              0.7777777777777778,
              "#fb9f3a"
             ],
             [
              0.8888888888888888,
              "#fdca26"
             ],
             [
              1,
              "#f0f921"
             ]
            ],
            "type": "heatmap"
           }
          ],
          "heatmapgl": [
           {
            "colorbar": {
             "outlinewidth": 0,
             "ticks": ""
            },
            "colorscale": [
             [
              0,
              "#0d0887"
             ],
             [
              0.1111111111111111,
              "#46039f"
             ],
             [
              0.2222222222222222,
              "#7201a8"
             ],
             [
              0.3333333333333333,
              "#9c179e"
             ],
             [
              0.4444444444444444,
              "#bd3786"
             ],
             [
              0.5555555555555556,
              "#d8576b"
             ],
             [
              0.6666666666666666,
              "#ed7953"
             ],
             [
              0.7777777777777778,
              "#fb9f3a"
             ],
             [
              0.8888888888888888,
              "#fdca26"
             ],
             [
              1,
              "#f0f921"
             ]
            ],
            "type": "heatmapgl"
           }
          ],
          "histogram": [
           {
            "marker": {
             "colorbar": {
              "outlinewidth": 0,
              "ticks": ""
             }
            },
            "type": "histogram"
           }
          ],
          "histogram2d": [
           {
            "colorbar": {
             "outlinewidth": 0,
             "ticks": ""
            },
            "colorscale": [
             [
              0,
              "#0d0887"
             ],
             [
              0.1111111111111111,
              "#46039f"
             ],
             [
              0.2222222222222222,
              "#7201a8"
             ],
             [
              0.3333333333333333,
              "#9c179e"
             ],
             [
              0.4444444444444444,
              "#bd3786"
             ],
             [
              0.5555555555555556,
              "#d8576b"
             ],
             [
              0.6666666666666666,
              "#ed7953"
             ],
             [
              0.7777777777777778,
              "#fb9f3a"
             ],
             [
              0.8888888888888888,
              "#fdca26"
             ],
             [
              1,
              "#f0f921"
             ]
            ],
            "type": "histogram2d"
           }
          ],
          "histogram2dcontour": [
           {
            "colorbar": {
             "outlinewidth": 0,
             "ticks": ""
            },
            "colorscale": [
             [
              0,
              "#0d0887"
             ],
             [
              0.1111111111111111,
              "#46039f"
             ],
             [
              0.2222222222222222,
              "#7201a8"
             ],
             [
              0.3333333333333333,
              "#9c179e"
             ],
             [
              0.4444444444444444,
              "#bd3786"
             ],
             [
              0.5555555555555556,
              "#d8576b"
             ],
             [
              0.6666666666666666,
              "#ed7953"
             ],
             [
              0.7777777777777778,
              "#fb9f3a"
             ],
             [
              0.8888888888888888,
              "#fdca26"
             ],
             [
              1,
              "#f0f921"
             ]
            ],
            "type": "histogram2dcontour"
           }
          ],
          "mesh3d": [
           {
            "colorbar": {
             "outlinewidth": 0,
             "ticks": ""
            },
            "type": "mesh3d"
           }
          ],
          "parcoords": [
           {
            "line": {
             "colorbar": {
              "outlinewidth": 0,
              "ticks": ""
             }
            },
            "type": "parcoords"
           }
          ],
          "pie": [
           {
            "automargin": true,
            "type": "pie"
           }
          ],
          "scatter": [
           {
            "marker": {
             "colorbar": {
              "outlinewidth": 0,
              "ticks": ""
             }
            },
            "type": "scatter"
           }
          ],
          "scatter3d": [
           {
            "line": {
             "colorbar": {
              "outlinewidth": 0,
              "ticks": ""
             }
            },
            "marker": {
             "colorbar": {
              "outlinewidth": 0,
              "ticks": ""
             }
            },
            "type": "scatter3d"
           }
          ],
          "scattercarpet": [
           {
            "marker": {
             "colorbar": {
              "outlinewidth": 0,
              "ticks": ""
             }
            },
            "type": "scattercarpet"
           }
          ],
          "scattergeo": [
           {
            "marker": {
             "colorbar": {
              "outlinewidth": 0,
              "ticks": ""
             }
            },
            "type": "scattergeo"
           }
          ],
          "scattergl": [
           {
            "marker": {
             "colorbar": {
              "outlinewidth": 0,
              "ticks": ""
             }
            },
            "type": "scattergl"
           }
          ],
          "scattermapbox": [
           {
            "marker": {
             "colorbar": {
              "outlinewidth": 0,
              "ticks": ""
             }
            },
            "type": "scattermapbox"
           }
          ],
          "scatterpolar": [
           {
            "marker": {
             "colorbar": {
              "outlinewidth": 0,
              "ticks": ""
             }
            },
            "type": "scatterpolar"
           }
          ],
          "scatterpolargl": [
           {
            "marker": {
             "colorbar": {
              "outlinewidth": 0,
              "ticks": ""
             }
            },
            "type": "scatterpolargl"
           }
          ],
          "scatterternary": [
           {
            "marker": {
             "colorbar": {
              "outlinewidth": 0,
              "ticks": ""
             }
            },
            "type": "scatterternary"
           }
          ],
          "surface": [
           {
            "colorbar": {
             "outlinewidth": 0,
             "ticks": ""
            },
            "colorscale": [
             [
              0,
              "#0d0887"
             ],
             [
              0.1111111111111111,
              "#46039f"
             ],
             [
              0.2222222222222222,
              "#7201a8"
             ],
             [
              0.3333333333333333,
              "#9c179e"
             ],
             [
              0.4444444444444444,
              "#bd3786"
             ],
             [
              0.5555555555555556,
              "#d8576b"
             ],
             [
              0.6666666666666666,
              "#ed7953"
             ],
             [
              0.7777777777777778,
              "#fb9f3a"
             ],
             [
              0.8888888888888888,
              "#fdca26"
             ],
             [
              1,
              "#f0f921"
             ]
            ],
            "type": "surface"
           }
          ],
          "table": [
           {
            "cells": {
             "fill": {
              "color": "#EBF0F8"
             },
             "line": {
              "color": "white"
             }
            },
            "header": {
             "fill": {
              "color": "#C8D4E3"
             },
             "line": {
              "color": "white"
             }
            },
            "type": "table"
           }
          ]
         },
         "layout": {
          "annotationdefaults": {
           "arrowcolor": "#2a3f5f",
           "arrowhead": 0,
           "arrowwidth": 1
          },
          "autotypenumbers": "strict",
          "coloraxis": {
           "colorbar": {
            "outlinewidth": 0,
            "ticks": ""
           }
          },
          "colorscale": {
           "diverging": [
            [
             0,
             "#8e0152"
            ],
            [
             0.1,
             "#c51b7d"
            ],
            [
             0.2,
             "#de77ae"
            ],
            [
             0.3,
             "#f1b6da"
            ],
            [
             0.4,
             "#fde0ef"
            ],
            [
             0.5,
             "#f7f7f7"
            ],
            [
             0.6,
             "#e6f5d0"
            ],
            [
             0.7,
             "#b8e186"
            ],
            [
             0.8,
             "#7fbc41"
            ],
            [
             0.9,
             "#4d9221"
            ],
            [
             1,
             "#276419"
            ]
           ],
           "sequential": [
            [
             0,
             "#0d0887"
            ],
            [
             0.1111111111111111,
             "#46039f"
            ],
            [
             0.2222222222222222,
             "#7201a8"
            ],
            [
             0.3333333333333333,
             "#9c179e"
            ],
            [
             0.4444444444444444,
             "#bd3786"
            ],
            [
             0.5555555555555556,
             "#d8576b"
            ],
            [
             0.6666666666666666,
             "#ed7953"
            ],
            [
             0.7777777777777778,
             "#fb9f3a"
            ],
            [
             0.8888888888888888,
             "#fdca26"
            ],
            [
             1,
             "#f0f921"
            ]
           ],
           "sequentialminus": [
            [
             0,
             "#0d0887"
            ],
            [
             0.1111111111111111,
             "#46039f"
            ],
            [
             0.2222222222222222,
             "#7201a8"
            ],
            [
             0.3333333333333333,
             "#9c179e"
            ],
            [
             0.4444444444444444,
             "#bd3786"
            ],
            [
             0.5555555555555556,
             "#d8576b"
            ],
            [
             0.6666666666666666,
             "#ed7953"
            ],
            [
             0.7777777777777778,
             "#fb9f3a"
            ],
            [
             0.8888888888888888,
             "#fdca26"
            ],
            [
             1,
             "#f0f921"
            ]
           ]
          },
          "colorway": [
           "#636efa",
           "#EF553B",
           "#00cc96",
           "#ab63fa",
           "#FFA15A",
           "#19d3f3",
           "#FF6692",
           "#B6E880",
           "#FF97FF",
           "#FECB52"
          ],
          "font": {
           "color": "#2a3f5f"
          },
          "geo": {
           "bgcolor": "white",
           "lakecolor": "white",
           "landcolor": "#E5ECF6",
           "showlakes": true,
           "showland": true,
           "subunitcolor": "white"
          },
          "hoverlabel": {
           "align": "left"
          },
          "hovermode": "closest",
          "mapbox": {
           "style": "light"
          },
          "paper_bgcolor": "white",
          "plot_bgcolor": "#E5ECF6",
          "polar": {
           "angularaxis": {
            "gridcolor": "white",
            "linecolor": "white",
            "ticks": ""
           },
           "bgcolor": "#E5ECF6",
           "radialaxis": {
            "gridcolor": "white",
            "linecolor": "white",
            "ticks": ""
           }
          },
          "scene": {
           "xaxis": {
            "backgroundcolor": "#E5ECF6",
            "gridcolor": "white",
            "gridwidth": 2,
            "linecolor": "white",
            "showbackground": true,
            "ticks": "",
            "zerolinecolor": "white"
           },
           "yaxis": {
            "backgroundcolor": "#E5ECF6",
            "gridcolor": "white",
            "gridwidth": 2,
            "linecolor": "white",
            "showbackground": true,
            "ticks": "",
            "zerolinecolor": "white"
           },
           "zaxis": {
            "backgroundcolor": "#E5ECF6",
            "gridcolor": "white",
            "gridwidth": 2,
            "linecolor": "white",
            "showbackground": true,
            "ticks": "",
            "zerolinecolor": "white"
           }
          },
          "shapedefaults": {
           "line": {
            "color": "#2a3f5f"
           }
          },
          "ternary": {
           "aaxis": {
            "gridcolor": "white",
            "linecolor": "white",
            "ticks": ""
           },
           "baxis": {
            "gridcolor": "white",
            "linecolor": "white",
            "ticks": ""
           },
           "bgcolor": "#E5ECF6",
           "caxis": {
            "gridcolor": "white",
            "linecolor": "white",
            "ticks": ""
           }
          },
          "title": {
           "x": 0.05
          },
          "xaxis": {
           "automargin": true,
           "gridcolor": "white",
           "linecolor": "white",
           "ticks": "",
           "title": {
            "standoff": 15
           },
           "zerolinecolor": "white",
           "zerolinewidth": 2
          },
          "yaxis": {
           "automargin": true,
           "gridcolor": "white",
           "linecolor": "white",
           "ticks": "",
           "title": {
            "standoff": 15
           },
           "zerolinecolor": "white",
           "zerolinewidth": 2
          }
         }
        }
       }
      },
      "text/html": [
       "<div>                            <div id=\"a0098ef6-3a20-4324-9276-4cef4d47d7a0\" class=\"plotly-graph-div\" style=\"height:525px; width:100%;\"></div>            <script type=\"text/javascript\">                require([\"plotly\"], function(Plotly) {                    window.PLOTLYENV=window.PLOTLYENV || {};                                    if (document.getElementById(\"a0098ef6-3a20-4324-9276-4cef4d47d7a0\")) {                    Plotly.newPlot(                        \"a0098ef6-3a20-4324-9276-4cef4d47d7a0\",                        [{\"close\": [282.1, 282.1, 282.65, 282.5, 282.5, 282.55, 282.7, 282.65, 282.8, 282.85, 282.8, 282.8, 282.7, 282.5, 282.6, 282.85, 282.75, 282.6, 283.15], \"high\": [282.2, 282.2, 282.75, 282.75, 282.55, 282.75, 282.8, 282.85, 283.0, 283.0, 283.25, 283.0, 282.95, 282.8, 282.75, 283.0, 283.0, 282.8, 283.5], \"low\": [282.1, 282.1, 282.1, 282.5, 282.15, 282.4, 282.45, 282.65, 282.65, 282.7, 282.8, 282.7, 282.7, 282.5, 282.15, 282.55, 282.55, 282.55, 282.6], \"open\": [282.1, 282.1, 282.1, 282.65, 282.55, 282.5, 282.55, 282.7, 282.75, 282.95, 282.8, 282.8, 282.8, 282.7, 282.6, 282.6, 282.85, 282.75, 282.6], \"type\": \"candlestick\", \"x\": [4797, 4798, 4799, 4800, 4801, 4802, 4803, 4804, 4805, 4806, 4807, 4808, 4809, 4810, 4811, 4812, 4813, 4814, 4815]}, {\"marker\": {\"color\": [\"gold\"], \"size\": 20, \"symbol\": [\"circle\"]}, \"mode\": \"markers\", \"name\": \"markers\", \"type\": \"scatter\", \"x\": [4801], \"y\": [282.5]}, {\"marker\": {\"color\": [\"green\"], \"size\": 20, \"symbol\": [\"star-triangle-up\"]}, \"mode\": \"markers\", \"name\": \"markers\", \"type\": \"scatter\", \"x\": [4802], \"y\": [282.55]}, {\"marker\": {\"color\": [\"red\"], \"size\": 20, \"symbol\": [\"star-triangle-down\"]}, \"mode\": \"markers\", \"name\": \"markers\", \"type\": \"scatter\", \"x\": [4810], \"y\": [282.5]}],                        {\"template\": {\"data\": {\"bar\": [{\"error_x\": {\"color\": \"#2a3f5f\"}, \"error_y\": {\"color\": \"#2a3f5f\"}, \"marker\": {\"line\": {\"color\": \"#E5ECF6\", \"width\": 0.5}}, \"type\": \"bar\"}], \"barpolar\": [{\"marker\": {\"line\": {\"color\": \"#E5ECF6\", \"width\": 0.5}}, \"type\": \"barpolar\"}], \"carpet\": [{\"aaxis\": {\"endlinecolor\": \"#2a3f5f\", \"gridcolor\": \"white\", \"linecolor\": \"white\", \"minorgridcolor\": \"white\", \"startlinecolor\": \"#2a3f5f\"}, \"baxis\": {\"endlinecolor\": \"#2a3f5f\", \"gridcolor\": \"white\", \"linecolor\": \"white\", \"minorgridcolor\": \"white\", \"startlinecolor\": \"#2a3f5f\"}, \"type\": \"carpet\"}], \"choropleth\": [{\"colorbar\": {\"outlinewidth\": 0, \"ticks\": \"\"}, \"type\": \"choropleth\"}], \"contour\": [{\"colorbar\": {\"outlinewidth\": 0, \"ticks\": \"\"}, \"colorscale\": [[0.0, \"#0d0887\"], [0.1111111111111111, \"#46039f\"], [0.2222222222222222, \"#7201a8\"], [0.3333333333333333, \"#9c179e\"], [0.4444444444444444, \"#bd3786\"], [0.5555555555555556, \"#d8576b\"], [0.6666666666666666, \"#ed7953\"], [0.7777777777777778, \"#fb9f3a\"], [0.8888888888888888, \"#fdca26\"], [1.0, \"#f0f921\"]], \"type\": \"contour\"}], \"contourcarpet\": [{\"colorbar\": {\"outlinewidth\": 0, \"ticks\": \"\"}, \"type\": \"contourcarpet\"}], \"heatmap\": [{\"colorbar\": {\"outlinewidth\": 0, \"ticks\": \"\"}, \"colorscale\": [[0.0, \"#0d0887\"], [0.1111111111111111, \"#46039f\"], [0.2222222222222222, \"#7201a8\"], [0.3333333333333333, \"#9c179e\"], [0.4444444444444444, \"#bd3786\"], [0.5555555555555556, \"#d8576b\"], [0.6666666666666666, \"#ed7953\"], [0.7777777777777778, \"#fb9f3a\"], [0.8888888888888888, \"#fdca26\"], [1.0, \"#f0f921\"]], \"type\": \"heatmap\"}], \"heatmapgl\": [{\"colorbar\": {\"outlinewidth\": 0, \"ticks\": \"\"}, \"colorscale\": [[0.0, \"#0d0887\"], [0.1111111111111111, \"#46039f\"], [0.2222222222222222, \"#7201a8\"], [0.3333333333333333, \"#9c179e\"], [0.4444444444444444, \"#bd3786\"], [0.5555555555555556, \"#d8576b\"], [0.6666666666666666, \"#ed7953\"], [0.7777777777777778, \"#fb9f3a\"], [0.8888888888888888, \"#fdca26\"], [1.0, \"#f0f921\"]], \"type\": \"heatmapgl\"}], \"histogram\": [{\"marker\": {\"colorbar\": {\"outlinewidth\": 0, \"ticks\": \"\"}}, \"type\": \"histogram\"}], \"histogram2d\": [{\"colorbar\": {\"outlinewidth\": 0, \"ticks\": \"\"}, \"colorscale\": [[0.0, \"#0d0887\"], [0.1111111111111111, \"#46039f\"], [0.2222222222222222, \"#7201a8\"], [0.3333333333333333, \"#9c179e\"], [0.4444444444444444, \"#bd3786\"], [0.5555555555555556, \"#d8576b\"], [0.6666666666666666, \"#ed7953\"], [0.7777777777777778, \"#fb9f3a\"], [0.8888888888888888, \"#fdca26\"], [1.0, \"#f0f921\"]], \"type\": \"histogram2d\"}], \"histogram2dcontour\": [{\"colorbar\": {\"outlinewidth\": 0, \"ticks\": \"\"}, \"colorscale\": [[0.0, \"#0d0887\"], [0.1111111111111111, \"#46039f\"], [0.2222222222222222, \"#7201a8\"], [0.3333333333333333, \"#9c179e\"], [0.4444444444444444, \"#bd3786\"], [0.5555555555555556, \"#d8576b\"], [0.6666666666666666, \"#ed7953\"], [0.7777777777777778, \"#fb9f3a\"], [0.8888888888888888, \"#fdca26\"], [1.0, \"#f0f921\"]], \"type\": \"histogram2dcontour\"}], \"mesh3d\": [{\"colorbar\": {\"outlinewidth\": 0, \"ticks\": \"\"}, \"type\": \"mesh3d\"}], \"parcoords\": [{\"line\": {\"colorbar\": {\"outlinewidth\": 0, \"ticks\": \"\"}}, \"type\": \"parcoords\"}], \"pie\": [{\"automargin\": true, \"type\": \"pie\"}], \"scatter\": [{\"marker\": {\"colorbar\": {\"outlinewidth\": 0, \"ticks\": \"\"}}, \"type\": \"scatter\"}], \"scatter3d\": [{\"line\": {\"colorbar\": {\"outlinewidth\": 0, \"ticks\": \"\"}}, \"marker\": {\"colorbar\": {\"outlinewidth\": 0, \"ticks\": \"\"}}, \"type\": \"scatter3d\"}], \"scattercarpet\": [{\"marker\": {\"colorbar\": {\"outlinewidth\": 0, \"ticks\": \"\"}}, \"type\": \"scattercarpet\"}], \"scattergeo\": [{\"marker\": {\"colorbar\": {\"outlinewidth\": 0, \"ticks\": \"\"}}, \"type\": \"scattergeo\"}], \"scattergl\": [{\"marker\": {\"colorbar\": {\"outlinewidth\": 0, \"ticks\": \"\"}}, \"type\": \"scattergl\"}], \"scattermapbox\": [{\"marker\": {\"colorbar\": {\"outlinewidth\": 0, \"ticks\": \"\"}}, \"type\": \"scattermapbox\"}], \"scatterpolar\": [{\"marker\": {\"colorbar\": {\"outlinewidth\": 0, \"ticks\": \"\"}}, \"type\": \"scatterpolar\"}], \"scatterpolargl\": [{\"marker\": {\"colorbar\": {\"outlinewidth\": 0, \"ticks\": \"\"}}, \"type\": \"scatterpolargl\"}], \"scatterternary\": [{\"marker\": {\"colorbar\": {\"outlinewidth\": 0, \"ticks\": \"\"}}, \"type\": \"scatterternary\"}], \"surface\": [{\"colorbar\": {\"outlinewidth\": 0, \"ticks\": \"\"}, \"colorscale\": [[0.0, \"#0d0887\"], [0.1111111111111111, \"#46039f\"], [0.2222222222222222, \"#7201a8\"], [0.3333333333333333, \"#9c179e\"], [0.4444444444444444, \"#bd3786\"], [0.5555555555555556, \"#d8576b\"], [0.6666666666666666, \"#ed7953\"], [0.7777777777777778, \"#fb9f3a\"], [0.8888888888888888, \"#fdca26\"], [1.0, \"#f0f921\"]], \"type\": \"surface\"}], \"table\": [{\"cells\": {\"fill\": {\"color\": \"#EBF0F8\"}, \"line\": {\"color\": \"white\"}}, \"header\": {\"fill\": {\"color\": \"#C8D4E3\"}, \"line\": {\"color\": \"white\"}}, \"type\": \"table\"}]}, \"layout\": {\"annotationdefaults\": {\"arrowcolor\": \"#2a3f5f\", \"arrowhead\": 0, \"arrowwidth\": 1}, \"autotypenumbers\": \"strict\", \"coloraxis\": {\"colorbar\": {\"outlinewidth\": 0, \"ticks\": \"\"}}, \"colorscale\": {\"diverging\": [[0, \"#8e0152\"], [0.1, \"#c51b7d\"], [0.2, \"#de77ae\"], [0.3, \"#f1b6da\"], [0.4, \"#fde0ef\"], [0.5, \"#f7f7f7\"], [0.6, \"#e6f5d0\"], [0.7, \"#b8e186\"], [0.8, \"#7fbc41\"], [0.9, \"#4d9221\"], [1, \"#276419\"]], \"sequential\": [[0.0, \"#0d0887\"], [0.1111111111111111, \"#46039f\"], [0.2222222222222222, \"#7201a8\"], [0.3333333333333333, \"#9c179e\"], [0.4444444444444444, \"#bd3786\"], [0.5555555555555556, \"#d8576b\"], [0.6666666666666666, \"#ed7953\"], [0.7777777777777778, \"#fb9f3a\"], [0.8888888888888888, \"#fdca26\"], [1.0, \"#f0f921\"]], \"sequentialminus\": [[0.0, \"#0d0887\"], [0.1111111111111111, \"#46039f\"], [0.2222222222222222, \"#7201a8\"], [0.3333333333333333, \"#9c179e\"], [0.4444444444444444, \"#bd3786\"], [0.5555555555555556, \"#d8576b\"], [0.6666666666666666, \"#ed7953\"], [0.7777777777777778, \"#fb9f3a\"], [0.8888888888888888, \"#fdca26\"], [1.0, \"#f0f921\"]]}, \"colorway\": [\"#636efa\", \"#EF553B\", \"#00cc96\", \"#ab63fa\", \"#FFA15A\", \"#19d3f3\", \"#FF6692\", \"#B6E880\", \"#FF97FF\", \"#FECB52\"], \"font\": {\"color\": \"#2a3f5f\"}, \"geo\": {\"bgcolor\": \"white\", \"lakecolor\": \"white\", \"landcolor\": \"#E5ECF6\", \"showlakes\": true, \"showland\": true, \"subunitcolor\": \"white\"}, \"hoverlabel\": {\"align\": \"left\"}, \"hovermode\": \"closest\", \"mapbox\": {\"style\": \"light\"}, \"paper_bgcolor\": \"white\", \"plot_bgcolor\": \"#E5ECF6\", \"polar\": {\"angularaxis\": {\"gridcolor\": \"white\", \"linecolor\": \"white\", \"ticks\": \"\"}, \"bgcolor\": \"#E5ECF6\", \"radialaxis\": {\"gridcolor\": \"white\", \"linecolor\": \"white\", \"ticks\": \"\"}}, \"scene\": {\"xaxis\": {\"backgroundcolor\": \"#E5ECF6\", \"gridcolor\": \"white\", \"gridwidth\": 2, \"linecolor\": \"white\", \"showbackground\": true, \"ticks\": \"\", \"zerolinecolor\": \"white\"}, \"yaxis\": {\"backgroundcolor\": \"#E5ECF6\", \"gridcolor\": \"white\", \"gridwidth\": 2, \"linecolor\": \"white\", \"showbackground\": true, \"ticks\": \"\", \"zerolinecolor\": \"white\"}, \"zaxis\": {\"backgroundcolor\": \"#E5ECF6\", \"gridcolor\": \"white\", \"gridwidth\": 2, \"linecolor\": \"white\", \"showbackground\": true, \"ticks\": \"\", \"zerolinecolor\": \"white\"}}, \"shapedefaults\": {\"line\": {\"color\": \"#2a3f5f\"}}, \"ternary\": {\"aaxis\": {\"gridcolor\": \"white\", \"linecolor\": \"white\", \"ticks\": \"\"}, \"baxis\": {\"gridcolor\": \"white\", \"linecolor\": \"white\", \"ticks\": \"\"}, \"bgcolor\": \"#E5ECF6\", \"caxis\": {\"gridcolor\": \"white\", \"linecolor\": \"white\", \"ticks\": \"\"}}, \"title\": {\"x\": 0.05}, \"xaxis\": {\"automargin\": true, \"gridcolor\": \"white\", \"linecolor\": \"white\", \"ticks\": \"\", \"title\": {\"standoff\": 15}, \"zerolinecolor\": \"white\", \"zerolinewidth\": 2}, \"yaxis\": {\"automargin\": true, \"gridcolor\": \"white\", \"linecolor\": \"white\", \"ticks\": \"\", \"title\": {\"standoff\": 15}, \"zerolinecolor\": \"white\", \"zerolinewidth\": 2}}}},                        {\"responsive\": true}                    ).then(function(){\n",
       "                            \n",
       "var gd = document.getElementById('a0098ef6-3a20-4324-9276-4cef4d47d7a0');\n",
       "var x = new MutationObserver(function (mutations, observer) {{\n",
       "        var display = window.getComputedStyle(gd).display;\n",
       "        if (!display || display === 'none') {{\n",
       "            console.log([gd, 'removed!']);\n",
       "            Plotly.purge(gd);\n",
       "            observer.disconnect();\n",
       "        }}\n",
       "}});\n",
       "\n",
       "// Listen for the removal of the full notebook cells\n",
       "var notebookContainer = gd.closest('#notebook-container');\n",
       "if (notebookContainer) {{\n",
       "    x.observe(notebookContainer, {childList: true});\n",
       "}}\n",
       "\n",
       "// Listen for the clearing of the current output cell\n",
       "var outputEl = gd.closest('.output');\n",
       "if (outputEl) {{\n",
       "    x.observe(outputEl, {childList: true});\n",
       "}}\n",
       "\n",
       "                        })                };                });            </script>        </div>"
      ]
     },
     "metadata": {},
     "output_type": "display_data"
    }
   ],
   "source": [
    "graph(data_list[13],\"DLF\")\n"
   ]
  },
  {
   "cell_type": "code",
   "execution_count": 97,
   "id": "81318505",
   "metadata": {},
   "outputs": [
    {
     "data": {
      "application/vnd.plotly.v1+json": {
       "config": {
        "linkText": "Export to plot.ly",
        "plotlyServerURL": "https://plot.ly",
        "showLink": false
       },
       "data": [
        {
         "close": [
          292.3,
          292.9,
          293,
          292.95,
          293,
          292.35,
          292.2,
          292.15,
          292.35,
          292.65,
          293.05,
          293.3,
          293.25,
          293.4,
          293.45,
          293.7,
          293.75,
          293.15,
          293.1
         ],
         "high": [
          292.45,
          292.9,
          293.2,
          293.4,
          293,
          293,
          292.55,
          292.3,
          292.55,
          292.7,
          293.25,
          293.6,
          293.45,
          293.75,
          293.5,
          293.8,
          294,
          293.75,
          293.35
         ],
         "low": [
          292,
          292.1,
          292.75,
          292.95,
          292.75,
          292.25,
          292.1,
          291.7,
          292.05,
          292.35,
          292.6,
          293,
          293.05,
          293.25,
          293.25,
          293.25,
          293.5,
          293,
          292.65
         ],
         "open": [
          292.3,
          292.2,
          292.75,
          293.1,
          292.95,
          292.9,
          292.35,
          292.2,
          292.3,
          292.45,
          292.65,
          293.05,
          293.3,
          293.25,
          293.4,
          293.45,
          293.7,
          293.7,
          292.65
         ],
         "type": "candlestick",
         "x": [
          80,
          81,
          82,
          83,
          84,
          85,
          86,
          87,
          88,
          89,
          90,
          91,
          92,
          93,
          94,
          95,
          96,
          97,
          98
         ]
        }
       ],
       "layout": {
        "template": {
         "data": {
          "bar": [
           {
            "error_x": {
             "color": "#2a3f5f"
            },
            "error_y": {
             "color": "#2a3f5f"
            },
            "marker": {
             "line": {
              "color": "#E5ECF6",
              "width": 0.5
             }
            },
            "type": "bar"
           }
          ],
          "barpolar": [
           {
            "marker": {
             "line": {
              "color": "#E5ECF6",
              "width": 0.5
             }
            },
            "type": "barpolar"
           }
          ],
          "carpet": [
           {
            "aaxis": {
             "endlinecolor": "#2a3f5f",
             "gridcolor": "white",
             "linecolor": "white",
             "minorgridcolor": "white",
             "startlinecolor": "#2a3f5f"
            },
            "baxis": {
             "endlinecolor": "#2a3f5f",
             "gridcolor": "white",
             "linecolor": "white",
             "minorgridcolor": "white",
             "startlinecolor": "#2a3f5f"
            },
            "type": "carpet"
           }
          ],
          "choropleth": [
           {
            "colorbar": {
             "outlinewidth": 0,
             "ticks": ""
            },
            "type": "choropleth"
           }
          ],
          "contour": [
           {
            "colorbar": {
             "outlinewidth": 0,
             "ticks": ""
            },
            "colorscale": [
             [
              0,
              "#0d0887"
             ],
             [
              0.1111111111111111,
              "#46039f"
             ],
             [
              0.2222222222222222,
              "#7201a8"
             ],
             [
              0.3333333333333333,
              "#9c179e"
             ],
             [
              0.4444444444444444,
              "#bd3786"
             ],
             [
              0.5555555555555556,
              "#d8576b"
             ],
             [
              0.6666666666666666,
              "#ed7953"
             ],
             [
              0.7777777777777778,
              "#fb9f3a"
             ],
             [
              0.8888888888888888,
              "#fdca26"
             ],
             [
              1,
              "#f0f921"
             ]
            ],
            "type": "contour"
           }
          ],
          "contourcarpet": [
           {
            "colorbar": {
             "outlinewidth": 0,
             "ticks": ""
            },
            "type": "contourcarpet"
           }
          ],
          "heatmap": [
           {
            "colorbar": {
             "outlinewidth": 0,
             "ticks": ""
            },
            "colorscale": [
             [
              0,
              "#0d0887"
             ],
             [
              0.1111111111111111,
              "#46039f"
             ],
             [
              0.2222222222222222,
              "#7201a8"
             ],
             [
              0.3333333333333333,
              "#9c179e"
             ],
             [
              0.4444444444444444,
              "#bd3786"
             ],
             [
              0.5555555555555556,
              "#d8576b"
             ],
             [
              0.6666666666666666,
              "#ed7953"
             ],
             [
              0.7777777777777778,
              "#fb9f3a"
             ],
             [
              0.8888888888888888,
              "#fdca26"
             ],
             [
              1,
              "#f0f921"
             ]
            ],
            "type": "heatmap"
           }
          ],
          "heatmapgl": [
           {
            "colorbar": {
             "outlinewidth": 0,
             "ticks": ""
            },
            "colorscale": [
             [
              0,
              "#0d0887"
             ],
             [
              0.1111111111111111,
              "#46039f"
             ],
             [
              0.2222222222222222,
              "#7201a8"
             ],
             [
              0.3333333333333333,
              "#9c179e"
             ],
             [
              0.4444444444444444,
              "#bd3786"
             ],
             [
              0.5555555555555556,
              "#d8576b"
             ],
             [
              0.6666666666666666,
              "#ed7953"
             ],
             [
              0.7777777777777778,
              "#fb9f3a"
             ],
             [
              0.8888888888888888,
              "#fdca26"
             ],
             [
              1,
              "#f0f921"
             ]
            ],
            "type": "heatmapgl"
           }
          ],
          "histogram": [
           {
            "marker": {
             "colorbar": {
              "outlinewidth": 0,
              "ticks": ""
             }
            },
            "type": "histogram"
           }
          ],
          "histogram2d": [
           {
            "colorbar": {
             "outlinewidth": 0,
             "ticks": ""
            },
            "colorscale": [
             [
              0,
              "#0d0887"
             ],
             [
              0.1111111111111111,
              "#46039f"
             ],
             [
              0.2222222222222222,
              "#7201a8"
             ],
             [
              0.3333333333333333,
              "#9c179e"
             ],
             [
              0.4444444444444444,
              "#bd3786"
             ],
             [
              0.5555555555555556,
              "#d8576b"
             ],
             [
              0.6666666666666666,
              "#ed7953"
             ],
             [
              0.7777777777777778,
              "#fb9f3a"
             ],
             [
              0.8888888888888888,
              "#fdca26"
             ],
             [
              1,
              "#f0f921"
             ]
            ],
            "type": "histogram2d"
           }
          ],
          "histogram2dcontour": [
           {
            "colorbar": {
             "outlinewidth": 0,
             "ticks": ""
            },
            "colorscale": [
             [
              0,
              "#0d0887"
             ],
             [
              0.1111111111111111,
              "#46039f"
             ],
             [
              0.2222222222222222,
              "#7201a8"
             ],
             [
              0.3333333333333333,
              "#9c179e"
             ],
             [
              0.4444444444444444,
              "#bd3786"
             ],
             [
              0.5555555555555556,
              "#d8576b"
             ],
             [
              0.6666666666666666,
              "#ed7953"
             ],
             [
              0.7777777777777778,
              "#fb9f3a"
             ],
             [
              0.8888888888888888,
              "#fdca26"
             ],
             [
              1,
              "#f0f921"
             ]
            ],
            "type": "histogram2dcontour"
           }
          ],
          "mesh3d": [
           {
            "colorbar": {
             "outlinewidth": 0,
             "ticks": ""
            },
            "type": "mesh3d"
           }
          ],
          "parcoords": [
           {
            "line": {
             "colorbar": {
              "outlinewidth": 0,
              "ticks": ""
             }
            },
            "type": "parcoords"
           }
          ],
          "pie": [
           {
            "automargin": true,
            "type": "pie"
           }
          ],
          "scatter": [
           {
            "marker": {
             "colorbar": {
              "outlinewidth": 0,
              "ticks": ""
             }
            },
            "type": "scatter"
           }
          ],
          "scatter3d": [
           {
            "line": {
             "colorbar": {
              "outlinewidth": 0,
              "ticks": ""
             }
            },
            "marker": {
             "colorbar": {
              "outlinewidth": 0,
              "ticks": ""
             }
            },
            "type": "scatter3d"
           }
          ],
          "scattercarpet": [
           {
            "marker": {
             "colorbar": {
              "outlinewidth": 0,
              "ticks": ""
             }
            },
            "type": "scattercarpet"
           }
          ],
          "scattergeo": [
           {
            "marker": {
             "colorbar": {
              "outlinewidth": 0,
              "ticks": ""
             }
            },
            "type": "scattergeo"
           }
          ],
          "scattergl": [
           {
            "marker": {
             "colorbar": {
              "outlinewidth": 0,
              "ticks": ""
             }
            },
            "type": "scattergl"
           }
          ],
          "scattermapbox": [
           {
            "marker": {
             "colorbar": {
              "outlinewidth": 0,
              "ticks": ""
             }
            },
            "type": "scattermapbox"
           }
          ],
          "scatterpolar": [
           {
            "marker": {
             "colorbar": {
              "outlinewidth": 0,
              "ticks": ""
             }
            },
            "type": "scatterpolar"
           }
          ],
          "scatterpolargl": [
           {
            "marker": {
             "colorbar": {
              "outlinewidth": 0,
              "ticks": ""
             }
            },
            "type": "scatterpolargl"
           }
          ],
          "scatterternary": [
           {
            "marker": {
             "colorbar": {
              "outlinewidth": 0,
              "ticks": ""
             }
            },
            "type": "scatterternary"
           }
          ],
          "surface": [
           {
            "colorbar": {
             "outlinewidth": 0,
             "ticks": ""
            },
            "colorscale": [
             [
              0,
              "#0d0887"
             ],
             [
              0.1111111111111111,
              "#46039f"
             ],
             [
              0.2222222222222222,
              "#7201a8"
             ],
             [
              0.3333333333333333,
              "#9c179e"
             ],
             [
              0.4444444444444444,
              "#bd3786"
             ],
             [
              0.5555555555555556,
              "#d8576b"
             ],
             [
              0.6666666666666666,
              "#ed7953"
             ],
             [
              0.7777777777777778,
              "#fb9f3a"
             ],
             [
              0.8888888888888888,
              "#fdca26"
             ],
             [
              1,
              "#f0f921"
             ]
            ],
            "type": "surface"
           }
          ],
          "table": [
           {
            "cells": {
             "fill": {
              "color": "#EBF0F8"
             },
             "line": {
              "color": "white"
             }
            },
            "header": {
             "fill": {
              "color": "#C8D4E3"
             },
             "line": {
              "color": "white"
             }
            },
            "type": "table"
           }
          ]
         },
         "layout": {
          "annotationdefaults": {
           "arrowcolor": "#2a3f5f",
           "arrowhead": 0,
           "arrowwidth": 1
          },
          "autotypenumbers": "strict",
          "coloraxis": {
           "colorbar": {
            "outlinewidth": 0,
            "ticks": ""
           }
          },
          "colorscale": {
           "diverging": [
            [
             0,
             "#8e0152"
            ],
            [
             0.1,
             "#c51b7d"
            ],
            [
             0.2,
             "#de77ae"
            ],
            [
             0.3,
             "#f1b6da"
            ],
            [
             0.4,
             "#fde0ef"
            ],
            [
             0.5,
             "#f7f7f7"
            ],
            [
             0.6,
             "#e6f5d0"
            ],
            [
             0.7,
             "#b8e186"
            ],
            [
             0.8,
             "#7fbc41"
            ],
            [
             0.9,
             "#4d9221"
            ],
            [
             1,
             "#276419"
            ]
           ],
           "sequential": [
            [
             0,
             "#0d0887"
            ],
            [
             0.1111111111111111,
             "#46039f"
            ],
            [
             0.2222222222222222,
             "#7201a8"
            ],
            [
             0.3333333333333333,
             "#9c179e"
            ],
            [
             0.4444444444444444,
             "#bd3786"
            ],
            [
             0.5555555555555556,
             "#d8576b"
            ],
            [
             0.6666666666666666,
             "#ed7953"
            ],
            [
             0.7777777777777778,
             "#fb9f3a"
            ],
            [
             0.8888888888888888,
             "#fdca26"
            ],
            [
             1,
             "#f0f921"
            ]
           ],
           "sequentialminus": [
            [
             0,
             "#0d0887"
            ],
            [
             0.1111111111111111,
             "#46039f"
            ],
            [
             0.2222222222222222,
             "#7201a8"
            ],
            [
             0.3333333333333333,
             "#9c179e"
            ],
            [
             0.4444444444444444,
             "#bd3786"
            ],
            [
             0.5555555555555556,
             "#d8576b"
            ],
            [
             0.6666666666666666,
             "#ed7953"
            ],
            [
             0.7777777777777778,
             "#fb9f3a"
            ],
            [
             0.8888888888888888,
             "#fdca26"
            ],
            [
             1,
             "#f0f921"
            ]
           ]
          },
          "colorway": [
           "#636efa",
           "#EF553B",
           "#00cc96",
           "#ab63fa",
           "#FFA15A",
           "#19d3f3",
           "#FF6692",
           "#B6E880",
           "#FF97FF",
           "#FECB52"
          ],
          "font": {
           "color": "#2a3f5f"
          },
          "geo": {
           "bgcolor": "white",
           "lakecolor": "white",
           "landcolor": "#E5ECF6",
           "showlakes": true,
           "showland": true,
           "subunitcolor": "white"
          },
          "hoverlabel": {
           "align": "left"
          },
          "hovermode": "closest",
          "mapbox": {
           "style": "light"
          },
          "paper_bgcolor": "white",
          "plot_bgcolor": "#E5ECF6",
          "polar": {
           "angularaxis": {
            "gridcolor": "white",
            "linecolor": "white",
            "ticks": ""
           },
           "bgcolor": "#E5ECF6",
           "radialaxis": {
            "gridcolor": "white",
            "linecolor": "white",
            "ticks": ""
           }
          },
          "scene": {
           "xaxis": {
            "backgroundcolor": "#E5ECF6",
            "gridcolor": "white",
            "gridwidth": 2,
            "linecolor": "white",
            "showbackground": true,
            "ticks": "",
            "zerolinecolor": "white"
           },
           "yaxis": {
            "backgroundcolor": "#E5ECF6",
            "gridcolor": "white",
            "gridwidth": 2,
            "linecolor": "white",
            "showbackground": true,
            "ticks": "",
            "zerolinecolor": "white"
           },
           "zaxis": {
            "backgroundcolor": "#E5ECF6",
            "gridcolor": "white",
            "gridwidth": 2,
            "linecolor": "white",
            "showbackground": true,
            "ticks": "",
            "zerolinecolor": "white"
           }
          },
          "shapedefaults": {
           "line": {
            "color": "#2a3f5f"
           }
          },
          "ternary": {
           "aaxis": {
            "gridcolor": "white",
            "linecolor": "white",
            "ticks": ""
           },
           "baxis": {
            "gridcolor": "white",
            "linecolor": "white",
            "ticks": ""
           },
           "bgcolor": "#E5ECF6",
           "caxis": {
            "gridcolor": "white",
            "linecolor": "white",
            "ticks": ""
           }
          },
          "title": {
           "x": 0.05
          },
          "xaxis": {
           "automargin": true,
           "gridcolor": "white",
           "linecolor": "white",
           "ticks": "",
           "title": {
            "standoff": 15
           },
           "zerolinecolor": "white",
           "zerolinewidth": 2
          },
          "yaxis": {
           "automargin": true,
           "gridcolor": "white",
           "linecolor": "white",
           "ticks": "",
           "title": {
            "standoff": 15
           },
           "zerolinecolor": "white",
           "zerolinewidth": 2
          }
         }
        }
       }
      },
      "text/html": [
       "<div>                            <div id=\"c91dd620-7b75-4336-ab09-0a03e672b7b6\" class=\"plotly-graph-div\" style=\"height:525px; width:100%;\"></div>            <script type=\"text/javascript\">                require([\"plotly\"], function(Plotly) {                    window.PLOTLYENV=window.PLOTLYENV || {};                                    if (document.getElementById(\"c91dd620-7b75-4336-ab09-0a03e672b7b6\")) {                    Plotly.newPlot(                        \"c91dd620-7b75-4336-ab09-0a03e672b7b6\",                        [{\"close\": [292.3, 292.9, 293.0, 292.95, 293.0, 292.35, 292.2, 292.15, 292.35, 292.65, 293.05, 293.3, 293.25, 293.4, 293.45, 293.7, 293.75, 293.15, 293.1], \"high\": [292.45, 292.9, 293.2, 293.4, 293.0, 293.0, 292.55, 292.3, 292.55, 292.7, 293.25, 293.6, 293.45, 293.75, 293.5, 293.8, 294.0, 293.75, 293.35], \"low\": [292.0, 292.1, 292.75, 292.95, 292.75, 292.25, 292.1, 291.7, 292.05, 292.35, 292.6, 293.0, 293.05, 293.25, 293.25, 293.25, 293.5, 293.0, 292.65], \"open\": [292.3, 292.2, 292.75, 293.1, 292.95, 292.9, 292.35, 292.2, 292.3, 292.45, 292.65, 293.05, 293.3, 293.25, 293.4, 293.45, 293.7, 293.7, 292.65], \"type\": \"candlestick\", \"x\": [80, 81, 82, 83, 84, 85, 86, 87, 88, 89, 90, 91, 92, 93, 94, 95, 96, 97, 98]}],                        {\"template\": {\"data\": {\"bar\": [{\"error_x\": {\"color\": \"#2a3f5f\"}, \"error_y\": {\"color\": \"#2a3f5f\"}, \"marker\": {\"line\": {\"color\": \"#E5ECF6\", \"width\": 0.5}}, \"type\": \"bar\"}], \"barpolar\": [{\"marker\": {\"line\": {\"color\": \"#E5ECF6\", \"width\": 0.5}}, \"type\": \"barpolar\"}], \"carpet\": [{\"aaxis\": {\"endlinecolor\": \"#2a3f5f\", \"gridcolor\": \"white\", \"linecolor\": \"white\", \"minorgridcolor\": \"white\", \"startlinecolor\": \"#2a3f5f\"}, \"baxis\": {\"endlinecolor\": \"#2a3f5f\", \"gridcolor\": \"white\", \"linecolor\": \"white\", \"minorgridcolor\": \"white\", \"startlinecolor\": \"#2a3f5f\"}, \"type\": \"carpet\"}], \"choropleth\": [{\"colorbar\": {\"outlinewidth\": 0, \"ticks\": \"\"}, \"type\": \"choropleth\"}], \"contour\": [{\"colorbar\": {\"outlinewidth\": 0, \"ticks\": \"\"}, \"colorscale\": [[0.0, \"#0d0887\"], [0.1111111111111111, \"#46039f\"], [0.2222222222222222, \"#7201a8\"], [0.3333333333333333, \"#9c179e\"], [0.4444444444444444, \"#bd3786\"], [0.5555555555555556, \"#d8576b\"], [0.6666666666666666, \"#ed7953\"], [0.7777777777777778, \"#fb9f3a\"], [0.8888888888888888, \"#fdca26\"], [1.0, \"#f0f921\"]], \"type\": \"contour\"}], \"contourcarpet\": [{\"colorbar\": {\"outlinewidth\": 0, \"ticks\": \"\"}, \"type\": \"contourcarpet\"}], \"heatmap\": [{\"colorbar\": {\"outlinewidth\": 0, \"ticks\": \"\"}, \"colorscale\": [[0.0, \"#0d0887\"], [0.1111111111111111, \"#46039f\"], [0.2222222222222222, \"#7201a8\"], [0.3333333333333333, \"#9c179e\"], [0.4444444444444444, \"#bd3786\"], [0.5555555555555556, \"#d8576b\"], [0.6666666666666666, \"#ed7953\"], [0.7777777777777778, \"#fb9f3a\"], [0.8888888888888888, \"#fdca26\"], [1.0, \"#f0f921\"]], \"type\": \"heatmap\"}], \"heatmapgl\": [{\"colorbar\": {\"outlinewidth\": 0, \"ticks\": \"\"}, \"colorscale\": [[0.0, \"#0d0887\"], [0.1111111111111111, \"#46039f\"], [0.2222222222222222, \"#7201a8\"], [0.3333333333333333, \"#9c179e\"], [0.4444444444444444, \"#bd3786\"], [0.5555555555555556, \"#d8576b\"], [0.6666666666666666, \"#ed7953\"], [0.7777777777777778, \"#fb9f3a\"], [0.8888888888888888, \"#fdca26\"], [1.0, \"#f0f921\"]], \"type\": \"heatmapgl\"}], \"histogram\": [{\"marker\": {\"colorbar\": {\"outlinewidth\": 0, \"ticks\": \"\"}}, \"type\": \"histogram\"}], \"histogram2d\": [{\"colorbar\": {\"outlinewidth\": 0, \"ticks\": \"\"}, \"colorscale\": [[0.0, \"#0d0887\"], [0.1111111111111111, \"#46039f\"], [0.2222222222222222, \"#7201a8\"], [0.3333333333333333, \"#9c179e\"], [0.4444444444444444, \"#bd3786\"], [0.5555555555555556, \"#d8576b\"], [0.6666666666666666, \"#ed7953\"], [0.7777777777777778, \"#fb9f3a\"], [0.8888888888888888, \"#fdca26\"], [1.0, \"#f0f921\"]], \"type\": \"histogram2d\"}], \"histogram2dcontour\": [{\"colorbar\": {\"outlinewidth\": 0, \"ticks\": \"\"}, \"colorscale\": [[0.0, \"#0d0887\"], [0.1111111111111111, \"#46039f\"], [0.2222222222222222, \"#7201a8\"], [0.3333333333333333, \"#9c179e\"], [0.4444444444444444, \"#bd3786\"], [0.5555555555555556, \"#d8576b\"], [0.6666666666666666, \"#ed7953\"], [0.7777777777777778, \"#fb9f3a\"], [0.8888888888888888, \"#fdca26\"], [1.0, \"#f0f921\"]], \"type\": \"histogram2dcontour\"}], \"mesh3d\": [{\"colorbar\": {\"outlinewidth\": 0, \"ticks\": \"\"}, \"type\": \"mesh3d\"}], \"parcoords\": [{\"line\": {\"colorbar\": {\"outlinewidth\": 0, \"ticks\": \"\"}}, \"type\": \"parcoords\"}], \"pie\": [{\"automargin\": true, \"type\": \"pie\"}], \"scatter\": [{\"marker\": {\"colorbar\": {\"outlinewidth\": 0, \"ticks\": \"\"}}, \"type\": \"scatter\"}], \"scatter3d\": [{\"line\": {\"colorbar\": {\"outlinewidth\": 0, \"ticks\": \"\"}}, \"marker\": {\"colorbar\": {\"outlinewidth\": 0, \"ticks\": \"\"}}, \"type\": \"scatter3d\"}], \"scattercarpet\": [{\"marker\": {\"colorbar\": {\"outlinewidth\": 0, \"ticks\": \"\"}}, \"type\": \"scattercarpet\"}], \"scattergeo\": [{\"marker\": {\"colorbar\": {\"outlinewidth\": 0, \"ticks\": \"\"}}, \"type\": \"scattergeo\"}], \"scattergl\": [{\"marker\": {\"colorbar\": {\"outlinewidth\": 0, \"ticks\": \"\"}}, \"type\": \"scattergl\"}], \"scattermapbox\": [{\"marker\": {\"colorbar\": {\"outlinewidth\": 0, \"ticks\": \"\"}}, \"type\": \"scattermapbox\"}], \"scatterpolar\": [{\"marker\": {\"colorbar\": {\"outlinewidth\": 0, \"ticks\": \"\"}}, \"type\": \"scatterpolar\"}], \"scatterpolargl\": [{\"marker\": {\"colorbar\": {\"outlinewidth\": 0, \"ticks\": \"\"}}, \"type\": \"scatterpolargl\"}], \"scatterternary\": [{\"marker\": {\"colorbar\": {\"outlinewidth\": 0, \"ticks\": \"\"}}, \"type\": \"scatterternary\"}], \"surface\": [{\"colorbar\": {\"outlinewidth\": 0, \"ticks\": \"\"}, \"colorscale\": [[0.0, \"#0d0887\"], [0.1111111111111111, \"#46039f\"], [0.2222222222222222, \"#7201a8\"], [0.3333333333333333, \"#9c179e\"], [0.4444444444444444, \"#bd3786\"], [0.5555555555555556, \"#d8576b\"], [0.6666666666666666, \"#ed7953\"], [0.7777777777777778, \"#fb9f3a\"], [0.8888888888888888, \"#fdca26\"], [1.0, \"#f0f921\"]], \"type\": \"surface\"}], \"table\": [{\"cells\": {\"fill\": {\"color\": \"#EBF0F8\"}, \"line\": {\"color\": \"white\"}}, \"header\": {\"fill\": {\"color\": \"#C8D4E3\"}, \"line\": {\"color\": \"white\"}}, \"type\": \"table\"}]}, \"layout\": {\"annotationdefaults\": {\"arrowcolor\": \"#2a3f5f\", \"arrowhead\": 0, \"arrowwidth\": 1}, \"autotypenumbers\": \"strict\", \"coloraxis\": {\"colorbar\": {\"outlinewidth\": 0, \"ticks\": \"\"}}, \"colorscale\": {\"diverging\": [[0, \"#8e0152\"], [0.1, \"#c51b7d\"], [0.2, \"#de77ae\"], [0.3, \"#f1b6da\"], [0.4, \"#fde0ef\"], [0.5, \"#f7f7f7\"], [0.6, \"#e6f5d0\"], [0.7, \"#b8e186\"], [0.8, \"#7fbc41\"], [0.9, \"#4d9221\"], [1, \"#276419\"]], \"sequential\": [[0.0, \"#0d0887\"], [0.1111111111111111, \"#46039f\"], [0.2222222222222222, \"#7201a8\"], [0.3333333333333333, \"#9c179e\"], [0.4444444444444444, \"#bd3786\"], [0.5555555555555556, \"#d8576b\"], [0.6666666666666666, \"#ed7953\"], [0.7777777777777778, \"#fb9f3a\"], [0.8888888888888888, \"#fdca26\"], [1.0, \"#f0f921\"]], \"sequentialminus\": [[0.0, \"#0d0887\"], [0.1111111111111111, \"#46039f\"], [0.2222222222222222, \"#7201a8\"], [0.3333333333333333, \"#9c179e\"], [0.4444444444444444, \"#bd3786\"], [0.5555555555555556, \"#d8576b\"], [0.6666666666666666, \"#ed7953\"], [0.7777777777777778, \"#fb9f3a\"], [0.8888888888888888, \"#fdca26\"], [1.0, \"#f0f921\"]]}, \"colorway\": [\"#636efa\", \"#EF553B\", \"#00cc96\", \"#ab63fa\", \"#FFA15A\", \"#19d3f3\", \"#FF6692\", \"#B6E880\", \"#FF97FF\", \"#FECB52\"], \"font\": {\"color\": \"#2a3f5f\"}, \"geo\": {\"bgcolor\": \"white\", \"lakecolor\": \"white\", \"landcolor\": \"#E5ECF6\", \"showlakes\": true, \"showland\": true, \"subunitcolor\": \"white\"}, \"hoverlabel\": {\"align\": \"left\"}, \"hovermode\": \"closest\", \"mapbox\": {\"style\": \"light\"}, \"paper_bgcolor\": \"white\", \"plot_bgcolor\": \"#E5ECF6\", \"polar\": {\"angularaxis\": {\"gridcolor\": \"white\", \"linecolor\": \"white\", \"ticks\": \"\"}, \"bgcolor\": \"#E5ECF6\", \"radialaxis\": {\"gridcolor\": \"white\", \"linecolor\": \"white\", \"ticks\": \"\"}}, \"scene\": {\"xaxis\": {\"backgroundcolor\": \"#E5ECF6\", \"gridcolor\": \"white\", \"gridwidth\": 2, \"linecolor\": \"white\", \"showbackground\": true, \"ticks\": \"\", \"zerolinecolor\": \"white\"}, \"yaxis\": {\"backgroundcolor\": \"#E5ECF6\", \"gridcolor\": \"white\", \"gridwidth\": 2, \"linecolor\": \"white\", \"showbackground\": true, \"ticks\": \"\", \"zerolinecolor\": \"white\"}, \"zaxis\": {\"backgroundcolor\": \"#E5ECF6\", \"gridcolor\": \"white\", \"gridwidth\": 2, \"linecolor\": \"white\", \"showbackground\": true, \"ticks\": \"\", \"zerolinecolor\": \"white\"}}, \"shapedefaults\": {\"line\": {\"color\": \"#2a3f5f\"}}, \"ternary\": {\"aaxis\": {\"gridcolor\": \"white\", \"linecolor\": \"white\", \"ticks\": \"\"}, \"baxis\": {\"gridcolor\": \"white\", \"linecolor\": \"white\", \"ticks\": \"\"}, \"bgcolor\": \"#E5ECF6\", \"caxis\": {\"gridcolor\": \"white\", \"linecolor\": \"white\", \"ticks\": \"\"}}, \"title\": {\"x\": 0.05}, \"xaxis\": {\"automargin\": true, \"gridcolor\": \"white\", \"linecolor\": \"white\", \"ticks\": \"\", \"title\": {\"standoff\": 15}, \"zerolinecolor\": \"white\", \"zerolinewidth\": 2}, \"yaxis\": {\"automargin\": true, \"gridcolor\": \"white\", \"linecolor\": \"white\", \"ticks\": \"\", \"title\": {\"standoff\": 15}, \"zerolinecolor\": \"white\", \"zerolinewidth\": 2}}}},                        {\"responsive\": true}                    ).then(function(){\n",
       "                            \n",
       "var gd = document.getElementById('c91dd620-7b75-4336-ab09-0a03e672b7b6');\n",
       "var x = new MutationObserver(function (mutations, observer) {{\n",
       "        var display = window.getComputedStyle(gd).display;\n",
       "        if (!display || display === 'none') {{\n",
       "            console.log([gd, 'removed!']);\n",
       "            Plotly.purge(gd);\n",
       "            observer.disconnect();\n",
       "        }}\n",
       "}});\n",
       "\n",
       "// Listen for the removal of the full notebook cells\n",
       "var notebookContainer = gd.closest('#notebook-container');\n",
       "if (notebookContainer) {{\n",
       "    x.observe(notebookContainer, {childList: true});\n",
       "}}\n",
       "\n",
       "// Listen for the clearing of the current output cell\n",
       "var outputEl = gd.closest('.output');\n",
       "if (outputEl) {{\n",
       "    x.observe(outputEl, {childList: true});\n",
       "}}\n",
       "\n",
       "                        })                };                });            </script>        </div>"
      ]
     },
     "metadata": {},
     "output_type": "display_data"
    }
   ],
   "source": [
    "candle_graph(data_list[0],\"DLF\")"
   ]
  },
  {
   "cell_type": "code",
   "execution_count": null,
   "id": "4e4a8906",
   "metadata": {},
   "outputs": [],
   "source": []
  }
 ],
 "metadata": {
  "kernelspec": {
   "display_name": "Python 3",
   "language": "python",
   "name": "python3"
  },
  "language_info": {
   "codemirror_mode": {
    "name": "ipython",
    "version": 3
   },
   "file_extension": ".py",
   "mimetype": "text/x-python",
   "name": "python",
   "nbconvert_exporter": "python",
   "pygments_lexer": "ipython3",
   "version": "3.8.10"
  }
 },
 "nbformat": 4,
 "nbformat_minor": 5
}
