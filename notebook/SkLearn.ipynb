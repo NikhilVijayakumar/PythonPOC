{
 "cells": [
  {
   "cell_type": "code",
   "execution_count": 1,
   "id": "24adef64",
   "metadata": {},
   "outputs": [],
   "source": [
    "import pandas as pd\n",
    "import random\n",
    "import numpy as np\n",
    "import os\n",
    "import warnings\n",
    "import joblib\n",
    "from sklearn.model_selection import train_test_split\n",
    "from sklearn.linear_model import LogisticRegression\n",
    "from sklearn.linear_model import LinearRegression\n",
    "from sklearn import metrics\n",
    "from sklearn.preprocessing import StandardScaler\n",
    "from sklearn.metrics import classification_report\n",
    "warnings.filterwarnings('ignore')"
   ]
  },
  {
   "cell_type": "code",
   "execution_count": 2,
   "id": "370037f1",
   "metadata": {},
   "outputs": [],
   "source": [
    "trading_list = {\n",
    "    \"IOC\": {\"price\": 102.80, \"leverage\": 9, \"reward\": 1.5, \"risk\": 0.75},\n",
    "    \"TATAPOWER\": {\"price\": 109.35, \"leverage\": 8, \"reward\": 1.5, \"risk\": 0.75},\n",
    "    \"ONGC\": {\"price\": 115.10, \"leverage\": 9, \"reward\": 1.5, \"risk\": 0.75},\n",
    "    \"GAIL\": {\"price\": 161.05, \"leverage\": 9, \"reward\": 1.5, \"risk\": 0.75},\n",
    "    \"ITC\": {\"price\": 203.25, \"leverage\": 9, \"reward\": 2, \"risk\": 1},\n",
    "    \"HINDPETRO\": {\"price\": 262.25, \"leverage\": 10, \"reward\": 1.5, \"risk\": 0.75},\n",
    "    \"DLF\": {\"price\": 265.30, \"leverage\": 8, \"reward\": 1.5, \"risk\": 0.75},\n",
    "    \"AMBUJACEM\": {\"price\": 309.05, \"leverage\": 9, \"reward\": 2, \"risk\": 1},\n",
    "    \"TATAMOTORS\": {\"price\": 315.55, \"leverage\": 7, \"reward\": 2, \"risk\": 1},\n",
    "    \"HINDZINC\": {\"price\": 317.10, \"leverage\": 10, \"reward\": 2, \"risk\": 1},\n",
    "    \"SBIN\": {\"price\": 364.65, \"leverage\": 9, \"reward\": 2, \"risk\": 1},\n",
    "    \"WIPRO\": {\"price\": 507.60, \"leverage\": 9, \"reward\": 2, \"risk\": 1},\n",
    "    \"DABUR\": {\"price\": 529.20, \"leverage\": 9, \"reward\": 2, \"risk\": 1},\n",
    "    \"BHARTIARTL\": {\"price\": 561.75, \"leverage\": 9, \"reward\": 2, \"risk\": 1},\n",
    "    \"ICICIBANK\": {\"price\": 594.75, \"leverage\": 9, \"reward\": 2, \"risk\": 1},\n",
    "    \"TATACONSUM\": {\"price\": 640.05, \"leverage\": 9, \"reward\": 2, \"risk\": 1}\n",
    "}\n",
    "ticker_list = list(trading_list.keys())\n",
    "parallel_trade = 3\n",
    "wallet = 5000\n",
    "directory = \"data//machine_learning//model//\"\n",
    "if not os.path.exists(directory):\n",
    "    os.makedirs(directory)\n",
    "logistic_regression_filename = 'money_manager_logistic_regression.nik'\n",
    "linear_regression_filename = 'money_manager_linear_regression.nik'"
   ]
  },
  {
   "cell_type": "code",
   "execution_count": 3,
   "id": "f09a502e",
   "metadata": {},
   "outputs": [],
   "source": [
    "def get_data(days):\n",
    "    directory = \"E:\\\\Workspace\\\\Python\\\\Trading\\\\src\\\\notebook\\\\data\\\\last_60\\\\17_05_2021\\\\days\\\\\"\n",
    "    name = str(days) + \".csv\"\n",
    "    return pd.read_csv(directory+name)"
   ]
  },
  {
   "cell_type": "code",
   "execution_count": 4,
   "id": "f2a330fd",
   "metadata": {},
   "outputs": [],
   "source": [
    "def split_ticker(data):\n",
    "    IOC = data[data[\"ticker\"]==\"IOC\"].reset_index().drop(['index'], axis=1)\n",
    "    TATAPOWER = data[data[\"ticker\"]==\"TATAPOWER\"].reset_index().drop(['index'], axis=1)\n",
    "    ONGC = data[data[\"ticker\"]==\"ONGC\"].reset_index().drop(['index'], axis=1)\n",
    "    GAIL = data[data[\"ticker\"]==\"GAIL\"].reset_index().drop(['index'], axis=1)\n",
    "    ITC = data[data[\"ticker\"]==\"ITC\"].reset_index().drop(['index'], axis=1)\n",
    "    HINDPETRO = data[data[\"ticker\"]==\"HINDPETRO\"].reset_index().drop(['index'], axis=1)\n",
    "    DLF = data[data[\"ticker\"]==\"DLF\"].reset_index().drop(['index'], axis=1)\n",
    "    AMBUJACEM = data[data[\"ticker\"]==\"AMBUJACEM\"].reset_index().drop(['index'], axis=1)\n",
    "    TATAMOTORS = data[data[\"ticker\"]==\"TATAMOTORS\"].reset_index().drop(['index'], axis=1)\n",
    "    HINDZINC = data[data[\"ticker\"]==\"HINDZINC\"].reset_index().drop(['index'], axis=1)\n",
    "    SBIN = data[data[\"ticker\"]==\"SBIN\"].reset_index().drop(['index'], axis=1)\n",
    "    WIPRO = data[data[\"ticker\"]==\"WIPRO\"].reset_index().drop(['index'], axis=1)\n",
    "    DABUR = data[data[\"ticker\"]==\"DABUR\"].reset_index().drop(['index'], axis=1)\n",
    "    BHARTIARTL = data[data[\"ticker\"]==\"BHARTIARTL\"].reset_index().drop(['index'], axis=1)\n",
    "    ICICIBANK = data[data[\"ticker\"]==\"ICICIBANK\"].reset_index().drop(['index'], axis=1)\n",
    "    TATACONSUM = data[data[\"ticker\"]==\"TATACONSUM\"].reset_index().drop(['index'], axis=1)\n",
    "    return {\n",
    "    \"IOC\": IOC,\n",
    "    \"TATAPOWER\": TATAPOWER,\n",
    "    \"ONGC\": ONGC,\n",
    "    \"GAIL\": GAIL,\n",
    "    \"ITC\": ITC,\n",
    "    \"HINDPETRO\": HINDPETRO,\n",
    "    \"DLF\": DLF,\n",
    "    \"AMBUJACEM\": AMBUJACEM,\n",
    "    \"TATAMOTORS\": TATAMOTORS,\n",
    "    \"HINDZINC\": HINDZINC,\n",
    "    \"SBIN\": SBIN,\n",
    "    \"WIPRO\": WIPRO,\n",
    "    \"DABUR\": DABUR,\n",
    "    \"BHARTIARTL\": BHARTIARTL,\n",
    "    \"ICICIBANK\": ICICIBANK,\n",
    "    \"TATACONSUM\": TATACONSUM\n",
    "}"
   ]
  },
  {
   "cell_type": "code",
   "execution_count": 5,
   "id": "b92abd7c",
   "metadata": {},
   "outputs": [],
   "source": [
    "def process_data(data):\n",
    "    trade_data = pd.DataFrame(columns=['close'])\n",
    "    split_data = split_ticker(data)\n",
    "    ticker_map = {\n",
    "    \"IOC\": 1,\n",
    "    \"TATAPOWER\": 2,\n",
    "    \"ONGC\": 3,\n",
    "    \"GAIL\": 4,\n",
    "    \"ITC\": 5,\n",
    "    \"HINDPETRO\": 6,\n",
    "    \"DLF\": 7,\n",
    "    \"AMBUJACEM\": 8,\n",
    "    \"TATAMOTORS\": 9,\n",
    "    \"HINDZINC\": 10,\n",
    "    \"SBIN\": 11,\n",
    "    \"WIPRO\": 12,\n",
    "    \"DABUR\": 13,\n",
    "    \"BHARTIARTL\": 14,\n",
    "    \"ICICIBANK\": 15,\n",
    "    \"TATACONSUM\": 16\n",
    "}\n",
    "    for ticker in ticker_list:        \n",
    "        ticker_data = split_data[ticker]\n",
    "        ticker_data['wallet'] =random.randint(5000, 20001)\n",
    "        ticker_data['parallel_trade'] =random.randint(3, 5)\n",
    "        ticker_data['leverage'] =random.randint(5, 20)\n",
    "        ticker_data['trading_budget'] =(ticker_data.wallet * ticker_data.leverage)\n",
    "        ticker_data['share_budget'] =(ticker_data.close * ticker_data.parallel_trade)\n",
    "        ticker_data['number_of_share'] = round((ticker_data.trading_budget) \n",
    "                                               / (ticker_data.share_budget)) - 1        \n",
    "        trade_data = trade_data.append(ticker_data, ignore_index=True)\n",
    "    trade_data = trade_data.applymap(lambda ticker: ticker_map.get(ticker) if ticker in ticker_map else ticker)\n",
    "    return trade_data  "
   ]
  },
  {
   "cell_type": "code",
   "execution_count": 6,
   "id": "2114ffba",
   "metadata": {},
   "outputs": [],
   "source": [
    "def generate_data():\n",
    "    display(\"Started\")\n",
    "    data = pd.DataFrame(columns=['close','ticker'])\n",
    "    for day in range(1,39):    \n",
    "        day_data = get_data(day)\n",
    "        day_data = process_data(day_data[[\"close\",'ticker']])\n",
    "        data = data.append(day_data, ignore_index=True)\n",
    "    display(\"Data loading completed\")\n",
    "    return data"
   ]
  },
  {
   "cell_type": "code",
   "execution_count": 7,
   "id": "797e60b1",
   "metadata": {},
   "outputs": [],
   "source": [
    "def split_train_data(data):\n",
    "    x = data[['close','wallet','parallel_trade','leverage','trading_budget','share_budget']]\n",
    "    y = data['number_of_share']  \n",
    "    cols_to_norm = x.columns\n",
    "    x[cols_to_norm] = StandardScaler().fit_transform(x[cols_to_norm])\n",
    "    return train_test_split(x, y, test_size=0.3)"
   ]
  },
  {
   "cell_type": "code",
   "execution_count": 8,
   "id": "7e87c28d",
   "metadata": {},
   "outputs": [],
   "source": [
    "def create_linear_regression_model(x_train, x_test, y_train, y_test):   \n",
    "    linear_regression = LinearRegression()\n",
    "    linear_regression.fit(x_train,y_train)\n",
    "    display(\"Training model Completed\")\n",
    "    score = linear_regression.score(x_test,y_test)\n",
    "    predictions = linear_regression.predict(x_test)\n",
    "    display(\"Test score: {0:.2f} %\".format(100 * score))    \n",
    "    display('MAE:', metrics.mean_absolute_error(y_test, predictions))\n",
    "    display('MSE:', metrics.mean_squared_error(y_test, predictions))\n",
    "    display('RMSE:', np.sqrt(metrics.mean_squared_error(y_test, predictions)))\n",
    "    return linear_regression"
   ]
  },
  {
   "cell_type": "code",
   "execution_count": 9,
   "id": "663253dd",
   "metadata": {},
   "outputs": [],
   "source": [
    "def create_logistic_regression_model(x_train, x_test, y_train, y_test):  \n",
    "    logistic_regression = LogisticRegression()\n",
    "    logistic_regression.fit(x_train,y_train)\n",
    "    display(\"Training model Completed\")\n",
    "    score = logistic_regression.score(x_test,y_test)\n",
    "    predictions = logistic_regression.predict(x_test)\n",
    "    display(\"Test score: {0:.2f} %\".format(100 * score))    \n",
    "    display('MAE:', metrics.mean_absolute_error(y_test, predictions))\n",
    "    display('MSE:', metrics.mean_squared_error(y_test, predictions))\n",
    "    display('RMSE:', np.sqrt(metrics.mean_squared_error(y_test, predictions)))\n",
    "    return logistic_regression"
   ]
  },
  {
   "cell_type": "code",
   "execution_count": 10,
   "id": "75cc63d4",
   "metadata": {},
   "outputs": [],
   "source": [
    "def save_model(model, joblib_file):\n",
    "    display(\"Saving model\")\n",
    "    if os.path.exists(joblib_file):\n",
    "        os.remove(joblib_file)\n",
    "    joblib.dump(model, joblib_file)"
   ]
  },
  {
   "cell_type": "code",
   "execution_count": 11,
   "id": "63b85cf0",
   "metadata": {},
   "outputs": [],
   "source": [
    " def save(data,name,index=False):\n",
    "        data.to_csv(name, index=index)"
   ]
  },
  {
   "cell_type": "code",
   "execution_count": 12,
   "id": "3be68a25",
   "metadata": {},
   "outputs": [],
   "source": [
    "def load_model(joblib_file):\n",
    "    display(\"Loading model\")\n",
    "    return joblib.load(joblib_file)"
   ]
  },
  {
   "cell_type": "code",
   "execution_count": 13,
   "id": "13ba6d71",
   "metadata": {},
   "outputs": [
    {
     "data": {
      "text/plain": [
       "'Started'"
      ]
     },
     "metadata": {},
     "output_type": "display_data"
    },
    {
     "data": {
      "text/plain": [
       "'Data loading completed'"
      ]
     },
     "metadata": {},
     "output_type": "display_data"
    }
   ],
   "source": [
    "regression_data = generate_data()\n",
    "x_train, x_test, y_train, y_test = split_train_data(regression_data)"
   ]
  },
  {
   "cell_type": "code",
   "execution_count": 14,
   "id": "09f0ff39",
   "metadata": {},
   "outputs": [],
   "source": [
    "filename =\"data\\\\last_60\\\\17_05_2021\\\\days\\\\regression_data.csv\"\n",
    "save(regression_data,filename)"
   ]
  },
  {
   "cell_type": "code",
   "execution_count": 15,
   "id": "2e44d524",
   "metadata": {},
   "outputs": [
    {
     "data": {
      "text/plain": [
       "'Training model Completed'"
      ]
     },
     "metadata": {},
     "output_type": "display_data"
    },
    {
     "data": {
      "text/plain": [
       "'Test score: 19.84 %'"
      ]
     },
     "metadata": {},
     "output_type": "display_data"
    },
    {
     "data": {
      "text/plain": [
       "'MAE:'"
      ]
     },
     "metadata": {},
     "output_type": "display_data"
    },
    {
     "data": {
      "text/plain": [
       "19.169517543859648"
      ]
     },
     "metadata": {},
     "output_type": "display_data"
    },
    {
     "data": {
      "text/plain": [
       "'MSE:'"
      ]
     },
     "metadata": {},
     "output_type": "display_data"
    },
    {
     "data": {
      "text/plain": [
       "2104.1316520467835"
      ]
     },
     "metadata": {},
     "output_type": "display_data"
    },
    {
     "data": {
      "text/plain": [
       "'RMSE:'"
      ]
     },
     "metadata": {},
     "output_type": "display_data"
    },
    {
     "data": {
      "text/plain": [
       "45.87081481777693"
      ]
     },
     "metadata": {},
     "output_type": "display_data"
    },
    {
     "data": {
      "text/plain": [
       "'Saving model'"
      ]
     },
     "metadata": {},
     "output_type": "display_data"
    }
   ],
   "source": [
    "joblib_file = directory + logistic_regression_filename\n",
    "save_model(create_logistic_regression_model(x_train, x_test, y_train, y_test),joblib_file)"
   ]
  },
  {
   "cell_type": "code",
   "execution_count": 16,
   "id": "ab5b6322",
   "metadata": {},
   "outputs": [
    {
     "data": {
      "text/plain": [
       "'Training model Completed'"
      ]
     },
     "metadata": {},
     "output_type": "display_data"
    },
    {
     "data": {
      "text/plain": [
       "'Test score: 72.68 %'"
      ]
     },
     "metadata": {},
     "output_type": "display_data"
    },
    {
     "data": {
      "text/plain": [
       "'MAE:'"
      ]
     },
     "metadata": {},
     "output_type": "display_data"
    },
    {
     "data": {
      "text/plain": [
       "64.67637807298925"
      ]
     },
     "metadata": {},
     "output_type": "display_data"
    },
    {
     "data": {
      "text/plain": [
       "'MSE:'"
      ]
     },
     "metadata": {},
     "output_type": "display_data"
    },
    {
     "data": {
      "text/plain": [
       "7529.978287887301"
      ]
     },
     "metadata": {},
     "output_type": "display_data"
    },
    {
     "data": {
      "text/plain": [
       "'RMSE:'"
      ]
     },
     "metadata": {},
     "output_type": "display_data"
    },
    {
     "data": {
      "text/plain": [
       "86.77544749459551"
      ]
     },
     "metadata": {},
     "output_type": "display_data"
    },
    {
     "data": {
      "text/plain": [
       "'Saving model'"
      ]
     },
     "metadata": {},
     "output_type": "display_data"
    }
   ],
   "source": [
    "joblib_file = directory + linear_regression_filename\n",
    "save_model(create_linear_regression_model(x_train, x_test, y_train, y_test),joblib_file)"
   ]
  },
  {
   "cell_type": "code",
   "execution_count": null,
   "id": "e189065b",
   "metadata": {},
   "outputs": [],
   "source": []
  }
 ],
 "metadata": {
  "kernelspec": {
   "display_name": "Python 3",
   "language": "python",
   "name": "python3"
  },
  "language_info": {
   "codemirror_mode": {
    "name": "ipython",
    "version": 3
   },
   "file_extension": ".py",
   "mimetype": "text/x-python",
   "name": "python",
   "nbconvert_exporter": "python",
   "pygments_lexer": "ipython3",
   "version": "3.8.10"
  }
 },
 "nbformat": 4,
 "nbformat_minor": 5
}
